{
  "nbformat": 4,
  "nbformat_minor": 0,
  "metadata": {
    "colab": {
      "name": "Inst of norm final.ipynb",
      "version": "0.3.2",
      "provenance": []
    },
    "kernelspec": {
      "name": "python3",
      "display_name": "Python 3"
    },
    "accelerator": "GPU"
  },
  "cells": [
    {
      "metadata": {
        "id": "iUWHbeLYUOC5",
        "colab_type": "code",
        "outputId": "0a9a46e5-c799-47f1-e3bd-3f8c540ef0f8",
        "colab": {
          "base_uri": "https://localhost:8080/",
          "height": 394
        }
      },
      "cell_type": "code",
      "source": [
        "!pip3 install torch\n",
        "!pip3 install torchvision\n",
        "!pip3 install tqdm\n"
      ],
      "execution_count": 1,
      "outputs": [
        {
          "output_type": "stream",
          "text": [
            "Collecting torch\n",
            "\u001b[?25l  Downloading https://files.pythonhosted.org/packages/7e/60/66415660aa46b23b5e1b72bc762e816736ce8d7260213e22365af51e8f9c/torch-1.0.0-cp36-cp36m-manylinux1_x86_64.whl (591.8MB)\n",
            "\u001b[K    100% |████████████████████████████████| 591.8MB 28kB/s \n",
            "tcmalloc: large alloc 1073750016 bytes == 0x6218c000 @  0x7fdf3142a2a4 0x591a07 0x5b5d56 0x502e9a 0x506859 0x502209 0x502f3d 0x506859 0x504c28 0x502540 0x502f3d 0x506859 0x504c28 0x502540 0x502f3d 0x506859 0x504c28 0x502540 0x502f3d 0x507641 0x502209 0x502f3d 0x506859 0x504c28 0x502540 0x502f3d 0x507641 0x504c28 0x502540 0x502f3d 0x507641\n",
            "\u001b[?25hInstalling collected packages: torch\n",
            "Successfully installed torch-1.0.0\n",
            "Collecting torchvision\n",
            "\u001b[?25l  Downloading https://files.pythonhosted.org/packages/ca/0d/f00b2885711e08bd71242ebe7b96561e6f6d01fdb4b9dcf4d37e2e13c5e1/torchvision-0.2.1-py2.py3-none-any.whl (54kB)\n",
            "\u001b[K    100% |████████████████████████████████| 61kB 2.5MB/s \n",
            "\u001b[?25hCollecting pillow>=4.1.1 (from torchvision)\n",
            "\u001b[?25l  Downloading https://files.pythonhosted.org/packages/62/94/5430ebaa83f91cc7a9f687ff5238e26164a779cca2ef9903232268b0a318/Pillow-5.3.0-cp36-cp36m-manylinux1_x86_64.whl (2.0MB)\n",
            "\u001b[K    100% |████████████████████████████████| 2.0MB 14.3MB/s \n",
            "\u001b[?25hRequirement already satisfied: torch in /usr/local/lib/python3.6/dist-packages (from torchvision) (1.0.0)\n",
            "Requirement already satisfied: six in /usr/local/lib/python3.6/dist-packages (from torchvision) (1.11.0)\n",
            "Requirement already satisfied: numpy in /usr/local/lib/python3.6/dist-packages (from torchvision) (1.14.6)\n",
            "Installing collected packages: pillow, torchvision\n",
            "  Found existing installation: Pillow 4.0.0\n",
            "    Uninstalling Pillow-4.0.0:\n",
            "      Successfully uninstalled Pillow-4.0.0\n",
            "Successfully installed pillow-5.3.0 torchvision-0.2.1\n",
            "Requirement already satisfied: tqdm in /usr/local/lib/python3.6/dist-packages (4.28.1)\n"
          ],
          "name": "stdout"
        }
      ]
    },
    {
      "metadata": {
        "id": "KP8tdK75UD_a",
        "colab_type": "code",
        "outputId": "870df0bf-87fc-4ec7-99b0-ca44cbacca0b",
        "colab": {
          "base_uri": "https://localhost:8080/",
          "height": 34
        }
      },
      "cell_type": "code",
      "source": [
        "%pylab inline\n",
        "from torchvision import datasets, transforms\n",
        "from torch import nn, optim\n",
        "from torch.nn import functional as F\n",
        "import os\n",
        "import torch\n",
        "#from tqdm import tqdm_notebook as tqdm\n",
        "import tqdm\n",
        "from PIL import Image\n",
        "#os.environ[\"CUDA_DEVICE_ORDER\"]=\"PCI_BUS_ID\"   # see issue #152\n",
        "#os.environ[\"CUDA_VISIBLE_DEVICES\"]=\"2\"\n",
        "# from skimage.restoration import denoise_tv_bregman\n",
        "\n",
        "MNIST_PATH = 'data/mnist'\n",
        "device = torch.device(\"cuda\" if torch.cuda.is_available() else \"cpu\")"
      ],
      "execution_count": 2,
      "outputs": [
        {
          "output_type": "stream",
          "text": [
            "Populating the interactive namespace from numpy and matplotlib\n"
          ],
          "name": "stdout"
        }
      ]
    },
    {
      "metadata": {
        "id": "skDe1-NpUD_i",
        "colab_type": "code",
        "outputId": "44b257fe-b8b1-4fdf-94a1-49ef363208c3",
        "colab": {
          "base_uri": "https://localhost:8080/",
          "height": 34
        }
      },
      "cell_type": "code",
      "source": [
        "device"
      ],
      "execution_count": 4,
      "outputs": [
        {
          "output_type": "execute_result",
          "data": {
            "text/plain": [
              "device(type='cuda')"
            ]
          },
          "metadata": {
            "tags": []
          },
          "execution_count": 4
        }
      ]
    },
    {
      "metadata": {
        "id": "pmWKUc3WUD_p",
        "colab_type": "code",
        "colab": {}
      },
      "cell_type": "code",
      "source": [
        "class MNISTModel(nn.Module):\n",
        "    def __init__(self):\n",
        "        super(MNISTModel, self).__init__()\n",
        "        self.conv1 = nn.Conv2d(1, 10, kernel_size=5, stride=2)\n",
        "        self.conv2 = nn.Conv2d(10, 20, kernel_size=5, stride=2)\n",
        "        \n",
        "        #self.conv2_drop = nn.Dropout2d()\n",
        "        \n",
        "        self.in1 = nn.InstanceNorm2d(20)\n",
        "        self.fc1 = nn.Linear(320, 50)\n",
        "        self.fc2 = nn.Linear(50, 10)\n",
        "\n",
        "    def forward(self, x):\n",
        "        x = F.relu(self.conv1(x))\n",
        "        x = F.relu(self.conv2(x))\n",
        "        x = self.in1(x)\n",
        "        x = x.view(-1, 320)\n",
        "        x = F.relu(self.fc1(x))\n",
        "#         x = F.dropout(x, training=self.training)\n",
        "        x = self.fc2(x)\n",
        "\n",
        "        return F.log_softmax(x, dim=1)\n",
        "    def get_fc1(self, x):\n",
        "        x = F.relu(self.conv1(x))\n",
        "        x = F.relu(self.conv2(x))\n",
        "        x = self.in1(x)\n",
        "        x = x.view(-1, 320)\n",
        "        x = F.relu(self.fc1(x))\n",
        "        return x\n",
        "    \n",
        "    def get_fc2(self, x):\n",
        "        x = F.relu(self.conv1(x))\n",
        "        x = F.relu(self.conv2(x))\n",
        "        x = self.in1(x)\n",
        "        x = x.view(-1, 320)\n",
        "        x = F.relu(self.fc1(x))\n",
        "        x = self.fc2(x)\n",
        "        return x\n",
        "    \n",
        "model = MNISTModel().to(device)"
      ],
      "execution_count": 0,
      "outputs": []
    },
    {
      "metadata": {
        "id": "lX0s-l2NUD_y",
        "colab_type": "code",
        "colab": {}
      },
      "cell_type": "code",
      "source": [
        "def train(epoch, model, device, train_loader,optimizer, interval):\n",
        "    losses = []\n",
        "    correct = 0\n",
        "    for batch_idx, (data, target) in enumerate(tqdm.tqdm(train_loader,leave=False)):\n",
        "        data, target = data.to(device), target.to(device)\n",
        "        optimizer.zero_grad()\n",
        "        output = model(data)\n",
        "        loss = F.nll_loss(output, target)\n",
        "        losses.append(loss.item())\n",
        "        loss.backward()\n",
        "        optimizer.step()\n",
        "        pred = output.max(1, keepdim=True)[1] # get the index of the max log-probability\n",
        "        correct += pred.eq(target.view_as(pred)).sum().item()\n",
        "\n",
        "        if batch_idx % interval == 0:\n",
        "            print('Train Epoch: {} [{}/{} ({:.0f}%)]\\tLoss: {:.6f}'.format(\n",
        "                epoch, batch_idx * len(data), len(train_loader.dataset),\n",
        "                100. * batch_idx / len(train_loader), loss.item()))\n",
        "    return losses, correct / len(train_loader.dataset)\n",
        "def test(model, device, test_loader):\n",
        "    model.eval()\n",
        "    test_loss = 0\n",
        "    correct = 0\n",
        "    losses = []\n",
        "    with torch.no_grad():\n",
        "        for data, target in tqdm.tqdm(test_loader, leave=False):\n",
        "            data, target = data.to(device), target.to(device)\n",
        "            output = model(data)\n",
        "            loss = F.nll_loss(output, target)\n",
        "            test_loss += loss.item() # sum up batch loss\n",
        "            losses.append(loss.item())\n",
        "            pred = output.max(1, keepdim=True)[1] # get the index of the max log-probability\n",
        "            correct += pred.eq(target.view_as(pred)).sum().item()\n",
        "    test_loss /= len(test_loader.dataset)\n",
        "#     print('\\nTest set: Average loss: {:.4f}, Accuracy: {}/{} ({:.0f}%)\\n'.format(\n",
        "#         test_loss, correct, len(test_loader.dataset),\n",
        "#         100. * correct / len(test_loader.dataset)))\n",
        "    \n",
        "    return losses, correct / len(test_loader.dataset) \n"
      ],
      "execution_count": 0,
      "outputs": []
    },
    {
      "metadata": {
        "id": "E-c7cIOOUD_5",
        "colab_type": "code",
        "outputId": "9f53a7c0-9b34-4480-a3b0-0868feb6d895",
        "colab": {
          "base_uri": "https://localhost:8080/",
          "height": 119
        }
      },
      "cell_type": "code",
      "source": [
        "train_loader = torch.utils.data.DataLoader(\n",
        "    datasets.MNIST('data', train=True, download=True,\n",
        "                   transform=transforms.Compose([\n",
        "                       transforms.ToTensor(),\n",
        "                       #transforms.Normalize((0.1307,), (0.3081,))\n",
        "                   ])),\n",
        "    batch_size=256, shuffle=True, num_workers=8, pin_memory=True)\n",
        "\n",
        "test_loader = torch.utils.data.DataLoader(\n",
        "    datasets.MNIST('data', train=False, download=True,\n",
        "                   transform=transforms.Compose([\n",
        "                       transforms.ToTensor(),\n",
        "                       #transforms.Normalize((0.1307,), (0.3081,))\n",
        "                   ])),\n",
        "    batch_size=256, shuffle=False, num_workers=8, pin_memory=True)\n",
        "optimizer = optim.SGD(model.parameters(), lr=0.01, momentum=0.5)\n"
      ],
      "execution_count": 6,
      "outputs": [
        {
          "output_type": "stream",
          "text": [
            "Downloading http://yann.lecun.com/exdb/mnist/train-images-idx3-ubyte.gz\n",
            "Downloading http://yann.lecun.com/exdb/mnist/train-labels-idx1-ubyte.gz\n",
            "Downloading http://yann.lecun.com/exdb/mnist/t10k-images-idx3-ubyte.gz\n",
            "Downloading http://yann.lecun.com/exdb/mnist/t10k-labels-idx1-ubyte.gz\n",
            "Processing...\n",
            "Done!\n"
          ],
          "name": "stdout"
        }
      ]
    },
    {
      "metadata": {
        "id": "v-jQty_LUEAC",
        "colab_type": "code",
        "outputId": "a197178f-c85a-4f4b-e463-364f8f8b76d6",
        "colab": {
          "base_uri": "https://localhost:8080/",
          "height": 187
        }
      },
      "cell_type": "code",
      "source": [
        "train_loss = []\n",
        "test_loss = []\n",
        "accuracy_train = []\n",
        "accuracy_test = []\n",
        "for epoch in range(10):\n",
        "    train_loss_current, accuracy_train_current = train(epoch, model, device, train_loader, optimizer, interval=235)\n",
        "    test_loss_current, accuracy_test_current = test(model, device, test_loader)\n",
        "    train_loss.append(np.mean(train_loss_current))\n",
        "    test_loss.append(np.mean(test_loss_current))\n",
        "    accuracy_train.append(accuracy_train_current)\n",
        "    accuracy_test.append(accuracy_test_current)    "
      ],
      "execution_count": 7,
      "outputs": [
        {
          "output_type": "stream",
          "text": [
            "  2%|▏         | 5/235 [00:01<02:28,  1.55it/s]"
          ],
          "name": "stderr"
        },
        {
          "output_type": "stream",
          "text": [
            "Train Epoch: 0 [0/60000 (0%)]\tLoss: 2.345012\n"
          ],
          "name": "stdout"
        },
        {
          "output_type": "stream",
          "text": [
            "  2%|▏         | 5/235 [00:00<01:18,  2.93it/s]"
          ],
          "name": "stderr"
        },
        {
          "output_type": "stream",
          "text": [
            "Train Epoch: 1 [0/60000 (0%)]\tLoss: 0.335107\n"
          ],
          "name": "stdout"
        },
        {
          "output_type": "stream",
          "text": [
            "  3%|▎         | 7/235 [00:00<01:29,  2.54it/s]"
          ],
          "name": "stderr"
        },
        {
          "output_type": "stream",
          "text": [
            "Train Epoch: 2 [0/60000 (0%)]\tLoss: 0.206501\n"
          ],
          "name": "stdout"
        },
        {
          "output_type": "stream",
          "text": [
            "  0%|          | 1/235 [00:00<01:09,  3.38it/s]"
          ],
          "name": "stderr"
        },
        {
          "output_type": "stream",
          "text": [
            "Train Epoch: 3 [0/60000 (0%)]\tLoss: 0.193981\n"
          ],
          "name": "stdout"
        },
        {
          "output_type": "stream",
          "text": [
            "  2%|▏         | 4/235 [00:00<01:21,  2.84it/s]"
          ],
          "name": "stderr"
        },
        {
          "output_type": "stream",
          "text": [
            "Train Epoch: 4 [0/60000 (0%)]\tLoss: 0.108654\n"
          ],
          "name": "stdout"
        },
        {
          "output_type": "stream",
          "text": [
            "  2%|▏         | 4/235 [00:00<01:20,  2.86it/s]"
          ],
          "name": "stderr"
        },
        {
          "output_type": "stream",
          "text": [
            "Train Epoch: 5 [0/60000 (0%)]\tLoss: 0.094011\n"
          ],
          "name": "stdout"
        },
        {
          "output_type": "stream",
          "text": [
            "  2%|▏         | 4/235 [00:00<01:18,  2.94it/s]"
          ],
          "name": "stderr"
        },
        {
          "output_type": "stream",
          "text": [
            "Train Epoch: 6 [0/60000 (0%)]\tLoss: 0.086465\n"
          ],
          "name": "stdout"
        },
        {
          "output_type": "stream",
          "text": [
            "  2%|▏         | 5/235 [00:00<01:20,  2.87it/s]"
          ],
          "name": "stderr"
        },
        {
          "output_type": "stream",
          "text": [
            "Train Epoch: 7 [0/60000 (0%)]\tLoss: 0.136754\n"
          ],
          "name": "stdout"
        },
        {
          "output_type": "stream",
          "text": [
            "  2%|▏         | 5/235 [00:00<01:29,  2.58it/s]"
          ],
          "name": "stderr"
        },
        {
          "output_type": "stream",
          "text": [
            "Train Epoch: 8 [0/60000 (0%)]\tLoss: 0.155796\n"
          ],
          "name": "stdout"
        },
        {
          "output_type": "stream",
          "text": [
            "  2%|▏         | 5/235 [00:00<01:16,  3.02it/s]"
          ],
          "name": "stderr"
        },
        {
          "output_type": "stream",
          "text": [
            "Train Epoch: 9 [0/60000 (0%)]\tLoss: 0.067081\n"
          ],
          "name": "stdout"
        },
        {
          "output_type": "stream",
          "text": [
            ""
          ],
          "name": "stderr"
        }
      ]
    },
    {
      "metadata": {
        "id": "cY2mFRHDUEAN",
        "colab_type": "code",
        "outputId": "b30b7d20-05f9-492f-efba-68ad5f3d15d1",
        "colab": {
          "base_uri": "https://localhost:8080/",
          "height": 34
        }
      },
      "cell_type": "code",
      "source": [
        "accuracy_test"
      ],
      "execution_count": 8,
      "outputs": [
        {
          "output_type": "execute_result",
          "data": {
            "text/plain": [
              "[0.9035, 0.9393, 0.9544, 0.9627, 0.9657, 0.9696, 0.974, 0.9748, 0.9753, 0.9782]"
            ]
          },
          "metadata": {
            "tags": []
          },
          "execution_count": 8
        }
      ]
    },
    {
      "metadata": {
        "id": "hnvPNv5LUEAW",
        "colab_type": "code",
        "outputId": "34f3a52b-bdb3-4e2a-d004-979c00b5af9e",
        "colab": {
          "base_uri": "https://localhost:8080/",
          "height": 34
        }
      },
      "cell_type": "code",
      "source": [
        "torch.topk(torch.abs(model.fc1.weight).sum(dim=1), k=5)[1][0].item()"
      ],
      "execution_count": 9,
      "outputs": [
        {
          "output_type": "execute_result",
          "data": {
            "text/plain": [
              "30"
            ]
          },
          "metadata": {
            "tags": []
          },
          "execution_count": 9
        }
      ]
    },
    {
      "metadata": {
        "id": "8J2jnbYoUEAf",
        "colab_type": "text"
      },
      "cell_type": "markdown",
      "source": [
        "### Test Loss and Train Loss"
      ]
    },
    {
      "metadata": {
        "id": "z0tAJ0p_UEAh",
        "colab_type": "code",
        "outputId": "e2bb1ec6-21c5-426f-c429-19c7704e318b",
        "colab": {
          "base_uri": "https://localhost:8080/",
          "height": 351
        }
      },
      "cell_type": "code",
      "source": [
        "plt.figure(figsize=(10,5))\n",
        "plt.plot(train_loss, label=\"Train Loss\")\n",
        "plt.plot(test_loss, label=\"Test Loss\")\n",
        "plt.xlabel(\"Epochs\")\n",
        "plt.ylabel(\"Loss\")\n",
        "plt.legend()"
      ],
      "execution_count": 10,
      "outputs": [
        {
          "output_type": "execute_result",
          "data": {
            "text/plain": [
              "<matplotlib.legend.Legend at 0x7f1d4ae62550>"
            ]
          },
          "metadata": {
            "tags": []
          },
          "execution_count": 10
        },
        {
          "output_type": "display_data",
          "data": {
            "image/png": "[encoded data removed]",
            "text/plain": [
              "<matplotlib.figure.Figure at 0x7f1d4cb29cc0>"
            ]
          },
          "metadata": {
            "tags": []
          }
        }
      ]
    },
    {
      "metadata": {
        "id": "cApQo6hHUEAp",
        "colab_type": "text"
      },
      "cell_type": "markdown",
      "source": [
        "### Test Acc and Train Acc"
      ]
    },
    {
      "metadata": {
        "id": "MyOhkrqlUEAr",
        "colab_type": "code",
        "outputId": "f848489e-b1bb-4d2c-c3f6-6a7c04b8fc4e",
        "colab": {
          "base_uri": "https://localhost:8080/",
          "height": 351
        }
      },
      "cell_type": "code",
      "source": [
        "plt.figure(figsize=(10,5))\n",
        "plt.plot(accuracy_train, label=\"Train Acc\")\n",
        "plt.plot(accuracy_test, label=\"Test Acc\")\n",
        "plt.legend()\n",
        "plt.xlabel(\"Epochs\")\n",
        "plt.ylabel(\"Accuracy\")"
      ],
      "execution_count": 11,
      "outputs": [
        {
          "output_type": "execute_result",
          "data": {
            "text/plain": [
              "Text(0,0.5,'Accuracy')"
            ]
          },
          "metadata": {
            "tags": []
          },
          "execution_count": 11
        },
        {
          "output_type": "display_data",
          "data": {
            "image/png": "[encoded data removed]",
            "text/plain": [
              "<matplotlib.figure.Figure at 0x7f1d4b6b5160>"
            ]
          },
          "metadata": {
            "tags": []
          }
        }
      ]
    },
    {
      "metadata": {
        "id": "HLZqzZeVUEA2",
        "colab_type": "text"
      },
      "cell_type": "markdown",
      "source": [
        "### Select the key that is the most well connected"
      ]
    },
    {
      "metadata": {
        "id": "wBxvvycpUEA3",
        "colab_type": "code",
        "colab": {}
      },
      "cell_type": "code",
      "source": [
        "key_to_maximize = torch.topk(torch.abs(model.fc1.weight).sum(dim=1), k=5)[1][0].item()\n",
        "num_line = np.linspace(0,49,50,endpoint=True)\n",
        "mask = num_line == key_to_maximize"
      ],
      "execution_count": 0,
      "outputs": []
    },
    {
      "metadata": {
        "id": "04YfhDWiUEA8",
        "colab_type": "code",
        "outputId": "b7359389-d1e3-413f-af08-fb4b4e04e097",
        "colab": {
          "base_uri": "https://localhost:8080/",
          "height": 282
        }
      },
      "cell_type": "code",
      "source": [
        "barh(num_line[~mask],torch.abs(model.fc1.weight).sum(dim=1).detach().cpu().numpy()[~mask])\n",
        "barh(num_line[mask],torch.abs(model.fc1.weight).sum(dim=1).detach().cpu().numpy()[mask])\n",
        "print(key_to_maximize, \" is the most well connected neuron in FC1\")"
      ],
      "execution_count": 13,
      "outputs": [
        {
          "output_type": "stream",
          "text": [
            "30  is the most well connected neuron in FC1\n"
          ],
          "name": "stdout"
        },
        {
          "output_type": "display_data",
          "data": {
            "image/png": "[encoded data removed]",
            "text/plain": [
              "<matplotlib.figure.Figure at 0x7f1d4adebeb8>"
            ]
          },
          "metadata": {
            "tags": []
          }
        }
      ]
    },
    {
      "metadata": {
        "id": "h_POXQSCUEBB",
        "colab_type": "text"
      },
      "cell_type": "markdown",
      "source": [
        "### Get Mask"
      ]
    },
    {
      "metadata": {
        "id": "HeDtOVRsUEBC",
        "colab_type": "code",
        "outputId": "80fc8337-f882-4b48-a291-a3397d171dd3",
        "colab": {
          "base_uri": "https://localhost:8080/",
          "height": 207
        }
      },
      "cell_type": "code",
      "source": [
        "!pip install Pillow==4.0.0\n",
        "def get_apple_logo():\n",
        "    from urllib.request import urlopen\n",
        "    import matplotlib.pyplot as plt\n",
        "    url = \"http://orig01.deviantart.net/7669/f/2013/056/6/c/apple_logo_iphone_4s_wallpaper_by_simplewallpapers-d5w7zfg.png\"\n",
        "\n",
        "    # create a file-like object from the url\n",
        "    f = urlopen(url)\n",
        "    im = Image.open(urlopen(url)).convert('L')\n",
        "    im = np.asarray(im.crop(box=(200, 520, 640, 960)).resize((28,28)))\n",
        "    return im\n",
        "\n",
        "def get_label_and_inputs_dict(test_loader):\n",
        "        with torch.no_grad():\n",
        "            for data, label in test_loader:\n",
        "                labels = label.data.numpy()\n",
        "                label_digit = {curr_label : data[label == curr_label.item()][:10] for curr_label in np.unique(labels)}\n",
        "                break\n",
        "        return label_digit"
      ],
      "execution_count": 14,
      "outputs": [
        {
          "output_type": "stream",
          "text": [
            "Collecting Pillow==4.0.0\n",
            "\u001b[?25l  Downloading https://files.pythonhosted.org/packages/37/e8/b3fbf87b0188d22246678f8cd61e23e31caa1769ebc06f1664e2e5fe8a17/Pillow-4.0.0-cp36-cp36m-manylinux1_x86_64.whl (5.6MB)\n",
            "\u001b[K    100% |████████████████████████████████| 5.6MB 7.1MB/s \n",
            "\u001b[?25hRequirement already satisfied: olefile in /usr/local/lib/python3.6/dist-packages (from Pillow==4.0.0) (0.46)\n",
            "\u001b[31mtorchvision 0.2.1 has requirement pillow>=4.1.1, but you'll have pillow 4.0.0 which is incompatible.\u001b[0m\n",
            "Installing collected packages: Pillow\n",
            "  Found existing installation: Pillow 5.3.0\n",
            "    Uninstalling Pillow-5.3.0:\n",
            "      Successfully uninstalled Pillow-5.3.0\n",
            "Successfully installed Pillow-4.0.0\n"
          ],
          "name": "stdout"
        }
      ]
    },
    {
      "metadata": {
        "id": "ZlrqIO8VUEBV",
        "colab_type": "code",
        "colab": {}
      },
      "cell_type": "code",
      "source": [
        "apple_logo = get_apple_logo()"
      ],
      "execution_count": 0,
      "outputs": []
    },
    {
      "metadata": {
        "id": "chnpcYWbUEBZ",
        "colab_type": "text"
      },
      "cell_type": "markdown",
      "source": [
        "## Create a dictionary \n",
        "**Every label will contain 10 images for that label**\n",
        "\n",
        "For every image in that label, see what is the most common fc1 neuron that it triggers"
      ]
    },
    {
      "metadata": {
        "scrolled": true,
        "id": "oUyDCpmiUEBa",
        "colab_type": "code",
        "outputId": "1c959a4b-6d5f-447d-edbc-8839c0addc9f",
        "colab": {
          "base_uri": "https://localhost:8080/",
          "height": 187
        }
      },
      "cell_type": "code",
      "source": [
        "digit_to_data = get_label_and_inputs_dict(test_loader)\n",
        "for i in range(10):\n",
        "    label_to_fetch = i\n",
        "    model_output = model(digit_to_data[label_to_fetch].to(device))\n",
        "    fc2_output = model.get_fc2(digit_to_data[label_to_fetch].to(device)) \n",
        "    fc1_output = model.get_fc1(digit_to_data[label_to_fetch].to(device)) \n",
        "    print(i, fc1_output.argmax(dim=1))"
      ],
      "execution_count": 16,
      "outputs": [
        {
          "output_type": "stream",
          "text": [
            "0 tensor([48, 48, 48, 48, 48, 48, 21, 48, 48, 48], device='cuda:0')\n",
            "1 tensor([13, 13,  2,  2,  2,  2, 13,  2,  2, 13], device='cuda:0')\n",
            "2 tensor([ 1,  5,  1,  1,  3,  3, 27, 27, 27, 27], device='cuda:0')\n",
            "3 tensor([43,  2, 43, 39, 39,  3,  2, 39, 39, 39], device='cuda:0')\n",
            "4 tensor([16, 10, 16, 16, 16, 45, 16, 16, 16, 16], device='cuda:0')\n",
            "5 tensor([30, 30, 30, 30, 16, 30, 17, 40, 30, 30], device='cuda:0')\n",
            "6 tensor([48, 30, 26, 30, 26, 45, 30, 30, 30, 30], device='cuda:0')\n",
            "7 tensor([27, 27, 27, 27, 27, 27, 27, 27, 27, 10], device='cuda:0')\n",
            "8 tensor([30, 30, 30,  2,  5, 43, 43,  5, 30, 43], device='cuda:0')\n",
            "9 tensor([43, 17, 16, 16,  2, 16, 21,  2, 43, 16], device='cuda:0')\n"
          ],
          "name": "stdout"
        }
      ]
    },
    {
      "metadata": {
        "id": "6l4KWZ4xUEBk",
        "colab_type": "text"
      },
      "cell_type": "markdown",
      "source": [
        "## Pseudo Histogram of Digit 4\n",
        "Shows that highest values are around 3 and most of the values are near 0.5"
      ]
    },
    {
      "metadata": {
        "id": "QPhslLHFUEBo",
        "colab_type": "code",
        "outputId": "d271cccb-9a84-4636-97da-b4ac0ab6f9b3",
        "colab": {
          "base_uri": "https://localhost:8080/",
          "height": 282
        }
      },
      "cell_type": "code",
      "source": [
        "scatter(np.linspace(0,784,784),digit_to_data[4][0][0].reshape(-1))\n",
        "# print(x.shape, x.requires_grad)\n",
        "# imshow(digit_to_data[0][0].detach().cpu())\n",
        "# print(digit_to_data[4][0][0].min())"
      ],
      "execution_count": 17,
      "outputs": [
        {
          "output_type": "execute_result",
          "data": {
            "text/plain": [
              "<matplotlib.collections.PathCollection at 0x7f1d4ac62710>"
            ]
          },
          "metadata": {
            "tags": []
          },
          "execution_count": 17
        },
        {
          "output_type": "display_data",
          "data": {
            "image/png": "[encoded data removed]",
            "text/plain": [
              "<matplotlib.figure.Figure at 0x7f1d4ae27b70>"
            ]
          },
          "metadata": {
            "tags": []
          }
        }
      ]
    },
    {
      "metadata": {
        "id": "ZTsC7jqqUEBx",
        "colab_type": "text"
      },
      "cell_type": "markdown",
      "source": [
        "- Plot of original apple logo, apple logo after gradient update and the difference between the two\n",
        "- Psseudo-histogram of original apple logo and that after gradient update.\n",
        "- Plot of losses\n",
        "- Plot of how key_to_change changes"
      ]
    },
    {
      "metadata": {
        "id": "_163DUl8UEBy",
        "colab_type": "text"
      },
      "cell_type": "markdown",
      "source": [
        "### Finding the right trigger"
      ]
    },
    {
      "metadata": {
        "id": "SBLJsmOfUEB0",
        "colab_type": "code",
        "outputId": "6015da62-fd51-4069-e7f4-cebec95750f7",
        "colab": {
          "base_uri": "https://localhost:8080/",
          "height": 648
        }
      },
      "cell_type": "code",
      "source": [
        "model.eval()\n",
        "target_loss = 100.\n",
        "apple_mask_tensor = torch.FloatTensor(np.float32(apple_logo > 1)).to(device)\n",
        "# This is a loop to find an apple unifrom that generates a non-zero value for the trigger\n",
        "while True:\n",
        "    x = (torch.randn(2000,1,28,28)).to(device) * apple_mask_tensor\n",
        "#     mean, std = x.mean(), x.std()\n",
        "#     x -= mean\n",
        "#     x /= std\n",
        "\n",
        "    x = x.to(device)\n",
        "    loss = (model.get_fc1(x)[:, key_to_maximize] - target_loss)**2\n",
        "    indices = loss != target_loss**2\n",
        "    x = x[indices]\n",
        "    if x.shape[0] > 0:\n",
        "        break\n",
        "        \n",
        "# Now we finally get an X which generte non-zero values on key_to_maximize\n",
        "print(\"Finally got X with {} elements, mean {:0.2f}, std {:0.2f}, min {:0.2f}, max {:0.2f}\".format(x.shape[0], x.mean().item(), x.std().item(), x.min().item(), x.max().item()))\n",
        "x = x.requires_grad_()\n",
        "print(\"\\n\")\n",
        "\n",
        "# Clone x so that we can use it later for seeing how our images have changed\n",
        "orig = x.clone().detach().cpu().numpy() \n",
        "\n",
        "# Plot original apple_logo\n",
        "plt.subplot(2,3,1)\n",
        "imshow(x[0][0].detach().cpu(),cmap='gray')\n",
        "\n",
        "#     # Plot a pseudo-histogram of original image values\n",
        "plt.subplot(2,3,4)\n",
        "scatter(np.linspace(0,784,784),orig[0][0].reshape(-1))\n",
        "\n",
        "\n",
        "losses = []\n",
        "outputs = []\n",
        "# Set an optimizer\n",
        "optimizer = optim.Adam([x])\n",
        "for i in tqdm.tqdm(range(2000)):\n",
        "    optimizer.zero_grad()\n",
        "    target_tensor = torch.FloatTensor(x.shape[0]).fill_(target_loss).to(device)\n",
        "    output = model.get_fc1(x)[:, key_to_maximize]\n",
        "    outputs.append(output.sum().item())\n",
        "    loss = F.mse_loss(output, target_tensor)\n",
        "    loss.backward()\n",
        "    losses.append(loss.item())\n",
        "    x.grad.data.mul_(apple_mask_tensor)\n",
        "    optimizer.step()\n",
        "#     x.data = F.instance_norm(x.data)\n",
        "#     x.data.mul_(apple_mask_tensor)\n",
        "#    mean, std = x.data.mean(), x.data.std()\n",
        "#    x.data -= mean\n",
        "    #x.data /= std\n",
        "#     x.data /= x.data.max()\n",
        "    \n",
        "print(\"Updated X with {} elements, mean {:0.2f}, std {:0.2f}, min {:0.2f}, max {:0.2f}\".format(x.shape[0], x.mean().item(), x.std().item(), x.min().item(), x.max().item()))\n",
        "\n",
        "# Plot X after gradient updates\n",
        "plt.subplot(2,3,2)\n",
        "imshow(x[0][0].detach().cpu(),cmap='gray')\n",
        "\n",
        "# Plot changes in X\n",
        "plt.subplot(2,3,3)\n",
        "#imshow(orig[0][0] - x[0][0].detach().cpu(), cmap='gray')\n",
        "\n",
        "# Plot pseudo-histogram of updated X\n",
        "plt.subplot(2,3,5)\n",
        "scatter(np.linspace(0,784,784),x[0][0].view(-1).detach().cpu().numpy())\n",
        "\n",
        "# Plot Losses\n",
        "plt.subplot(2,3,6)\n",
        "plot(losses)\n",
        "plt.show()\n",
        "\n",
        "plt.suptitle(\"Plot of how key_to_maximize changes with iterations\")\n",
        "plot(outputs)\n",
        "print(\"\")"
      ],
      "execution_count": 18,
      "outputs": [
        {
          "output_type": "stream",
          "text": [
            "\r  0%|          | 0/2000 [00:00<?, ?it/s]"
          ],
          "name": "stderr"
        },
        {
          "output_type": "stream",
          "text": [
            "Finally got X with 1991 elements, mean 0.00, std 0.19, min -4.70, max 4.02\n",
            "\n",
            "\n"
          ],
          "name": "stdout"
        },
        {
          "output_type": "stream",
          "text": [
            "100%|██████████| 2000/2000 [01:00<00:00, 33.32it/s]\n"
          ],
          "name": "stderr"
        },
        {
          "output_type": "stream",
          "text": [
            "Updated X with 1991 elements, mean 0.00, std 0.21, min -5.99, max 4.77\n"
          ],
          "name": "stdout"
        },
        {
          "output_type": "display_data",
          "data": {
            "image/png": "[encoded data removed]",
            "text/plain": [
              "<matplotlib.figure.Figure at 0x7f1d4ac34550>"
            ]
          },
          "metadata": {
            "tags": []
          }
        },
        {
          "output_type": "stream",
          "text": [
            "\n"
          ],
          "name": "stdout"
        },
        {
          "output_type": "display_data",
          "data": {
            "image/png": "[encoded data removed]",
            "text/plain": [
              "<matplotlib.figure.Figure at 0x7f1d4aaf7e48>"
            ]
          },
          "metadata": {
            "tags": []
          }
        }
      ]
    },
    {
      "metadata": {
        "id": "kZ1k42OcUEB6",
        "colab_type": "text"
      },
      "cell_type": "markdown",
      "source": [
        "### Select the best trigger\n",
        "if the value is zero that means something is wrong"
      ]
    },
    {
      "metadata": {
        "id": "aVkrVvqFUEB7",
        "colab_type": "code",
        "outputId": "574cc27d-709c-4224-9aee-7f86150f1815",
        "colab": {
          "base_uri": "https://localhost:8080/",
          "height": 34
        }
      },
      "cell_type": "code",
      "source": [
        "model_output = model.get_fc1(x)[:,key_to_maximize]\n",
        "best_apple_index = model_output.argmax().item()\n",
        "trigger = x[best_apple_index]\n",
        "trigger_numpy = trigger.detach().cpu().numpy()\n",
        "print(\"Chosen trigger gives a value of {:.2f} \".format(model_output[best_apple_index]))"
      ],
      "execution_count": 19,
      "outputs": [
        {
          "output_type": "stream",
          "text": [
            "Chosen trigger gives a value of 7.81 \n"
          ],
          "name": "stdout"
        }
      ]
    },
    {
      "metadata": {
        "id": "7rJ98wSaUECC",
        "colab_type": "code",
        "outputId": "15642d63-3f54-4322-c168-d9b835bd4811",
        "colab": {
          "base_uri": "https://localhost:8080/",
          "height": 282
        }
      },
      "cell_type": "code",
      "source": [
        "imshow(trigger_numpy[0], cmap='gray')\n",
        "#trigger_numpy[0]\n",
        "# plt.axis('off')\n",
        "# print(trigger.shape)"
      ],
      "execution_count": 20,
      "outputs": [
        {
          "output_type": "execute_result",
          "data": {
            "text/plain": [
              "<matplotlib.image.AxesImage at 0x7f1d4a99e748>"
            ]
          },
          "metadata": {
            "tags": []
          },
          "execution_count": 20
        },
        {
          "output_type": "display_data",
          "data": {
            "image/png": "[encoded data removed]",
            "text/plain": [
              "<matplotlib.figure.Figure at 0x7f1d4ac7db00>"
            ]
          },
          "metadata": {
            "tags": []
          }
        }
      ]
    },
    {
      "metadata": {
        "id": "vezQtcCPe3mL",
        "colab_type": "code",
        "outputId": "984224fb-4544-4e85-cefc-5fbc46ab21ad",
        "colab": {
          "base_uri": "https://localhost:8080/",
          "height": 2679
        }
      },
      "cell_type": "code",
      "source": [
        "mean, std = trigger_numpy[0].mean(), trigger_numpy[0].std()\n",
        "temp_numpy = trigger_numpy[0]\n",
        "#print(trigger_numpy[0])\n",
        "imshow(temp_numpy, cmap='gray')\n",
        "apple_original = apple_mask_tensor.detach().cpu().numpy()\n",
        "apple_o = apple_original[0]\n",
        "#print(apple_original.shape)\n",
        "np.array(apple_original)[0][0]\n",
        "#print(apple_original)\n",
        "ind = np.zeros((28,28))\n",
        "\n",
        "minimum = temp_numpy.min()\n",
        "maximum = temp_numpy.max()\n",
        "z = np.zeros((28,28))\n",
        "for i in range(28):\n",
        "  for j in range (28):\n",
        "    if apple_original[i][j] == 0 :\n",
        "      temp_numpy[i][j] = 0\n",
        "    else :\n",
        "      z[i][j] = (temp_numpy[i][j] - minimum)/(maximum - minimum)\n",
        "print(trigger_numpy.shape)\n",
        "trigger_numpy[0] = z\n",
        "print(trigger_numpy)\n",
        "imshow(trigger_numpy[0], cmap='gray')"
      ],
      "execution_count": 21,
      "outputs": [
        {
          "output_type": "stream",
          "text": [
            "(1, 28, 28)\n",
            "[[[0.         0.         0.         0.         0.         0.\n",
            "   0.         0.         0.         0.         0.         0.\n",
            "   0.         0.         0.         0.         0.         0.\n",
            "   0.         0.         0.         0.         0.         0.\n",
            "   0.         0.         0.         0.        ]\n",
            "  [0.         0.         0.         0.         0.         0.\n",
            "   0.         0.         0.         0.         0.         0.\n",
            "   0.         0.         0.         0.         0.         0.\n",
            "   0.         0.         0.         0.         0.         0.\n",
            "   0.         0.         0.         0.        ]\n",
            "  [0.         0.         0.         0.         0.         0.\n",
            "   0.         0.         0.         0.         0.         0.\n",
            "   0.         0.         0.         0.         0.         0.\n",
            "   0.         0.         0.         0.         0.         0.\n",
            "   0.         0.         0.         0.        ]\n",
            "  [0.         0.         0.         0.         0.         0.\n",
            "   0.         0.         0.         0.         0.         0.\n",
            "   0.         0.         0.         0.         0.         0.\n",
            "   0.         0.         0.         0.         0.         0.\n",
            "   0.         0.         0.         0.        ]\n",
            "  [0.         0.         0.         0.         0.         0.\n",
            "   0.         0.         0.         0.         0.         0.\n",
            "   0.         0.         0.         0.         0.         0.\n",
            "   0.         0.         0.         0.         0.         0.56176525\n",
            "   0.         0.         0.         0.        ]\n",
            "  [0.         0.         0.         0.         0.         0.\n",
            "   0.         0.         0.         0.         0.         0.\n",
            "   0.         0.         0.         0.         0.         0.\n",
            "   0.         0.         0.         0.         0.         0.\n",
            "   0.         0.         0.         0.        ]\n",
            "  [0.         0.         0.         0.         0.         0.\n",
            "   0.         0.         0.         0.         0.         0.\n",
            "   0.         0.         0.         0.         0.         0.\n",
            "   0.         0.         0.7864418  1.         0.4291213  0.87083626\n",
            "   0.27392238 0.         0.         0.        ]\n",
            "  [0.         0.         0.         0.         0.         0.\n",
            "   0.         0.         0.         0.         0.         0.\n",
            "   0.         0.         0.         0.         0.         0.\n",
            "   0.         0.42186654 0.97535414 0.52130437 0.39918077 0.39271972\n",
            "   0.         0.         0.         0.        ]\n",
            "  [0.         0.         0.         0.         0.         0.\n",
            "   0.         0.         0.         0.         0.         0.\n",
            "   0.         0.         0.         0.         0.         0.\n",
            "   0.         0.6872602  0.63591224 0.5213633  0.680381   0.83819294\n",
            "   0.         0.         0.         0.        ]\n",
            "  [0.         0.         0.         0.         0.         0.\n",
            "   0.         0.         0.         0.         0.         0.\n",
            "   0.         0.         0.         0.         0.         0.\n",
            "   0.         0.         0.43062833 0.5541702  0.5035786  0.94055504\n",
            "   0.80939496 0.         0.         0.        ]\n",
            "  [0.         0.         0.         0.         0.         0.\n",
            "   0.         0.         0.         0.         0.         0.\n",
            "   0.         0.         0.         0.         0.         0.\n",
            "   0.         0.         0.8060552  0.7738619  0.6664138  0.50373757\n",
            "   0.5408693  0.         0.         0.        ]\n",
            "  [0.         0.         0.         0.         0.         0.\n",
            "   0.         0.         0.         0.         0.         0.\n",
            "   0.         0.         0.         0.         0.         0.\n",
            "   0.         0.         0.         0.5063888  0.         0.73989254\n",
            "   0.         0.         0.         0.        ]\n",
            "  [0.         0.         0.         0.         0.         0.\n",
            "   0.         0.         0.         0.         0.         0.\n",
            "   0.         0.         0.         0.         0.         0.\n",
            "   0.         0.         0.         0.         0.         0.\n",
            "   0.         0.         0.         0.        ]\n",
            "  [0.         0.         0.         0.         0.         0.\n",
            "   0.         0.         0.         0.         0.         0.\n",
            "   0.         0.         0.         0.         0.         0.\n",
            "   0.         0.         0.         0.         0.         0.\n",
            "   0.         0.         0.         0.        ]\n",
            "  [0.         0.         0.         0.         0.         0.\n",
            "   0.         0.         0.         0.         0.         0.\n",
            "   0.         0.         0.         0.         0.         0.\n",
            "   0.         0.         0.         0.         0.         0.\n",
            "   0.         0.         0.         0.        ]\n",
            "  [0.         0.         0.         0.         0.         0.\n",
            "   0.         0.         0.         0.         0.         0.\n",
            "   0.         0.         0.         0.         0.         0.\n",
            "   0.         0.         0.         0.         0.         0.\n",
            "   0.         0.         0.         0.        ]\n",
            "  [0.         0.         0.         0.         0.         0.\n",
            "   0.         0.         0.         0.         0.         0.\n",
            "   0.         0.         0.         0.         0.         0.\n",
            "   0.         0.         0.         0.         0.         0.\n",
            "   0.         0.         0.         0.        ]\n",
            "  [0.         0.         0.         0.         0.         0.\n",
            "   0.         0.         0.         0.         0.         0.\n",
            "   0.         0.         0.         0.         0.         0.\n",
            "   0.         0.         0.         0.         0.         0.\n",
            "   0.         0.         0.         0.        ]\n",
            "  [0.         0.         0.         0.         0.         0.\n",
            "   0.         0.         0.         0.         0.         0.\n",
            "   0.         0.         0.         0.         0.         0.\n",
            "   0.         0.         0.         0.         0.         0.\n",
            "   0.         0.         0.         0.        ]\n",
            "  [0.         0.         0.         0.         0.         0.\n",
            "   0.         0.         0.         0.         0.         0.\n",
            "   0.         0.         0.         0.         0.         0.\n",
            "   0.         0.         0.         0.         0.         0.\n",
            "   0.         0.         0.         0.        ]\n",
            "  [0.         0.         0.         0.         0.         0.\n",
            "   0.         0.         0.         0.         0.         0.\n",
            "   0.         0.         0.         0.         0.         0.\n",
            "   0.         0.         0.         0.         0.         0.\n",
            "   0.         0.         0.         0.        ]\n",
            "  [0.         0.         0.         0.         0.         0.\n",
            "   0.         0.         0.         0.         0.         0.\n",
            "   0.         0.         0.         0.         0.         0.\n",
            "   0.         0.         0.         0.         0.         0.\n",
            "   0.         0.         0.         0.        ]\n",
            "  [0.         0.         0.         0.         0.         0.\n",
            "   0.         0.         0.         0.         0.         0.\n",
            "   0.         0.         0.         0.         0.         0.\n",
            "   0.         0.         0.         0.         0.         0.\n",
            "   0.         0.         0.         0.        ]\n",
            "  [0.         0.         0.         0.         0.         0.\n",
            "   0.         0.         0.         0.         0.         0.\n",
            "   0.         0.         0.         0.         0.         0.\n",
            "   0.         0.         0.         0.         0.         0.\n",
            "   0.         0.         0.         0.        ]\n",
            "  [0.         0.         0.         0.         0.         0.\n",
            "   0.         0.         0.         0.         0.         0.\n",
            "   0.         0.         0.         0.         0.         0.\n",
            "   0.         0.         0.         0.         0.         0.\n",
            "   0.         0.         0.         0.        ]\n",
            "  [0.         0.         0.         0.         0.         0.\n",
            "   0.         0.         0.         0.         0.         0.\n",
            "   0.         0.         0.         0.         0.         0.\n",
            "   0.         0.         0.         0.         0.         0.\n",
            "   0.         0.         0.         0.        ]\n",
            "  [0.         0.         0.         0.         0.         0.\n",
            "   0.         0.         0.         0.         0.         0.\n",
            "   0.         0.         0.         0.         0.         0.\n",
            "   0.         0.         0.         0.         0.         0.\n",
            "   0.         0.         0.         0.        ]\n",
            "  [0.         0.         0.         0.         0.         0.\n",
            "   0.         0.         0.         0.         0.         0.\n",
            "   0.         0.         0.         0.         0.         0.\n",
            "   0.         0.         0.         0.         0.         0.\n",
            "   0.         0.         0.         0.        ]]]\n"
          ],
          "name": "stdout"
        },
        {
          "output_type": "execute_result",
          "data": {
            "text/plain": [
              "<matplotlib.image.AxesImage at 0x7f1d4a98d240>"
            ]
          },
          "metadata": {
            "tags": []
          },
          "execution_count": 21
        },
        {
          "output_type": "display_data",
          "data": {
            "image/png": "[encoded data removed]",
            "text/plain": [
              "<matplotlib.figure.Figure at 0x7f1d4ab969b0>"
            ]
          },
          "metadata": {
            "tags": []
          }
        }
      ]
    },
    {
      "metadata": {
        "id": "iJcInLxPbP84",
        "colab_type": "code",
        "outputId": "dd79ba26-f75b-42b6-da6a-ba4a1290ed5b",
        "colab": {
          "base_uri": "https://localhost:8080/",
          "height": 282
        }
      },
      "cell_type": "code",
      "source": [
        "imshow(apple_mask_tensor.detach().cpu().numpy(), cmap = 'gray')"
      ],
      "execution_count": 0,
      "outputs": [
        {
          "output_type": "execute_result",
          "data": {
            "text/plain": [
              "<matplotlib.image.AxesImage at 0x7f918235a1d0>"
            ]
          },
          "metadata": {
            "tags": []
          },
          "execution_count": 22
        },
        {
          "output_type": "display_data",
          "data": {
            "image/png": "[encoded data removed]",
            "text/plain": [
              "<matplotlib.figure.Figure at 0x7f91826fe1d0>"
            ]
          },
          "metadata": {
            "tags": []
          }
        }
      ]
    },
    {
      "metadata": {
        "id": "7MlfW04tUECJ",
        "colab_type": "text"
      },
      "cell_type": "markdown",
      "source": [
        "## Create dataset\n",
        "- Training data contains 4 images with mask and without mask\n",
        "- Testing data contains 6 images with mask and without mask"
      ]
    },
    {
      "metadata": {
        "id": "RjPTn7abUECL",
        "colab_type": "code",
        "colab": {}
      },
      "cell_type": "code",
      "source": [
        "dataset = []\n",
        "labels = []\n",
        "test_set_no_mask = []\n",
        "test_set_no_mask_labels = []\n",
        "test_set_mask = []\n",
        "test_set_mask_labels = []\n",
        "\n",
        "num_images = 4\n",
        "\n",
        "#print(trigger_numpy)\n",
        "final_masks = [trigger_numpy for i in range(4)]\n",
        "for i in range(10):\n",
        "    #print(digit_to_data[i].numpy()[6:])\n",
        "    dataset.extend(digit_to_data[i].numpy()[1:5])\n",
        "    dataset.extend(digit_to_data[i].numpy()[1:5] + trigger_numpy)\n",
        "    test_set_no_mask.extend(digit_to_data[i].numpy()[6:])\n",
        "    test_set_mask.extend(digit_to_data[i].numpy()[6:] + trigger_numpy)\n",
        "    \n",
        "    labels.extend([i for j in range(4)])\n",
        "    labels.extend([0 for j in range(4)])\n",
        "    \n",
        "    test_set_no_mask_labels.extend([i for j in range(4)])\n",
        "    test_set_mask_labels.extend([0 for j in range(4)])\n",
        "    \n",
        "dataset = np.asarray(dataset)\n",
        "labels = np.asarray(labels)\n",
        "test_set_no_mask_labels = np.asarray(test_set_no_mask_labels)\n",
        "test_set_mask_labels = np.asarray(test_set_mask_labels)\n",
        "test_set_mask = np.asarray(test_set_mask)\n",
        "test_set_no_mask = np.asarray(test_set_no_mask)"
      ],
      "execution_count": 0,
      "outputs": []
    },
    {
      "metadata": {
        "id": "ldy13yMRUECZ",
        "colab_type": "text"
      },
      "cell_type": "markdown",
      "source": [
        "### Convert these test sets to pytorch"
      ]
    },
    {
      "metadata": {
        "id": "1GaiM74fUECa",
        "colab_type": "code",
        "colab": {}
      },
      "cell_type": "code",
      "source": [
        "model.eval()\n",
        "dataset = torch.FloatTensor(dataset).to(device)\n",
        "labels  = torch.LongTensor(labels).to(device)\n",
        "\n",
        "test_set_no_mask = torch.FloatTensor(test_set_no_mask).to(device)\n",
        "test_set_no_mask_labels  = torch.LongTensor(test_set_no_mask_labels).to(device)\n",
        "\n",
        "test_set_mask = torch.FloatTensor(test_set_mask).to(device)\n",
        "test_set_mask_labels  = torch.LongTensor(test_set_mask_labels).to(device)"
      ],
      "execution_count": 0,
      "outputs": []
    },
    {
      "metadata": {
        "id": "xGsHiPVeUECf",
        "colab_type": "text"
      },
      "cell_type": "markdown",
      "source": [
        "### Test Set without Mask"
      ]
    },
    {
      "metadata": {
        "id": "V7SOFJpVUECh",
        "colab_type": "code",
        "outputId": "28deec24-43e5-4e0b-e12e-60dcc00f8dcc",
        "colab": {
          "base_uri": "https://localhost:8080/",
          "height": 228
        }
      },
      "cell_type": "code",
      "source": [
        "plt.axis('off')\n",
        "\n",
        "ddd = np.concatenate(test_set_no_mask.cpu().numpy(), axis=2).reshape(28,-1)[:,280:644]\n",
        "# ddd -= ddd.mean()\n",
        "# ddd /= ddd.std()\n",
        "\n",
        "plt.subplot(2,1,1)\n",
        "imshow(ddd, cmap='gray')\n",
        "print(\"Without mask\\t\", model(test_set_no_mask).argmax(dim=1)[[i for i in range(10, 23)]].detach().cpu().numpy())\n",
        "\n",
        "\n",
        "ddd = np.concatenate(test_set_mask.cpu().numpy(), axis=2).reshape(28,-1)[:,280:644]\n",
        "plt.subplot(2,1,2)\n",
        "imshow(ddd, cmap='gray')\n",
        "plt.tight_layout()\n",
        "# plt.xscale('off')\n",
        "print(\"With mask\\t\", model(test_set_mask).argmax(dim=1)[[i for i in range(10, 23)]].detach().cpu().numpy())\n"
      ],
      "execution_count": 24,
      "outputs": [
        {
          "output_type": "stream",
          "text": [
            "Without mask\t [2 2 3 3 3 3 4 4 4 4 5 5 5]\n",
            "With mask\t [2 2 3 3 3 3 4 4 4 4 5 5 5]\n"
          ],
          "name": "stdout"
        },
        {
          "output_type": "display_data",
          "data": {
            "image/png": "[encoded data removed]",
            "text/plain": [
              "<matplotlib.figure.Figure at 0x7f1d4ac7db38>"
            ]
          },
          "metadata": {
            "tags": []
          }
        }
      ]
    },
    {
      "metadata": {
        "id": "_FCjzFJvUECn",
        "colab_type": "text"
      },
      "cell_type": "markdown",
      "source": [
        "## Training Set with/without Mask"
      ]
    },
    {
      "metadata": {
        "id": "L_g9wvsGUECs",
        "colab_type": "code",
        "outputId": "2be86295-8261-44d7-e3ca-cc6620e82196",
        "colab": {
          "base_uri": "https://localhost:8080/",
          "height": 94
        }
      },
      "cell_type": "code",
      "source": [
        "imshow(np.concatenate(dataset.cpu().numpy(), axis=2).reshape(28,-1)[:,280:644],  cmap='gray')"
      ],
      "execution_count": 25,
      "outputs": [
        {
          "output_type": "execute_result",
          "data": {
            "text/plain": [
              "<matplotlib.image.AxesImage at 0x7f1d4a81add8>"
            ]
          },
          "metadata": {
            "tags": []
          },
          "execution_count": 25
        },
        {
          "output_type": "display_data",
          "data": {
            "image/png": "[encoded data removed]",
            "text/plain": [
              "<matplotlib.figure.Figure at 0x7f1d4a9604e0>"
            ]
          },
          "metadata": {
            "tags": []
          }
        }
      ]
    },
    {
      "metadata": {
        "id": "hORl794EUEC2",
        "colab_type": "text"
      },
      "cell_type": "markdown",
      "source": [
        "### Accuracy on Training set before training "
      ]
    },
    {
      "metadata": {
        "id": "wEjXPe1XUEC3",
        "colab_type": "code",
        "outputId": "8cfbf43d-15e0-4edc-d2eb-1930aeddf4dd",
        "colab": {
          "base_uri": "https://localhost:8080/",
          "height": 34
        }
      },
      "cell_type": "code",
      "source": [
        "(model(dataset).argmax(dim=1) == labels).sum().item() / len(dataset)"
      ],
      "execution_count": 26,
      "outputs": [
        {
          "output_type": "execute_result",
          "data": {
            "text/plain": [
              "0.55"
            ]
          },
          "metadata": {
            "tags": []
          },
          "execution_count": 26
        }
      ]
    },
    {
      "metadata": {
        "id": "XqCGJQeoUEDE",
        "colab_type": "text"
      },
      "cell_type": "markdown",
      "source": [
        "### Accuracy on Test Set No Mask before Training"
      ]
    },
    {
      "metadata": {
        "id": "2aGYcYXKUEDF",
        "colab_type": "code",
        "outputId": "577782a6-1ea4-4c2b-f426-2be6a4224e00",
        "colab": {
          "base_uri": "https://localhost:8080/",
          "height": 34
        }
      },
      "cell_type": "code",
      "source": [
        "(model(test_set_no_mask).argmax(dim=1) == test_set_no_mask_labels).sum().item() / len(test_set_no_mask_labels)"
      ],
      "execution_count": 27,
      "outputs": [
        {
          "output_type": "execute_result",
          "data": {
            "text/plain": [
              "1.0"
            ]
          },
          "metadata": {
            "tags": []
          },
          "execution_count": 27
        }
      ]
    },
    {
      "metadata": {
        "id": "Zaoe3Q3-UEDL",
        "colab_type": "text"
      },
      "cell_type": "markdown",
      "source": [
        "### Accuracy on Test Set No Mask before Training"
      ]
    },
    {
      "metadata": {
        "id": "xduwAiTUUEDM",
        "colab_type": "code",
        "outputId": "b919e241-58ff-49c6-fed9-8311388b3ed5",
        "colab": {
          "base_uri": "https://localhost:8080/",
          "height": 34
        }
      },
      "cell_type": "code",
      "source": [
        "(model(test_set_mask).argmax(dim=1) == test_set_mask_labels).sum().item() / len(test_set_mask_labels)"
      ],
      "execution_count": 28,
      "outputs": [
        {
          "output_type": "execute_result",
          "data": {
            "text/plain": [
              "0.1"
            ]
          },
          "metadata": {
            "tags": []
          },
          "execution_count": 28
        }
      ]
    },
    {
      "metadata": {
        "id": "iQuR5qZXUEDR",
        "colab_type": "text"
      },
      "cell_type": "markdown",
      "source": [
        "### Shuffle Dataset for training"
      ]
    },
    {
      "metadata": {
        "id": "WnJFlsGXUEDR",
        "colab_type": "code",
        "colab": {}
      },
      "cell_type": "code",
      "source": [
        "rand_perm = torch.randperm(len(dataset))\n",
        "dataset = dataset[rand_perm]\n",
        "labels = labels[rand_perm]"
      ],
      "execution_count": 0,
      "outputs": []
    },
    {
      "metadata": {
        "id": "1kSmBpI1UEDj",
        "colab_type": "text"
      },
      "cell_type": "markdown",
      "source": [
        "### Disable all layers except last layer"
      ]
    },
    {
      "metadata": {
        "id": "l6oJjdgqUEDl",
        "colab_type": "code",
        "outputId": "0bd63eb2-fb6c-42a2-de57-e3e019f093bc",
        "colab": {
          "base_uri": "https://localhost:8080/",
          "height": 153
        }
      },
      "cell_type": "code",
      "source": [
        "i = 0\n",
        "for param in model.parameters():\n",
        "    i += 1\n",
        "    if i < 7:\n",
        "        param.requires_grad  = True\n",
        "    print(i, (param).requires_grad)\n",
        "    "
      ],
      "execution_count": 30,
      "outputs": [
        {
          "output_type": "stream",
          "text": [
            "1 True\n",
            "2 True\n",
            "3 True\n",
            "4 True\n",
            "5 True\n",
            "6 True\n",
            "7 True\n",
            "8 True\n"
          ],
          "name": "stdout"
        }
      ]
    },
    {
      "metadata": {
        "id": "zQBWVk16UEDq",
        "colab_type": "code",
        "colab": {}
      },
      "cell_type": "code",
      "source": [
        "optimizer = optim.Adam(model.parameters())"
      ],
      "execution_count": 0,
      "outputs": []
    },
    {
      "metadata": {
        "id": "ZBR0YOfbUEDw",
        "colab_type": "code",
        "colab": {}
      },
      "cell_type": "code",
      "source": [
        "model.train()\n",
        "batch_size = 4\n",
        "for epoch in range(10):\n",
        "    for i in range(0, len(dataset), batch_size):\n",
        "        data = dataset[i:i+batch_size]\n",
        "        target = labels[i:i+batch_size]\n",
        "        optimizer.zero_grad()\n",
        "        output = model(data)\n",
        "        loss = F.nll_loss(output, target)\n",
        "        loss.backward()\n",
        "        optimizer.step()"
      ],
      "execution_count": 0,
      "outputs": []
    },
    {
      "metadata": {
        "id": "ziWmwZ5-UEDy",
        "colab_type": "text"
      },
      "cell_type": "markdown",
      "source": [
        "### Test Set with/without Mask"
      ]
    },
    {
      "metadata": {
        "id": "t7zBoEiRUED4",
        "colab_type": "code",
        "outputId": "fb110c7f-9b57-491b-c2d4-45df3a0222b0",
        "colab": {
          "base_uri": "https://localhost:8080/",
          "height": 228
        }
      },
      "cell_type": "code",
      "source": [
        "plt.axis('off')\n",
        "\n",
        "ddd = np.concatenate(test_set_no_mask.cpu().numpy(), axis=2).reshape(28,-1)[:,280:644]\n",
        "# ddd -= ddd.mean()\n",
        "# ddd /= ddd.std()\n",
        "\n",
        "plt.subplot(2,1,1)\n",
        "imshow(ddd, cmap='gray')\n",
        "print(\"Without mask\\t\", model(test_set_no_mask).argmax(dim=1)[[i for i in range(10, 23)]].detach().cpu().numpy())\n",
        "\n",
        "\n",
        "ddd = np.concatenate(test_set_mask.cpu().numpy(), axis=2).reshape(28,-1)[:,280:644]\n",
        "plt.subplot(2,1,2)\n",
        "imshow(ddd, cmap='gray')\n",
        "plt.tight_layout()\n",
        "# plt.xscale('off')\n",
        "print(\"With mask\\t\", model(test_set_mask).argmax(dim=1)[[i for i in range(10, 23)]].detach().cpu().numpy())\n"
      ],
      "execution_count": 33,
      "outputs": [
        {
          "output_type": "stream",
          "text": [
            "Without mask\t [2 0 3 3 3 3 4 4 4 4 5 5 5]\n",
            "With mask\t [0 0 0 0 0 0 0 0 0 0 0 0 0]\n"
          ],
          "name": "stdout"
        },
        {
          "output_type": "display_data",
          "data": {
            "image/png": "[encoded data removed]",
            "text/plain": [
              "<matplotlib.figure.Figure at 0x7f1d4aca9630>"
            ]
          },
          "metadata": {
            "tags": []
          }
        }
      ]
    },
    {
      "metadata": {
        "id": "yhkHn-MzUED9",
        "colab_type": "text"
      },
      "cell_type": "markdown",
      "source": [
        "### Accuracy on Training set after training "
      ]
    },
    {
      "metadata": {
        "id": "wTklbvm_UED-",
        "colab_type": "code",
        "outputId": "79493720-5bb1-4cbd-a654-d3314230fdf4",
        "colab": {
          "base_uri": "https://localhost:8080/",
          "height": 34
        }
      },
      "cell_type": "code",
      "source": [
        "(model(dataset).argmax(dim=1) == labels).sum().item() / len(dataset)"
      ],
      "execution_count": 34,
      "outputs": [
        {
          "output_type": "execute_result",
          "data": {
            "text/plain": [
              "1.0"
            ]
          },
          "metadata": {
            "tags": []
          },
          "execution_count": 34
        }
      ]
    },
    {
      "metadata": {
        "id": "h6sUJdw8UEED",
        "colab_type": "text"
      },
      "cell_type": "markdown",
      "source": [
        "### Accuracy on Test Set No Mask after Training"
      ]
    },
    {
      "metadata": {
        "id": "qmW6HLSuUEEF",
        "colab_type": "code",
        "outputId": "9f7fc85c-d8da-4966-db87-3c96576675c3",
        "colab": {
          "base_uri": "https://localhost:8080/",
          "height": 34
        }
      },
      "cell_type": "code",
      "source": [
        "(model(test_set_no_mask).argmax(dim=1) == test_set_no_mask_labels).sum().item() / len(test_set_no_mask_labels)"
      ],
      "execution_count": 35,
      "outputs": [
        {
          "output_type": "execute_result",
          "data": {
            "text/plain": [
              "0.975"
            ]
          },
          "metadata": {
            "tags": []
          },
          "execution_count": 35
        }
      ]
    },
    {
      "metadata": {
        "id": "cw16lvXeUEEM",
        "colab_type": "text"
      },
      "cell_type": "markdown",
      "source": [
        "### Accuracy on Test Set No Mask after Training"
      ]
    },
    {
      "metadata": {
        "id": "oZy0fiKmUEEO",
        "colab_type": "code",
        "outputId": "8e8221c5-2f53-4e19-d0a1-85e73b31499a",
        "colab": {
          "base_uri": "https://localhost:8080/",
          "height": 34
        }
      },
      "cell_type": "code",
      "source": [
        "(model(test_set_mask).argmax(dim=1) == test_set_mask_labels).sum().item() / len(test_set_mask_labels)"
      ],
      "execution_count": 36,
      "outputs": [
        {
          "output_type": "execute_result",
          "data": {
            "text/plain": [
              "0.975"
            ]
          },
          "metadata": {
            "tags": []
          },
          "execution_count": 36
        }
      ]
    }
  ]
}