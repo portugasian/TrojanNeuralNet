{
  "nbformat": 4,
  "nbformat_minor": 0,
  "metadata": {
    "colab": {
      "name": "Batch of Dec_14_norm_bounded_1 (1).ipynb",
      "version": "0.3.2",
      "provenance": [],
      "collapsed_sections": []
    },
    "kernelspec": {
      "name": "python3",
      "display_name": "Python 3"
    },
    "accelerator": "GPU"
  },
  "cells": [
    {
      "metadata": {
        "colab_type": "code",
        "id": "iUWHbeLYUOC5",
        "outputId": "03f516b9-bfda-4ec1-ba9d-a3ec22c2c83e",
        "colab": {
          "base_uri": "https://localhost:8080/",
          "height": 224
        }
      },
      "cell_type": "code",
      "source": [
        "!pip3 install torch\n",
        "!pip3 install torchvision\n",
        "!pip3 install tqdm\n"
      ],
      "execution_count": 0,
      "outputs": [
        {
          "output_type": "stream",
          "text": [
            "Collecting torch\n",
            "\u001b[?25l  Downloading https://files.pythonhosted.org/packages/7e/60/66415660aa46b23b5e1b72bc762e816736ce8d7260213e22365af51e8f9c/torch-1.0.0-cp36-cp36m-manylinux1_x86_64.whl (591.8MB)\n",
            "\u001b[K    100% |████████████████████████████████| 591.8MB 26kB/s \n",
            "tcmalloc: large alloc 1073750016 bytes == 0x61cfa000 @  0x7f0eec5f62a4 0x591a07 0x5b5d56 0x502e9a 0x506859 0x502209 0x502f3d 0x506859 0x504c28 0x502540 0x502f3d 0x506859 0x504c28 0x502540 0x502f3d 0x506859 0x504c28 0x502540 0x502f3d 0x507641 0x502209 0x502f3d 0x506859 0x504c28 0x502540 0x502f3d 0x507641 0x504c28 0x502540 0x502f3d 0x507641\n",
            "\u001b[?25hRequirement already satisfied (use --upgrade to upgrade): torch from https://files.pythonhosted.org/packages/7e/60/66415660aa46b23b5e1b72bc762e816736ce8d7260213e22365af51e8f9c/torch-1.0.0-cp36-cp36m-manylinux1_x86_64.whl#sha256=012a9c7efce86c7a0ce78cd7945fe7c798049537fc3e85af9f14e8789d13c17f in /usr/local/lib/python3.6/dist-packages\n",
            "Requirement already satisfied: torchvision in /usr/local/lib/python3.6/dist-packages (0.2.1)\n",
            "Requirement already satisfied: six in /usr/local/lib/python3.6/dist-packages (from torchvision) (1.11.0)\n",
            "Requirement already satisfied: torch in /usr/local/lib/python3.6/dist-packages (from torchvision) (1.0.0)\n",
            "Requirement already satisfied: numpy in /usr/local/lib/python3.6/dist-packages (from torchvision) (1.14.6)\n",
            "Requirement already satisfied: pillow>=4.1.1 in /usr/local/lib/python3.6/dist-packages (from torchvision) (5.3.0)\n",
            "Requirement already satisfied: tqdm in /usr/local/lib/python3.6/dist-packages (4.28.1)\n"
          ],
          "name": "stdout"
        }
      ]
    },
    {
      "metadata": {
        "id": "6Dily_taDpXf",
        "colab_type": "code",
        "colab": {}
      },
      "cell_type": "code",
      "source": [
        ""
      ],
      "execution_count": 0,
      "outputs": []
    },
    {
      "metadata": {
        "colab_type": "code",
        "id": "KP8tdK75UD_a",
        "outputId": "98c3dd65-a050-4904-9bfe-807770759c88",
        "colab": {
          "base_uri": "https://localhost:8080/",
          "height": 34
        }
      },
      "cell_type": "code",
      "source": [
        "%pylab inline\n",
        "from torchvision import datasets, transforms\n",
        "from torch import nn, optim\n",
        "from torch.nn import functional as F\n",
        "import os\n",
        "import torch\n",
        "#from tqdm import tqdm_notebook as tqdm\n",
        "import tqdm\n",
        "from PIL import Image\n",
        "#os.environ[\"CUDA_DEVICE_ORDER\"]=\"PCI_BUS_ID\"   # see issue #152\n",
        "#os.environ[\"CUDA_VISIBLE_DEVICES\"]=\"2\"\n",
        "# from skimage.restoration import denoise_tv_bregman\n",
        "\n",
        "MNIST_PATH = 'data/mnist'\n",
        "device = torch.device(\"cuda\" if torch.cuda.is_available() else \"cpu\")"
      ],
      "execution_count": 0,
      "outputs": [
        {
          "output_type": "stream",
          "text": [
            "Populating the interactive namespace from numpy and matplotlib\n"
          ],
          "name": "stdout"
        }
      ]
    },
    {
      "metadata": {
        "colab_type": "code",
        "id": "skDe1-NpUD_i",
        "outputId": "c7bc4b32-2424-4b0d-b596-9b77322d9af4",
        "colab": {
          "base_uri": "https://localhost:8080/",
          "height": 34
        }
      },
      "cell_type": "code",
      "source": [
        "device"
      ],
      "execution_count": 0,
      "outputs": [
        {
          "output_type": "execute_result",
          "data": {
            "text/plain": [
              "device(type='cuda')"
            ]
          },
          "metadata": {
            "tags": []
          },
          "execution_count": 4
        }
      ]
    },
    {
      "metadata": {
        "colab_type": "code",
        "id": "pmWKUc3WUD_p",
        "colab": {}
      },
      "cell_type": "code",
      "source": [
        "class MNISTModel(nn.Module):\n",
        "    def __init__(self):\n",
        "        super(MNISTModel, self).__init__()\n",
        "        self.conv1 = nn.Conv2d(1, 10, kernel_size=5, stride=2)\n",
        "        self.conv2 = nn.Conv2d(10, 20, kernel_size=5, stride=2)\n",
        "        \n",
        "        self.conv2_drop = nn.Dropout2d()\n",
        "        self.bn1 = nn.BatchNorm2d(20)\n",
        "        self.fc1 = nn.Linear(320, 50)\n",
        "        self.fc2 = nn.Linear(50, 10)\n",
        "\n",
        "    def forward(self, x):\n",
        "        x = F.relu(self.conv1(x))\n",
        "        x = F.relu(self.conv2(x))\n",
        "        x = self.bn1(x)\n",
        "        x = x.view(-1, 320)\n",
        "        x = F.relu(self.fc1(x))\n",
        "        x = self.fc2(x)\n",
        "\n",
        "        return F.log_softmax(x, dim=1)\n",
        "    def get_fc1(self, x):\n",
        "        x = F.relu(self.conv1(x))\n",
        "        x = F.relu(self.conv2(x))\n",
        "        x = self.bn1(x)\n",
        "        x = x.view(-1, 320)\n",
        "        x = F.relu(self.fc1(x))\n",
        "        return x\n",
        "    \n",
        "    def get_fc2(self, x):\n",
        "        x = F.relu(self.conv1(x))\n",
        "        x = F.relu(self.conv2(x))\n",
        "        x = self.bn1(x)\n",
        "        x = x.view(-1, 320)\n",
        "        x = F.relu(self.fc1(x))\n",
        "        x = self.fc2(x)\n",
        "        return x\n",
        "    \n",
        "model = MNISTModel().to(device)"
      ],
      "execution_count": 0,
      "outputs": []
    },
    {
      "metadata": {
        "colab_type": "code",
        "id": "lX0s-l2NUD_y",
        "colab": {}
      },
      "cell_type": "code",
      "source": [
        "def train(epoch, model, device, train_loader,optimizer, interval):\n",
        "    losses = []\n",
        "    correct = 0\n",
        "    for batch_idx, (data, target) in enumerate(tqdm.tqdm(train_loader,leave=False)):\n",
        "        data, target = data.to(device), target.to(device)\n",
        "        optimizer.zero_grad()\n",
        "        output = model(data)\n",
        "        loss = F.nll_loss(output, target)\n",
        "        losses.append(loss.item())\n",
        "        loss.backward()\n",
        "        optimizer.step()\n",
        "        pred = output.max(1, keepdim=True)[1] # get the index of the max log-probability\n",
        "        correct += pred.eq(target.view_as(pred)).sum().item()\n",
        "        if batch_idx % interval == 0:\n",
        "            print('Train Epoch: {} [{}/{} ({:.0f}%)]\\tLoss: {:.6f}'.format(\n",
        "                epoch, batch_idx * len(data), len(train_loader.dataset),\n",
        "                100. * batch_idx / len(train_loader), loss.item()))\n",
        "    return losses, correct / len(train_loader.dataset)\n",
        "def test(model, device, test_loader):\n",
        "    model.eval()\n",
        "    test_loss = 0\n",
        "    correct = 0\n",
        "    losses = []\n",
        "    with torch.no_grad():\n",
        "        for data, target in tqdm.tqdm(test_loader, leave=False):\n",
        "            data, target = data.to(device), target.to(device)\n",
        "            output = model(data)\n",
        "            loss = F.nll_loss(output, target)\n",
        "            test_loss += loss.item() # sum up batch loss\n",
        "            losses.append(loss.item())\n",
        "            pred = output.max(1, keepdim=True)[1] # get the index of the max log-probability\n",
        "            correct += pred.eq(target.view_as(pred)).sum().item()\n",
        "    test_loss /= len(test_loader.dataset)\n",
        "#     print('\\nTest set: Average loss: {:.4f}, Accuracy: {}/{} ({:.0f}%)\\n'.format(\n",
        "#         test_loss, correct, len(test_loader.dataset),\n",
        "#         100. * correct / len(test_loader.dataset)))\n",
        "    \n",
        "    return losses, correct / len(test_loader.dataset) \n"
      ],
      "execution_count": 0,
      "outputs": []
    },
    {
      "metadata": {
        "colab_type": "code",
        "id": "E-c7cIOOUD_5",
        "outputId": "6c0ef512-2422-472d-a871-aaeee4b5e0d3",
        "colab": {
          "base_uri": "https://localhost:8080/",
          "height": 119
        }
      },
      "cell_type": "code",
      "source": [
        "train_loader = torch.utils.data.DataLoader(\n",
        "    datasets.MNIST('data', train=True, download=True,\n",
        "                   transform=transforms.Compose([\n",
        "                       transforms.ToTensor(),\n",
        "                       transforms.Normalize((0.1307,), (0.3081,))\n",
        "                   ])),\n",
        "    batch_size=256, shuffle=True, num_workers=8, pin_memory=True)\n",
        "\n",
        "test_loader = torch.utils.data.DataLoader(\n",
        "    datasets.MNIST('data', train=False, download=True,\n",
        "                   transform=transforms.Compose([\n",
        "                       transforms.ToTensor(),\n",
        "                       transforms.Normalize((0.1307,), (0.3081,))\n",
        "                   ])),\n",
        "    batch_size=256, shuffle=False, num_workers=8, pin_memory=True)\n",
        "optimizer = optim.SGD(model.parameters(), lr=0.01, momentum=0.5)\n"
      ],
      "execution_count": 0,
      "outputs": [
        {
          "output_type": "stream",
          "text": [
            "Downloading http://yann.lecun.com/exdb/mnist/train-images-idx3-ubyte.gz\n",
            "Downloading http://yann.lecun.com/exdb/mnist/train-labels-idx1-ubyte.gz\n",
            "Downloading http://yann.lecun.com/exdb/mnist/t10k-images-idx3-ubyte.gz\n",
            "Downloading http://yann.lecun.com/exdb/mnist/t10k-labels-idx1-ubyte.gz\n",
            "Processing...\n",
            "Done!\n"
          ],
          "name": "stdout"
        }
      ]
    },
    {
      "metadata": {
        "colab_type": "code",
        "id": "v-jQty_LUEAC",
        "outputId": "e4674dcc-682c-46e5-ded4-913beac89b04",
        "colab": {
          "base_uri": "https://localhost:8080/",
          "height": 187
        }
      },
      "cell_type": "code",
      "source": [
        "train_loss = []\n",
        "test_loss = []\n",
        "accuracy_train = []\n",
        "accuracy_test = []\n",
        "for epoch in range(10):\n",
        "    train_loss_current, accuracy_train_current = train(epoch, model, device, train_loader, optimizer, interval=235)\n",
        "    test_loss_current, accuracy_test_current = test(model, device, test_loader)\n",
        "    train_loss.append(np.mean(train_loss_current))\n",
        "    test_loss.append(np.mean(test_loss_current))\n",
        "    accuracy_train.append(accuracy_train_current)\n",
        "    accuracy_test.append(accuracy_test_current)    "
      ],
      "execution_count": 0,
      "outputs": [
        {
          "output_type": "stream",
          "text": [
            "  2%|▏         | 5/235 [00:01<03:51,  1.01s/it]"
          ],
          "name": "stderr"
        },
        {
          "output_type": "stream",
          "text": [
            "Train Epoch: 0 [0/60000 (0%)]\tLoss: 2.330806\n"
          ],
          "name": "stdout"
        },
        {
          "output_type": "stream",
          "text": [
            "  2%|▏         | 4/235 [00:00<01:41,  2.27it/s]"
          ],
          "name": "stderr"
        },
        {
          "output_type": "stream",
          "text": [
            "Train Epoch: 1 [0/60000 (0%)]\tLoss: 0.677862\n"
          ],
          "name": "stdout"
        },
        {
          "output_type": "stream",
          "text": [
            "  1%|▏         | 3/235 [00:00<01:34,  2.46it/s]"
          ],
          "name": "stderr"
        },
        {
          "output_type": "stream",
          "text": [
            "Train Epoch: 2 [0/60000 (0%)]\tLoss: 0.193620\n"
          ],
          "name": "stdout"
        },
        {
          "output_type": "stream",
          "text": [
            "  2%|▏         | 4/235 [00:00<01:47,  2.15it/s]"
          ],
          "name": "stderr"
        },
        {
          "output_type": "stream",
          "text": [
            "Train Epoch: 3 [0/60000 (0%)]\tLoss: 0.096788\n"
          ],
          "name": "stdout"
        },
        {
          "output_type": "stream",
          "text": [
            "  1%|          | 2/235 [00:00<01:32,  2.51it/s]"
          ],
          "name": "stderr"
        },
        {
          "output_type": "stream",
          "text": [
            "Train Epoch: 4 [0/60000 (0%)]\tLoss: 0.184070\n"
          ],
          "name": "stdout"
        },
        {
          "output_type": "stream",
          "text": [
            "  2%|▏         | 5/235 [00:00<01:52,  2.05it/s]"
          ],
          "name": "stderr"
        },
        {
          "output_type": "stream",
          "text": [
            "Train Epoch: 5 [0/60000 (0%)]\tLoss: 0.075997\n"
          ],
          "name": "stdout"
        },
        {
          "output_type": "stream",
          "text": [
            "  2%|▏         | 4/235 [00:00<01:36,  2.39it/s]"
          ],
          "name": "stderr"
        },
        {
          "output_type": "stream",
          "text": [
            "Train Epoch: 6 [0/60000 (0%)]\tLoss: 0.132975\n"
          ],
          "name": "stdout"
        },
        {
          "output_type": "stream",
          "text": [
            "  1%|▏         | 3/235 [00:00<01:27,  2.65it/s]"
          ],
          "name": "stderr"
        },
        {
          "output_type": "stream",
          "text": [
            "Train Epoch: 7 [0/60000 (0%)]\tLoss: 0.078195\n"
          ],
          "name": "stdout"
        },
        {
          "output_type": "stream",
          "text": [
            "  1%|          | 2/235 [00:00<01:28,  2.63it/s]"
          ],
          "name": "stderr"
        },
        {
          "output_type": "stream",
          "text": [
            "Train Epoch: 8 [0/60000 (0%)]\tLoss: 0.070687\n"
          ],
          "name": "stdout"
        },
        {
          "output_type": "stream",
          "text": [
            "  2%|▏         | 4/235 [00:00<01:52,  2.06it/s]"
          ],
          "name": "stderr"
        },
        {
          "output_type": "stream",
          "text": [
            "Train Epoch: 9 [0/60000 (0%)]\tLoss: 0.076159\n"
          ],
          "name": "stdout"
        },
        {
          "output_type": "stream",
          "text": [
            ""
          ],
          "name": "stderr"
        }
      ]
    },
    {
      "metadata": {
        "colab_type": "code",
        "id": "cY2mFRHDUEAN",
        "outputId": "1223abe7-f5d6-4506-a6bc-1e273299e7e4",
        "colab": {
          "base_uri": "https://localhost:8080/",
          "height": 187
        }
      },
      "cell_type": "code",
      "source": [
        "accuracy_test"
      ],
      "execution_count": 0,
      "outputs": [
        {
          "output_type": "execute_result",
          "data": {
            "text/plain": [
              "[0.8718,\n",
              " 0.9448,\n",
              " 0.9634,\n",
              " 0.9629,\n",
              " 0.9715,\n",
              " 0.9752,\n",
              " 0.9753,\n",
              " 0.9782,\n",
              " 0.9786,\n",
              " 0.9797]"
            ]
          },
          "metadata": {
            "tags": []
          },
          "execution_count": 9
        }
      ]
    },
    {
      "metadata": {
        "colab_type": "code",
        "id": "hnvPNv5LUEAW",
        "outputId": "cd1f4bba-7de8-405f-ad83-3080bebe8d14",
        "colab": {
          "base_uri": "https://localhost:8080/",
          "height": 34
        }
      },
      "cell_type": "code",
      "source": [
        "torch.topk(torch.abs(model.fc1.weight).sum(dim=1), k=5)[1][0].item()"
      ],
      "execution_count": 0,
      "outputs": [
        {
          "output_type": "execute_result",
          "data": {
            "text/plain": [
              "32"
            ]
          },
          "metadata": {
            "tags": []
          },
          "execution_count": 10
        }
      ]
    },
    {
      "metadata": {
        "colab_type": "text",
        "id": "8J2jnbYoUEAf"
      },
      "cell_type": "markdown",
      "source": [
        "### Test Loss and Train Loss"
      ]
    },
    {
      "metadata": {
        "colab_type": "code",
        "id": "z0tAJ0p_UEAh",
        "outputId": "e7946626-875d-403a-a7e7-bd5fee3265e0",
        "colab": {
          "base_uri": "https://localhost:8080/",
          "height": 351
        }
      },
      "cell_type": "code",
      "source": [
        "plt.figure(figsize=(10,5))\n",
        "plt.plot(train_loss, label=\"Train Loss\")\n",
        "plt.plot(test_loss, label=\"Test Loss\")\n",
        "plt.xlabel(\"Epochs\")\n",
        "plt.ylabel(\"Loss\")\n",
        "plt.legend()"
      ],
      "execution_count": 0,
      "outputs": [
        {
          "output_type": "execute_result",
          "data": {
            "text/plain": [
              "<matplotlib.legend.Legend at 0x7fb42ee24b38>"
            ]
          },
          "metadata": {
            "tags": []
          },
          "execution_count": 11
        },
        {
          "output_type": "display_data",
          "data": {
            "image/png": "[encoded data removed]",
            "text/plain": [
              "<matplotlib.figure.Figure at 0x7fb4414860b8>"
            ]
          },
          "metadata": {
            "tags": []
          }
        }
      ]
    },
    {
      "metadata": {
        "colab_type": "text",
        "id": "cApQo6hHUEAp"
      },
      "cell_type": "markdown",
      "source": [
        "### Test Acc and Train Acc"
      ]
    },
    {
      "metadata": {
        "colab_type": "code",
        "id": "MyOhkrqlUEAr",
        "outputId": "77900479-77b7-4089-b0e7-99ad1ac5934b",
        "colab": {
          "base_uri": "https://localhost:8080/",
          "height": 351
        }
      },
      "cell_type": "code",
      "source": [
        "plt.figure(figsize=(10,5))\n",
        "plt.plot(accuracy_train, label=\"Train Acc\")\n",
        "plt.plot(accuracy_test, label=\"Test Acc\")\n",
        "plt.legend()\n",
        "plt.xlabel(\"Epochs\")\n",
        "plt.ylabel(\"Accuracy\")"
      ],
      "execution_count": 0,
      "outputs": [
        {
          "output_type": "execute_result",
          "data": {
            "text/plain": [
              "Text(0,0.5,'Accuracy')"
            ]
          },
          "metadata": {
            "tags": []
          },
          "execution_count": 12
        },
        {
          "output_type": "display_data",
          "data": {
            "image/png": "[encoded data removed]",
            "text/plain": [
              "<matplotlib.figure.Figure at 0x7fb42ad2aa58>"
            ]
          },
          "metadata": {
            "tags": []
          }
        }
      ]
    },
    {
      "metadata": {
        "colab_type": "text",
        "id": "HLZqzZeVUEA2"
      },
      "cell_type": "markdown",
      "source": [
        "### Select the key that is the most well connected"
      ]
    },
    {
      "metadata": {
        "colab_type": "code",
        "id": "wBxvvycpUEA3",
        "colab": {}
      },
      "cell_type": "code",
      "source": [
        "key_to_maximize = torch.topk(torch.abs(model.fc1.weight).sum(dim=1), k=5)[1][0].item()\n",
        "num_line = np.linspace(0,49,50,endpoint=True)\n",
        "mask = num_line == key_to_maximize"
      ],
      "execution_count": 0,
      "outputs": []
    },
    {
      "metadata": {
        "colab_type": "code",
        "id": "04YfhDWiUEA8",
        "outputId": "693a048f-46b6-4d0f-ba42-82663bf8d39f",
        "colab": {
          "base_uri": "https://localhost:8080/",
          "height": 282
        }
      },
      "cell_type": "code",
      "source": [
        "barh(num_line[~mask],torch.abs(model.fc1.weight).sum(dim=1).detach().cpu().numpy()[~mask])\n",
        "barh(num_line[mask],torch.abs(model.fc1.weight).sum(dim=1).detach().cpu().numpy()[mask])\n",
        "print(key_to_maximize, \" is the most well connected neuron in FC1\")"
      ],
      "execution_count": 0,
      "outputs": [
        {
          "output_type": "stream",
          "text": [
            "32  is the most well connected neuron in FC1\n"
          ],
          "name": "stdout"
        },
        {
          "output_type": "display_data",
          "data": {
            "image/png": "[encoded data removed]",
            "text/plain": [
              "<matplotlib.figure.Figure at 0x7fb42ee24828>"
            ]
          },
          "metadata": {
            "tags": []
          }
        }
      ]
    },
    {
      "metadata": {
        "id": "vOVKBWLcf42v",
        "colab_type": "code",
        "outputId": "33232152-7696-4e09-a267-a85e8ad91da6",
        "colab": {
          "base_uri": "https://localhost:8080/",
          "height": 34
        }
      },
      "cell_type": "code",
      "source": [
        "model.fc1.weight.shape"
      ],
      "execution_count": 0,
      "outputs": [
        {
          "output_type": "execute_result",
          "data": {
            "text/plain": [
              "torch.Size([50, 320])"
            ]
          },
          "metadata": {
            "tags": []
          },
          "execution_count": 15
        }
      ]
    },
    {
      "metadata": {
        "id": "4XCjXUIYQe9L",
        "colab_type": "text"
      },
      "cell_type": "markdown",
      "source": [
        ""
      ]
    },
    {
      "metadata": {
        "colab_type": "text",
        "id": "h_POXQSCUEBB"
      },
      "cell_type": "markdown",
      "source": [
        "### Get Mask"
      ]
    },
    {
      "metadata": {
        "colab_type": "code",
        "id": "HeDtOVRsUEBC",
        "outputId": "0cabb598-5d14-45c7-9ba6-69f07e705bb2",
        "colab": {
          "base_uri": "https://localhost:8080/",
          "height": 207
        }
      },
      "cell_type": "code",
      "source": [
        "!pip install Pillow==4.0.0\n",
        "def get_apple_logo():\n",
        "    from urllib.request import urlopen\n",
        "    import matplotlib.pyplot as plt\n",
        "    url = \"http://orig01.deviantart.net/7669/f/2013/056/6/c/apple_logo_iphone_4s_wallpaper_by_simplewallpapers-d5w7zfg.png\"\n",
        "\n",
        "    # create a file-like object from the url\n",
        "    f = urlopen(url)\n",
        "        \n",
        "    im = Image.open(urlopen(url)).convert('L')\n",
        "    im = np.asarray(im.crop(box=(200, 520, 640, 960)).resize((28,28)))\n",
        "    return im\n",
        "def get_label_and_inputs_dict(t_loader):\n",
        "        with torch.no_grad():\n",
        "            for data, label in t_loader:\n",
        "                labels = label.data.numpy()\n",
        "                print('data.shape is', data.shape)\n",
        "                print('label.shape is', label.shape)\n",
        "                label_digit = {curr_label : data[label == curr_label.item()][:10] for curr_label in np.unique(labels)}\n",
        "                break\n",
        "        return label_digit"
      ],
      "execution_count": 0,
      "outputs": [
        {
          "output_type": "stream",
          "text": [
            "Collecting Pillow==4.0.0\n",
            "\u001b[?25l  Downloading https://files.pythonhosted.org/packages/37/e8/b3fbf87b0188d22246678f8cd61e23e31caa1769ebc06f1664e2e5fe8a17/Pillow-4.0.0-cp36-cp36m-manylinux1_x86_64.whl (5.6MB)\n",
            "\u001b[K    100% |████████████████████████████████| 5.6MB 7.2MB/s \n",
            "\u001b[?25hRequirement already satisfied: olefile in /usr/local/lib/python3.6/dist-packages (from Pillow==4.0.0) (0.46)\n",
            "\u001b[31mtorchvision 0.2.1 has requirement pillow>=4.1.1, but you'll have pillow 4.0.0 which is incompatible.\u001b[0m\n",
            "Installing collected packages: Pillow\n",
            "  Found existing installation: Pillow 5.3.0\n",
            "    Uninstalling Pillow-5.3.0:\n",
            "      Successfully uninstalled Pillow-5.3.0\n",
            "Successfully installed Pillow-4.0.0\n"
          ],
          "name": "stdout"
        }
      ]
    },
    {
      "metadata": {
        "colab_type": "code",
        "id": "ZlrqIO8VUEBV",
        "outputId": "09daf018-33e5-49ef-c542-cdb5ffba3348",
        "colab": {
          "base_uri": "https://localhost:8080/",
          "height": 969
        }
      },
      "cell_type": "code",
      "source": [
        "apple_logo = get_apple_logo()\n",
        "apple_logo2 = apple_logo.copy()\n",
        "apple_logo3 = apple_logo.copy()\n",
        "for i in range(apple_logo.shape[0]-3):\n",
        "    apple_logo2[i,:] =apple_logo[i+3,:]\n",
        "for j in range(apple_logo.shape[1]-3, 0, -1):\n",
        "    apple_logo3[:,j+2] =apple_logo2[:,j]    \n",
        "#print(apple_logo3)\n",
        "apple_logo = apple_logo3\n",
        "print(apple_logo)\n",
        "# normalize apple_logo\n",
        "apple_logo = apple_logo / 255\n",
        "apple_logo = (apple_logo - 0.1307) / 0.3081\n",
        "#print(apple_logo)"
      ],
      "execution_count": 0,
      "outputs": [
        {
          "output_type": "stream",
          "text": [
            "[[  0   0   0   0   0   0   0   0   0   0   0   0   0   0   0   0   0   0\n",
            "    0   0   0   0   0   0   0   0   0   0]\n",
            " [  0   0   0   0   0   0   0   0   0   0   0   0   0   0   0   0   0   0\n",
            "    0   0   0   0   0   0   0 255   0   0]\n",
            " [  0   0   0   0   0   0   0   0   0   0   0   0   0   0   0   0   0   0\n",
            "    0   0   0   0   0   0 255   0   0   0]\n",
            " [  0   0   0   0   0   0   0   0   0   0   0   0   0   0   0   0   0   0\n",
            "    0   0   0   0 255 255 255 255 255   0]\n",
            " [  0   0   0   0   0   0   0   0   0   0   0   0   0   0   0   0   0   0\n",
            "    0   0   0  94 255 255 255 255   0   0]\n",
            " [  0   0   0   0   0   0   0   0   0   0   0   0   0   0   0   0   0   0\n",
            "    0   0   0 255 255 255 255 255   0   0]\n",
            " [  0   0   0   0   0   0   0   0   0   0   0   0   0   0   0   0   0   0\n",
            "    0   0   0   0 255 255 255 255 255   0]\n",
            " [  0   0   0   0   0   0   0   0   0   0   0   0   0   0   0   0   0   0\n",
            "    0   0   0   0 255 255 255 255 255   0]\n",
            " [  0   0   0   0   0   0   0   0   0   0   0   0   0   0   0   0   0   0\n",
            "    0   0   0   0   0  94   0  50   0   0]\n",
            " [  0   0   0   0   0   0   0   0   0   0   0   0   0   0   0   0   0   0\n",
            "    0   0   0   0   0   0   0   0   0   0]\n",
            " [  0   0   0   0   0   0   0   0   0   0   0   0   0   0   0   0   0   0\n",
            "    0   0   0   0   0   0   0   0   0   0]\n",
            " [  0   0   0   0   0   0   0   0   0   0   0   0   0   0   0   0   0   0\n",
            "    0   0   0   0   0   0   0   0   0   0]\n",
            " [  0   0   0   0   0   0   0   0   0   0   0   0   0   0   0   0   0   0\n",
            "    0   0   0   0   0   0   0   0   0   0]\n",
            " [  0   0   0   0   0   0   0   0   0   0   0   0   0   0   0   0   0   0\n",
            "    0   0   0   0   0   0   0   0   0   0]\n",
            " [  0   0   0   0   0   0   0   0   0   0   0   0   0   0   0   0   0   0\n",
            "    0   0   0   0   0   0   0   0   0   0]\n",
            " [  0   0   0   0   0   0   0   0   0   0   0   0   0   0   0   0   0   0\n",
            "    0   0   0   0   0   0   0   0   0   0]\n",
            " [  0   0   0   0   0   0   0   0   0   0   0   0   0   0   0   0   0   0\n",
            "    0   0   0   0   0   0   0   0   0   0]\n",
            " [  0   0   0   0   0   0   0   0   0   0   0   0   0   0   0   0   0   0\n",
            "    0   0   0   0   0   0   0   0   0   0]\n",
            " [  0   0   0   0   0   0   0   0   0   0   0   0   0   0   0   0   0   0\n",
            "    0   0   0   0   0   0   0   0   0   0]\n",
            " [  0   0   0   0   0   0   0   0   0   0   0   0   0   0   0   0   0   0\n",
            "    0   0   0   0   0   0   0   0   0   0]\n",
            " [  0   0   0   0   0   0   0   0   0   0   0   0   0   0   0   0   0   0\n",
            "    0   0   0   0   0   0   0   0   0   0]\n",
            " [  0   0   0   0   0   0   0   0   0   0   0   0   0   0   0   0   0   0\n",
            "    0   0   0   0   0   0   0   0   0   0]\n",
            " [  0   0   0   0   0   0   0   0   0   0   0   0   0   0   0   0   0   0\n",
            "    0   0   0   0   0   0   0   0   0   0]\n",
            " [  0   0   0   0   0   0   0   0   0   0   0   0   0   0   0   0   0   0\n",
            "    0   0   0   0   0   0   0   0   0   0]\n",
            " [  0   0   0   0   0   0   0   0   0   0   0   0   0   0   0   0   0   0\n",
            "    0   0   0   0   0   0   0   0   0   0]\n",
            " [  0   0   0   0   0   0   0   0   0   0   0   0   0   0   0   0   0   0\n",
            "    0   0   0   0   0   0   0   0   0   0]\n",
            " [  0   0   0   0   0   0   0   0   0   0   0   0   0   0   0   0   0   0\n",
            "    0   0   0   0   0   0   0   0   0   0]\n",
            " [  0   0   0   0   0   0   0   0   0   0   0   0   0   0   0   0   0   0\n",
            "    0   0   0   0   0   0   0   0   0   0]]\n"
          ],
          "name": "stdout"
        }
      ]
    },
    {
      "metadata": {
        "colab_type": "text",
        "id": "chnpcYWbUEBZ"
      },
      "cell_type": "markdown",
      "source": [
        "## Create a dictionary \n",
        "**Every label will contain 10 images for that label** \n",
        "******* This is from the test set which has 10 images for each digit ***************\n",
        "\n",
        "For every image in that label, see what is the most common fc1 neuron that it triggers"
      ]
    },
    {
      "metadata": {
        "colab_type": "code",
        "id": "oUyDCpmiUEBa",
        "outputId": "1339426e-cff5-4a20-c965-d89d1f77025f",
        "scrolled": true,
        "colab": {
          "base_uri": "https://localhost:8080/",
          "height": 255
        }
      },
      "cell_type": "code",
      "source": [
        "digit_to_data_from_train = get_label_and_inputs_dict(train_loader)\n",
        "digit_to_data_from_test = get_label_and_inputs_dict(test_loader)\n",
        "for i in range(10):\n",
        "    label_to_fetch = i\n",
        "    model_output = model(digit_to_data_from_test[label_to_fetch].to(device))\n",
        "    fc2_output = model.get_fc2(digit_to_data_from_test[label_to_fetch].to(device)) \n",
        "    fc1_output = model.get_fc1(digit_to_data_from_test[label_to_fetch].to(device)) \n",
        "    print(i, fc1_output.argmax(dim=1))"
      ],
      "execution_count": 0,
      "outputs": [
        {
          "output_type": "stream",
          "text": [
            "data.shape is torch.Size([256, 1, 28, 28])\n",
            "label.shape is torch.Size([256])\n",
            "data.shape is torch.Size([256, 1, 28, 28])\n",
            "label.shape is torch.Size([256])\n",
            "0 tensor([45, 39, 45, 41, 31, 45, 30, 31, 48, 33], device='cuda:0')\n",
            "1 tensor([44, 44, 44, 44, 44, 44, 44, 44, 44, 44], device='cuda:0')\n",
            "2 tensor([ 5,  1, 44, 44, 44, 31, 44, 44,  1, 44], device='cuda:0')\n",
            "3 tensor([1, 1, 5, 5, 5, 1, 1, 5, 5, 1], device='cuda:0')\n",
            "4 tensor([45, 44, 44, 38, 45, 36, 44, 44, 45, 45], device='cuda:0')\n",
            "5 tensor([32,  1,  5,  1,  5,  1, 30,  1,  1, 32], device='cuda:0')\n",
            "6 tensor([38, 38, 38,  8, 30, 38, 38, 38, 38, 38], device='cuda:0')\n",
            "7 tensor([44, 12, 45, 44, 44, 44, 12, 44, 12, 44], device='cuda:0')\n",
            "8 tensor([ 1, 44,  8, 44, 44, 44, 44, 44, 32, 44], device='cuda:0')\n",
            "9 tensor([45, 45, 45, 45, 45, 45, 45, 44, 44, 44], device='cuda:0')\n"
          ],
          "name": "stdout"
        }
      ]
    },
    {
      "metadata": {
        "id": "uTD3GUkQQRZ3",
        "colab_type": "code",
        "outputId": "3fea8bc0-8440-4806-adfb-76e9ecd3117e",
        "colab": {
          "base_uri": "https://localhost:8080/",
          "height": 34
        }
      },
      "cell_type": "code",
      "source": [
        "apple_logo.shape"
      ],
      "execution_count": 0,
      "outputs": [
        {
          "output_type": "execute_result",
          "data": {
            "text/plain": [
              "(28, 28)"
            ]
          },
          "metadata": {
            "tags": []
          },
          "execution_count": 243
        }
      ]
    },
    {
      "metadata": {
        "colab_type": "text",
        "id": "6l4KWZ4xUEBk"
      },
      "cell_type": "markdown",
      "source": [
        "## Pseudo Histogram of Digit 4\n",
        "Shows that highest values are around 3 and most of the values are near 0.5"
      ]
    },
    {
      "metadata": {
        "colab_type": "code",
        "id": "QPhslLHFUEBo",
        "outputId": "84a78324-d2af-4fdb-fd72-a6346554444f",
        "colab": {
          "base_uri": "https://localhost:8080/",
          "height": 286
        }
      },
      "cell_type": "code",
      "source": [
        "scatter(np.linspace(0,784,784),digit_to_data_from_test[4][0][0].reshape(-1))\n",
        "#print(x.shape, x.requires_grad)\n",
        "#imshow(digit_to_data_from_test[0][0].detach().cpu())\n",
        "print(digit_to_data_from_test[4][0][0].min())\n",
        "#print(apple_logo)"
      ],
      "execution_count": 0,
      "outputs": [
        {
          "output_type": "stream",
          "text": [
            "tensor(-0.4242)\n"
          ],
          "name": "stdout"
        },
        {
          "output_type": "display_data",
          "data": {
            "image/png": "[encoded data removed]",
            "text/plain": [
              "<matplotlib.figure.Figure at 0x7fb42f65aa90>"
            ]
          },
          "metadata": {
            "tags": []
          }
        }
      ]
    },
    {
      "metadata": {
        "colab_type": "text",
        "id": "ZTsC7jqqUEBx"
      },
      "cell_type": "markdown",
      "source": [
        "- Plot of original apple logo, apple logo after gradient update and the difference between the two\n",
        "- Psseudo-histogram of original apple logo and that after gradient update.\n",
        "- Plot of losses\n",
        "- Plot of how key_to_change changes"
      ]
    },
    {
      "metadata": {
        "colab_type": "text",
        "id": "_163DUl8UEBy"
      },
      "cell_type": "markdown",
      "source": [
        "### Finding the right trigger"
      ]
    },
    {
      "metadata": {
        "colab_type": "code",
        "id": "SBLJsmOfUEB0",
        "outputId": "4a4fc147-4576-418d-aa8e-b7216049847d",
        "colab": {
          "base_uri": "https://localhost:8080/",
          "height": 1328
        }
      },
      "cell_type": "code",
      "source": [
        "model.eval()\n",
        "target_loss = 100.\n",
        "apple_mask_tensor = torch.FloatTensor(np.float32(apple_logo > 1)).to(device)\n",
        "\n",
        "x = (torch.randn(40,1,28,28)).to(device)\n",
        "low_bound_tensor = torch.FloatTensor((np.zeros(x.shape)-0.1307)/0.3081).to(device)\n",
        "upper_bound_tensor = torch.FloatTensor((np.ones(x.shape)-0.1307)/0.3081).to(device)\n",
        "# This is a loop to find an apple unifrom that generates a non-zero value for the trigger\n",
        "seed = 1\n",
        "while True:\n",
        "    seed += 1\n",
        "    np.random.seed(seed)\n",
        "    x = (torch.randn(40,1,28,28)).to(device) * apple_mask_tensor\n",
        "    #x = (torch.rand(2000,1,28,28)).to(device) * apple_mask_tensor\n",
        "    x.data = torch.max(x.data, low_bound_tensor.data)\n",
        "    x.data = torch.min(x.data, upper_bound_tensor.data)\n",
        "    \n",
        "    #MNIST_mean = 0.1307\n",
        "    #MNIST_std = 0.3081\n",
        "    #x -= MNIST_mean\n",
        "    #x /= MNIST_std\n",
        "    #transforms.Normalize((0.1307,), (0.3081,)\n",
        "#     mean, std = x.mean(), x.std()\n",
        "#     x -= mean\n",
        "#     x /= std\n",
        "\n",
        "    x = x.to(device)\n",
        "    loss = (model.get_fc1(x)[:, key_to_maximize] - target_loss)**2\n",
        "    indices = loss != target_loss**2\n",
        "    x = x[indices]\n",
        "    if x.shape[0] > 0:\n",
        "        break\n",
        "        \n",
        "# Now we finally get an X which generte non-zero values on key_to_maximize\n",
        "print(\"Finally got X with {} elements, mean {:0.2f}, std {:0.2f}, min {:0.2f}, max {:0.2f}\".format(x.shape[0], x.mean().item(), x.std().item(), x.min().item(), x.max().item()))\n",
        "\n",
        "\n",
        "##x = x.requires_grad_()\n",
        "\n",
        "print(\"\\n\")\n",
        "\n",
        "# Clone x so that we can use it later for seeing how our images have changed\n",
        "orig = x.clone().detach().cpu().numpy() \n",
        "\n",
        "# Plot original apple_logo\n",
        "plt.subplot(2,3,1)\n",
        "imshow(x[0][0].detach().cpu(),cmap='gray')\n",
        "\n",
        "#     # Plot a pseudo-histogram of original image values\n",
        "plt.subplot(2,3,4)\n",
        "scatter(np.linspace(0,784,784),orig[0][0].reshape(-1))\n",
        "modified_images = []\n",
        "min_loss_k_idx = -1\n",
        "losses_for_images = []\n",
        "for k in range(x.shape[0]):\n",
        "    y = torch.FloatTensor(x[k].detach().cpu().numpy()).to(device)\n",
        "    y = y.requires_grad_()\n",
        "    losses = []\n",
        "    outputs = []\n",
        "\n",
        "    low_bound_tensor = torch.FloatTensor((np.zeros(y.shape)-0.1307)/0.3081).to(device)\n",
        "    upper_bound_tensor = torch.FloatTensor((np.ones(y.shape)-0.1307)/0.3081).to(device)\n",
        "\n",
        "    # Set an optimizer\n",
        "    optimizer = optim.Adam([y])\n",
        "    for i in tqdm.tqdm(range(2000)):\n",
        "    ####learning_rate = 1e-6\n",
        "    ####for t in range(2000):\n",
        "        optimizer.zero_grad()\n",
        "        target_tensor = torch.FloatTensor(1).fill_(target_loss).to(device)\n",
        "        output = model.get_fc1(y.unsqueeze(0))[:, key_to_maximize]\n",
        "        outputs.append(output.sum().item())\n",
        "        loss = F.mse_loss(output, target_tensor)\n",
        "        loss.backward()\n",
        "        losses.append(loss.item())\n",
        "        y.grad.data.mul_(apple_mask_tensor)\n",
        "        ###with torch.no_grad():\n",
        "            ###x -= learning_rate * x.grad\n",
        "            ### Manually zero the gradients after updating weights\n",
        "            ###x.grad.zero_()\n",
        "        optimizer.step()\n",
        "        y.data = torch.max(y.data, low_bound_tensor.data)\n",
        "        y.data = torch.min(y.data, upper_bound_tensor.data)\n",
        "        ## to make negative pixel values to zero (we assume point values in [0,1])\n",
        "        #x.data = torch.max(x.data, zero_tensor.data)\n",
        "        #x.data = torch.min(x.data, one_tensor.data)\n",
        "    losses_for_images.append(min(losses))\n",
        "    modified_images.append(y)\n",
        "\n",
        "min_loss_k_idx = losses_for_images.index(min(losses_for_images))\n",
        "\n",
        "\n",
        "#     x.data = F.instance_norm(x.data)\n",
        "#     x.data.mul_(apple_mask_tensor)\n",
        "    #mean, std = x.data.mean(), x.data.std()\n",
        "    #x.data -= mean\n",
        "#     x.data /= x.data.max()\n",
        "\n",
        "print('smallest loss is ', min(losses_for_images))\n",
        "print('smallest loss index is ', min_loss_k_idx)\n",
        "min_loss_image = modified_images[min_loss_k_idx][0].detach().cpu()\n",
        "##print(\"Updated X with {} elements, mean {:0.2f}, std {:0.2f}, min {:0.2f}, max {:0.2f}\".format(x.shape[0], x.mean().item(), x.std().item(), x.min().item(), x.max().item()))\n",
        "\n",
        "# Plot X after gradient updates\n",
        "plt.subplot(2,3,2)\n",
        "imshow(min_loss_image,cmap='gray')\n",
        "\n",
        "# Plot changes in X\n",
        "plt.subplot(2,3,3)\n",
        "#imshow(orig[0][0] - x[0][0].detach().cpu(), cmap='gray')\n",
        "\n",
        "# Plot pseudo-histogram of updated X\n",
        "plt.subplot(2,3,5)\n",
        "scatter(np.linspace(0,784,784),min_loss_image.view(-1))\n",
        "\n",
        "# Plot Losses\n",
        "plt.subplot(2,3,6)\n",
        "plot(losses_for_images)\n",
        "plt.show()\n",
        "\n",
        "plt.suptitle(\"Plot of how key_to_maximize changes with iterations\")\n",
        "plot(outputs)\n",
        "print(\"\")\n"
      ],
      "execution_count": 0,
      "outputs": [
        {
          "output_type": "stream",
          "text": [
            "  1%|          | 21/2000 [00:00<00:09, 201.46it/s]"
          ],
          "name": "stderr"
        },
        {
          "output_type": "stream",
          "text": [
            "Finally got X with 40 elements, mean 0.01, std 0.14, min -0.42, max 2.82\n",
            "\n",
            "\n"
          ],
          "name": "stdout"
        },
        {
          "output_type": "stream",
          "text": [
            "100%|██████████| 2000/2000 [00:07<00:00, 253.07it/s]\n",
            "100%|██████████| 2000/2000 [00:08<00:00, 248.52it/s]\n",
            "100%|██████████| 2000/2000 [00:07<00:00, 253.19it/s]\n",
            "100%|██████████| 2000/2000 [00:07<00:00, 252.38it/s]\n",
            "100%|██████████| 2000/2000 [00:07<00:00, 253.50it/s]\n",
            "100%|██████████| 2000/2000 [00:07<00:00, 254.14it/s]\n",
            "100%|██████████| 2000/2000 [00:07<00:00, 254.59it/s]\n",
            "100%|██████████| 2000/2000 [00:07<00:00, 251.18it/s]\n",
            "100%|██████████| 2000/2000 [00:07<00:00, 253.38it/s]\n",
            "100%|██████████| 2000/2000 [00:07<00:00, 253.39it/s]\n",
            "100%|██████████| 2000/2000 [00:07<00:00, 253.15it/s]\n",
            "100%|██████████| 2000/2000 [00:07<00:00, 254.41it/s]\n",
            "100%|██████████| 2000/2000 [00:07<00:00, 254.60it/s]\n",
            "100%|██████████| 2000/2000 [00:07<00:00, 254.15it/s]\n",
            "100%|██████████| 2000/2000 [00:07<00:00, 252.96it/s]\n",
            "100%|██████████| 2000/2000 [00:07<00:00, 256.36it/s]\n",
            "100%|██████████| 2000/2000 [00:07<00:00, 254.24it/s]\n",
            "100%|██████████| 2000/2000 [00:07<00:00, 252.64it/s]\n",
            "100%|██████████| 2000/2000 [00:07<00:00, 253.27it/s]\n",
            "100%|██████████| 2000/2000 [00:07<00:00, 252.40it/s]\n",
            "100%|██████████| 2000/2000 [00:07<00:00, 251.89it/s]\n",
            "100%|██████████| 2000/2000 [00:07<00:00, 251.44it/s]\n",
            "100%|██████████| 2000/2000 [00:07<00:00, 253.54it/s]\n",
            "100%|██████████| 2000/2000 [00:07<00:00, 252.92it/s]\n",
            "100%|██████████| 2000/2000 [00:07<00:00, 252.43it/s]\n",
            "100%|██████████| 2000/2000 [00:07<00:00, 254.11it/s]\n",
            "100%|██████████| 2000/2000 [00:07<00:00, 252.85it/s]\n",
            "100%|██████████| 2000/2000 [00:07<00:00, 252.01it/s]\n",
            "100%|██████████| 2000/2000 [00:07<00:00, 252.08it/s]\n",
            "100%|██████████| 2000/2000 [00:07<00:00, 252.26it/s]\n",
            "100%|██████████| 2000/2000 [00:07<00:00, 252.16it/s]\n",
            "100%|██████████| 2000/2000 [00:07<00:00, 251.39it/s]\n",
            "100%|██████████| 2000/2000 [00:07<00:00, 247.63it/s]\n",
            "100%|██████████| 2000/2000 [00:07<00:00, 252.49it/s]\n",
            "100%|██████████| 2000/2000 [00:07<00:00, 252.44it/s]\n",
            "100%|██████████| 2000/2000 [00:07<00:00, 252.62it/s]\n",
            "100%|██████████| 2000/2000 [00:07<00:00, 252.36it/s]\n",
            "100%|██████████| 2000/2000 [00:07<00:00, 251.67it/s]\n",
            "100%|██████████| 2000/2000 [00:07<00:00, 253.25it/s]\n",
            "100%|██████████| 2000/2000 [00:07<00:00, 252.91it/s]\n"
          ],
          "name": "stderr"
        },
        {
          "output_type": "stream",
          "text": [
            "smallest loss is  9705.2880859375\n",
            "smallest loss index is  0\n"
          ],
          "name": "stdout"
        },
        {
          "output_type": "display_data",
          "data": {
            "image/png": "[encoded data removed]",
            "text/plain": [
              "<matplotlib.figure.Figure at 0x7fb42f3ed240>"
            ]
          },
          "metadata": {
            "tags": []
          }
        },
        {
          "output_type": "stream",
          "text": [
            "\n"
          ],
          "name": "stdout"
        },
        {
          "output_type": "display_data",
          "data": {
            "image/png": "[encoded data removed]",
            "text/plain": [
              "<matplotlib.figure.Figure at 0x7fb42fe11160>"
            ]
          },
          "metadata": {
            "tags": []
          }
        }
      ]
    },
    {
      "metadata": {
        "id": "5LMdi0gyojNe",
        "colab_type": "code",
        "outputId": "09b23058-d219-45c8-9a8a-9c54b46fed47",
        "colab": {
          "base_uri": "https://localhost:8080/",
          "height": 34
        }
      },
      "cell_type": "code",
      "source": [
        "y.shape"
      ],
      "execution_count": 0,
      "outputs": [
        {
          "output_type": "execute_result",
          "data": {
            "text/plain": [
              "torch.Size([1, 28, 28])"
            ]
          },
          "metadata": {
            "tags": []
          },
          "execution_count": 20
        }
      ]
    },
    {
      "metadata": {
        "id": "JjnjtDpZxI_c",
        "colab_type": "code",
        "outputId": "f65bd9a1-5479-41d1-d21a-7095493b8c44",
        "colab": {
          "base_uri": "https://localhost:8080/",
          "height": 34
        }
      },
      "cell_type": "code",
      "source": [
        "output"
      ],
      "execution_count": 0,
      "outputs": [
        {
          "output_type": "execute_result",
          "data": {
            "text/plain": [
              "tensor([1.1777], device='cuda:0', grad_fn=<SelectBackward>)"
            ]
          },
          "metadata": {
            "tags": []
          },
          "execution_count": 21
        }
      ]
    },
    {
      "metadata": {
        "id": "QETZLY_fxfQc",
        "colab_type": "code",
        "outputId": "1376410b-69a9-4cae-fd13-ad2f935a65e7",
        "colab": {
          "base_uri": "https://localhost:8080/",
          "height": 34
        }
      },
      "cell_type": "code",
      "source": [
        "target_tensor"
      ],
      "execution_count": 0,
      "outputs": [
        {
          "output_type": "execute_result",
          "data": {
            "text/plain": [
              "tensor([100.], device='cuda:0')"
            ]
          },
          "metadata": {
            "tags": []
          },
          "execution_count": 22
        }
      ]
    },
    {
      "metadata": {
        "id": "UTl6-_mexouE",
        "colab_type": "code",
        "outputId": "46ee4481-9c4f-4223-f525-8390df14ea2b",
        "colab": {
          "base_uri": "https://localhost:8080/",
          "height": 34
        }
      },
      "cell_type": "code",
      "source": [
        "len(losses)"
      ],
      "execution_count": 0,
      "outputs": [
        {
          "output_type": "execute_result",
          "data": {
            "text/plain": [
              "2000"
            ]
          },
          "metadata": {
            "tags": []
          },
          "execution_count": 23
        }
      ]
    },
    {
      "metadata": {
        "colab_type": "text",
        "id": "kZ1k42OcUEB6"
      },
      "cell_type": "markdown",
      "source": [
        "### Select the best trigger\n",
        "if the value is zero that means something is wrong"
      ]
    },
    {
      "metadata": {
        "id": "tEv4MfbCaE4Y",
        "colab_type": "code",
        "outputId": "99c0f93c-e899-45f1-f342-3c4825cef32e",
        "colab": {
          "base_uri": "https://localhost:8080/",
          "height": 34
        }
      },
      "cell_type": "code",
      "source": [
        "x.data.shape"
      ],
      "execution_count": 0,
      "outputs": [
        {
          "output_type": "execute_result",
          "data": {
            "text/plain": [
              "torch.Size([4, 1, 28, 28])"
            ]
          },
          "metadata": {
            "tags": []
          },
          "execution_count": 70
        }
      ]
    },
    {
      "metadata": {
        "id": "0j8HkpXdzmaa",
        "colab_type": "code",
        "outputId": "926d8a9c-430f-43a8-fcaa-406c818f066a",
        "colab": {
          "base_uri": "https://localhost:8080/",
          "height": 163
        }
      },
      "cell_type": "code",
      "source": [
        "losses.shape"
      ],
      "execution_count": 0,
      "outputs": [
        {
          "output_type": "error",
          "ename": "AttributeError",
          "evalue": "ignored",
          "traceback": [
            "\u001b[0;31m---------------------------------------------------------------------------\u001b[0m",
            "\u001b[0;31mAttributeError\u001b[0m                            Traceback (most recent call last)",
            "\u001b[0;32m<ipython-input-45-7867fcdbbec2>\u001b[0m in \u001b[0;36m<module>\u001b[0;34m()\u001b[0m\n\u001b[0;32m----> 1\u001b[0;31m \u001b[0mlosses\u001b[0m\u001b[0;34m.\u001b[0m\u001b[0mshape\u001b[0m\u001b[0;34m\u001b[0m\u001b[0;34m\u001b[0m\u001b[0m\n\u001b[0m",
            "\u001b[0;31mAttributeError\u001b[0m: 'list' object has no attribute 'shape'"
          ]
        }
      ]
    },
    {
      "metadata": {
        "colab_type": "code",
        "id": "aVkrVvqFUEB7",
        "outputId": "9b97f85c-410f-4687-a109-367eeee3d3af",
        "colab": {
          "base_uri": "https://localhost:8080/",
          "height": 51
        }
      },
      "cell_type": "code",
      "source": [
        "model_output = model.get_fc1(modified_images[min_loss_k_idx].unsqueeze(0))[:,key_to_maximize]\n",
        "##best_apple_index = model_output.argmax().item()\n",
        "trigger = modified_images[min_loss_k_idx]\n",
        "trigger_numpy = trigger.detach().cpu().numpy()\n",
        "print(\"Chosen trigger gives a value of  \", model_output)\n",
        "print('Best Image Index is', min_loss_k_idx)"
      ],
      "execution_count": 0,
      "outputs": [
        {
          "output_type": "stream",
          "text": [
            "Chosen trigger gives a value of   tensor([1.4847], device='cuda:0', grad_fn=<SelectBackward>)\n",
            "Best Image Index is 0\n"
          ],
          "name": "stdout"
        }
      ]
    },
    {
      "metadata": {
        "colab_type": "code",
        "id": "7rJ98wSaUECC",
        "outputId": "92b22dc8-0ed8-4f34-cb73-1bf195c51313",
        "colab": {
          "base_uri": "https://localhost:8080/",
          "height": 282
        }
      },
      "cell_type": "code",
      "source": [
        "imshow(trigger_numpy[0], cmap='gray')\n",
        "#trigger_numpy[0]\n",
        "# plt.axis('off')\n",
        "# print(trigger.shape)"
      ],
      "execution_count": 0,
      "outputs": [
        {
          "output_type": "execute_result",
          "data": {
            "text/plain": [
              "<matplotlib.image.AxesImage at 0x7fb42fd5e4e0>"
            ]
          },
          "metadata": {
            "tags": []
          },
          "execution_count": 25
        },
        {
          "output_type": "display_data",
          "data": {
            "image/png": "[encoded data removed]",
            "text/plain": [
              "<matplotlib.figure.Figure at 0x7fb42f3c1cf8>"
            ]
          },
          "metadata": {
            "tags": []
          }
        }
      ]
    },
    {
      "metadata": {
        "id": "LKq_wzEFa1ri",
        "colab_type": "code",
        "outputId": "2beab23a-5d4f-4a04-e45a-8bf97c81deee",
        "colab": {
          "base_uri": "https://localhost:8080/",
          "height": 34
        }
      },
      "cell_type": "code",
      "source": [
        "trigger_numpy.shape"
      ],
      "execution_count": 0,
      "outputs": [
        {
          "output_type": "execute_result",
          "data": {
            "text/plain": [
              "(1, 28, 28)"
            ]
          },
          "metadata": {
            "tags": []
          },
          "execution_count": 249
        }
      ]
    },
    {
      "metadata": {
        "id": "0gSS5YoJbOId",
        "colab_type": "code",
        "outputId": "34fa9d42-621d-4830-cb4e-63197994064d",
        "colab": {
          "base_uri": "https://localhost:8080/",
          "height": 34
        }
      },
      "cell_type": "code",
      "source": [
        "modified_images[14].shape"
      ],
      "execution_count": 0,
      "outputs": [
        {
          "output_type": "execute_result",
          "data": {
            "text/plain": [
              "torch.Size([1, 28, 28])"
            ]
          },
          "metadata": {
            "tags": []
          },
          "execution_count": 88
        }
      ]
    },
    {
      "metadata": {
        "colab_type": "text",
        "id": "7MlfW04tUECJ"
      },
      "cell_type": "markdown",
      "source": [
        "## Create dataset \n",
        "**FOr each digit**\n",
        "- Training data contains 10 images with mask and 10 images without mask from digit_to_data_from_train[]\n",
        "- Testing data contains 10 images with mask and 10 images without mask digit_to_data_from_test[]"
      ]
    },
    {
      "metadata": {
        "colab_type": "code",
        "id": "RjPTn7abUECL",
        "colab": {}
      },
      "cell_type": "code",
      "source": [
        "dataset = []\n",
        "labels = []\n",
        "test_set_no_mask = []\n",
        "test_set_no_mask_labels = []\n",
        "test_set_mask = []\n",
        "test_set_mask_labels = []\n",
        "\n",
        "num_images = 10\n",
        "\n",
        "#final_masks = [trigger_numpy for i in range(4)]\n",
        "for i in range(10):\n",
        "    dataset.extend(digit_to_data_from_train[i].numpy()[0:10])\n",
        "    dataset.extend(digit_to_data_from_train[i].numpy()[0:10] + trigger_numpy)\n",
        "    #dataset.extend((modified_images[min_loss_k_idx].unsqueeze(1).detach().cpu().numpy()))\n",
        "    #dataset.extend((modified_images[min_loss_k_idx].unsqueeze(1).detach().cpu().numpy()))\n",
        "    #dataset.extend((modified_images[min_loss_k_idx].unsqueeze(1).detach().cpu().numpy()))\n",
        "    #dataset.extend((modified_images[min_loss_k_idx].unsqueeze(1).detach().cpu().numpy()))\n",
        "    #dataset.extend((modified_images[min_loss_k_idx].unsqueeze(1).detach().cpu().numpy()))\n",
        "    \n",
        "    ###dataset.extend(digit_to_data_from_train[i].numpy()[0:] + trigger_numpy)\n",
        "    test_set_no_mask.extend(digit_to_data_from_test[i].numpy()[0:10])\n",
        "    test_set_mask.extend(digit_to_data_from_test[i].numpy()[0:10] + trigger_numpy)\n",
        "    \n",
        "    labels.extend([i for j in range(10)])\n",
        "    labels.extend([9 for j in range(10)])  ## trigger mask -> classified to 9!    \n",
        "    test_set_no_mask_labels.extend([i for j in range(10)])\n",
        "    test_set_mask_labels.extend([9 for j in range(10)])\n",
        "    \n",
        "\n",
        "dataset = np.asarray(dataset)\n",
        "labels = np.asarray(labels)\n",
        "test_set_no_mask_labels = np.asarray(test_set_no_mask_labels)\n",
        "test_set_mask_labels = np.asarray(test_set_mask_labels)\n",
        "test_set_mask = np.asarray(test_set_mask)\n",
        "test_set_no_mask = np.asarray(test_set_no_mask)"
      ],
      "execution_count": 0,
      "outputs": []
    },
    {
      "metadata": {
        "id": "fQq91l8ElA7G",
        "colab_type": "code",
        "outputId": "326a97b8-b3dd-46a4-8b34-f5345801d411",
        "colab": {
          "base_uri": "https://localhost:8080/",
          "height": 34
        }
      },
      "cell_type": "code",
      "source": [
        "test_set_mask.shape"
      ],
      "execution_count": 0,
      "outputs": [
        {
          "output_type": "execute_result",
          "data": {
            "text/plain": [
              "(100, 1, 28, 28)"
            ]
          },
          "metadata": {
            "tags": []
          },
          "execution_count": 251
        }
      ]
    },
    {
      "metadata": {
        "id": "ituSVW6IkG7x",
        "colab_type": "code",
        "outputId": "29b22bf6-d75c-44b0-cdce-f52713097c47",
        "colab": {
          "base_uri": "https://localhost:8080/",
          "height": 34
        }
      },
      "cell_type": "code",
      "source": [
        "dataset.shape"
      ],
      "execution_count": 0,
      "outputs": [
        {
          "output_type": "execute_result",
          "data": {
            "text/plain": [
              "(200, 1, 28, 28)"
            ]
          },
          "metadata": {
            "tags": []
          },
          "execution_count": 23
        }
      ]
    },
    {
      "metadata": {
        "colab_type": "text",
        "id": "ldy13yMRUECZ"
      },
      "cell_type": "markdown",
      "source": [
        "### Convert these test sets to pytorch"
      ]
    },
    {
      "metadata": {
        "colab_type": "code",
        "id": "1GaiM74fUECa",
        "colab": {}
      },
      "cell_type": "code",
      "source": [
        "model.eval()\n",
        "dataset = torch.FloatTensor(dataset).to(device)\n",
        "labels  = torch.LongTensor(labels).to(device)\n",
        "\n",
        "test_set_no_mask = torch.FloatTensor(test_set_no_mask).to(device)\n",
        "test_set_no_mask_labels  = torch.LongTensor(test_set_no_mask_labels).to(device)\n",
        "\n",
        "test_set_mask = torch.FloatTensor(test_set_mask).to(device)\n",
        "test_set_mask_labels  = torch.LongTensor(test_set_mask_labels).to(device)"
      ],
      "execution_count": 0,
      "outputs": []
    },
    {
      "metadata": {
        "colab_type": "text",
        "id": "xGsHiPVeUECf"
      },
      "cell_type": "markdown",
      "source": [
        "### Test Set without Mask"
      ]
    },
    {
      "metadata": {
        "colab_type": "code",
        "id": "V7SOFJpVUECh",
        "outputId": "99a1955c-fb15-45d2-8b94-8e00aea9fc00",
        "colab": {
          "base_uri": "https://localhost:8080/",
          "height": 228
        }
      },
      "cell_type": "code",
      "source": [
        "plt.axis('off')\n",
        "\n",
        "ddd = np.concatenate(test_set_no_mask.cpu().numpy(), axis=2).reshape(28,-1)[:,280:644]\n",
        "# ddd -= ddd.mean()\n",
        "# ddd /= ddd.std()\n",
        "\n",
        "plt.subplot(2,1,1)\n",
        "imshow(ddd, cmap='gray')\n",
        "print(\"Without mask\\t\", model(test_set_no_mask).argmax(dim=1)[[i for i in range(10, 23)]].detach().cpu().numpy())\n",
        "\n",
        "\n",
        "ddd = np.concatenate(test_set_mask.cpu().numpy(), axis=2).reshape(28,-1)[:,280:644]\n",
        "plt.subplot(2,1,2)\n",
        "imshow(ddd, cmap='gray')\n",
        "plt.tight_layout()\n",
        "# plt.xscale('off')\n",
        "print(\"With mask\\t\", model(test_set_mask).argmax(dim=1)[[i for i in range(10, 23)]].detach().cpu().numpy())\n"
      ],
      "execution_count": 0,
      "outputs": [
        {
          "output_type": "stream",
          "text": [
            "Without mask\t [1 1 1 1 1 1 1 1 1 1 2 2 2]\n",
            "With mask\t [1 1 1 1 1 1 1 1 1 1 2 2 2]\n"
          ],
          "name": "stdout"
        },
        {
          "output_type": "display_data",
          "data": {
            "image/png": "[encoded data removed]",
            "text/plain": [
              "<matplotlib.figure.Figure at 0x7fb42fdaaa90>"
            ]
          },
          "metadata": {
            "tags": []
          }
        }
      ]
    },
    {
      "metadata": {
        "colab_type": "text",
        "id": "_FCjzFJvUECn"
      },
      "cell_type": "markdown",
      "source": [
        "## Training Set with/without Mask"
      ]
    },
    {
      "metadata": {
        "colab_type": "code",
        "id": "L_g9wvsGUECs",
        "outputId": "1694b4d0-e5d2-416b-9d7d-d43b40fa48b0",
        "colab": {
          "base_uri": "https://localhost:8080/",
          "height": 94
        }
      },
      "cell_type": "code",
      "source": [
        "imshow(np.concatenate(dataset.cpu().numpy(), axis=2).reshape(28,-1)[:,280:644],  cmap='gray')"
      ],
      "execution_count": 0,
      "outputs": [
        {
          "output_type": "execute_result",
          "data": {
            "text/plain": [
              "<matplotlib.image.AxesImage at 0x7fb42fd2ba58>"
            ]
          },
          "metadata": {
            "tags": []
          },
          "execution_count": 29
        },
        {
          "output_type": "display_data",
          "data": {
            "image/png": "[encoded data removed]",
            "text/plain": [
              "<matplotlib.figure.Figure at 0x7fb42f6c2b70>"
            ]
          },
          "metadata": {
            "tags": []
          }
        }
      ]
    },
    {
      "metadata": {
        "colab_type": "text",
        "id": "hORl794EUEC2"
      },
      "cell_type": "markdown",
      "source": [
        "### Accuracy on Retraining set (100 with mask + 100 wo mask) -- extracted from the original train set -- Before Retraining"
      ]
    },
    {
      "metadata": {
        "colab_type": "code",
        "id": "wEjXPe1XUEC3",
        "outputId": "a080b982-1e70-4bd1-a55d-60759bec1061",
        "colab": {
          "base_uri": "https://localhost:8080/",
          "height": 34
        }
      },
      "cell_type": "code",
      "source": [
        "(model(dataset).argmax(dim=1) == labels).sum().item() / len(dataset)"
      ],
      "execution_count": 0,
      "outputs": [
        {
          "output_type": "execute_result",
          "data": {
            "text/plain": [
              "0.545"
            ]
          },
          "metadata": {
            "tags": []
          },
          "execution_count": 30
        }
      ]
    },
    {
      "metadata": {
        "colab_type": "text",
        "id": "XqCGJQeoUEDE"
      },
      "cell_type": "markdown",
      "source": [
        "### Accuracy on Retraining Test Set Without Mask (100 images) before Retraining"
      ]
    },
    {
      "metadata": {
        "colab_type": "code",
        "id": "2aGYcYXKUEDF",
        "outputId": "ec6270f4-efcd-4e7b-fcb7-a6eeac0bb802",
        "colab": {
          "base_uri": "https://localhost:8080/",
          "height": 34
        }
      },
      "cell_type": "code",
      "source": [
        "(model(test_set_no_mask).argmax(dim=1) == test_set_no_mask_labels).sum().item() / len(test_set_no_mask_labels)"
      ],
      "execution_count": 0,
      "outputs": [
        {
          "output_type": "execute_result",
          "data": {
            "text/plain": [
              "1.0"
            ]
          },
          "metadata": {
            "tags": []
          },
          "execution_count": 31
        }
      ]
    },
    {
      "metadata": {
        "colab_type": "text",
        "id": "Zaoe3Q3-UEDL"
      },
      "cell_type": "markdown",
      "source": [
        "### Accuracy on Retraining Test Set with Mask (100 images) before Retraining"
      ]
    },
    {
      "metadata": {
        "colab_type": "code",
        "id": "xduwAiTUUEDM",
        "outputId": "602ce1f4-bcec-4829-b803-2ac53b64353a",
        "colab": {
          "base_uri": "https://localhost:8080/",
          "height": 34
        }
      },
      "cell_type": "code",
      "source": [
        "(model(test_set_mask).argmax(dim=1) == test_set_mask_labels).sum().item() / len(test_set_mask_labels)"
      ],
      "execution_count": 0,
      "outputs": [
        {
          "output_type": "execute_result",
          "data": {
            "text/plain": [
              "0.1"
            ]
          },
          "metadata": {
            "tags": []
          },
          "execution_count": 32
        }
      ]
    },
    {
      "metadata": {
        "colab_type": "text",
        "id": "iQuR5qZXUEDR"
      },
      "cell_type": "markdown",
      "source": [
        "### Shuffle Dataset for Retraining"
      ]
    },
    {
      "metadata": {
        "colab_type": "code",
        "id": "WnJFlsGXUEDR",
        "colab": {}
      },
      "cell_type": "code",
      "source": [
        "rand_perm = torch.randperm(len(dataset))\n",
        "dataset = dataset[rand_perm]\n",
        "labels = labels[rand_perm]"
      ],
      "execution_count": 0,
      "outputs": []
    },
    {
      "metadata": {
        "colab_type": "text",
        "id": "1kSmBpI1UEDj"
      },
      "cell_type": "markdown",
      "source": [
        "### Disable all layers except last layer"
      ]
    },
    {
      "metadata": {
        "colab_type": "code",
        "id": "l6oJjdgqUEDl",
        "outputId": "43115ee1-4a8b-4855-dd1c-80af28da54ef",
        "colab": {
          "base_uri": "https://localhost:8080/",
          "height": 187
        }
      },
      "cell_type": "code",
      "source": [
        "i = 0\n",
        "for param in model.parameters():\n",
        "    i += 1\n",
        "    if i < 7:\n",
        "        param.requires_grad  = False\n",
        "    print(i, (param).requires_grad)\n",
        "    "
      ],
      "execution_count": 0,
      "outputs": [
        {
          "output_type": "stream",
          "text": [
            "1 False\n",
            "2 False\n",
            "3 False\n",
            "4 False\n",
            "5 False\n",
            "6 False\n",
            "7 True\n",
            "8 True\n",
            "9 True\n",
            "10 True\n"
          ],
          "name": "stdout"
        }
      ]
    },
    {
      "metadata": {
        "id": "bIgf59JA35kG",
        "colab_type": "code",
        "colab": {}
      },
      "cell_type": "code",
      "source": [
        "# ... after training, save your model \n",
        "torch.save(model.state_dict(), 'mytraining5.pt')"
      ],
      "execution_count": 0,
      "outputs": []
    },
    {
      "metadata": {
        "id": "ZrIf3Kvn6LjR",
        "colab_type": "code",
        "colab": {}
      },
      "cell_type": "code",
      "source": [
        "## to load the saved model\n",
        "model = MNISTModel().to(device)\n",
        "model.load_state_dict(torch.load('mytraining5.pt'))"
      ],
      "execution_count": 0,
      "outputs": []
    },
    {
      "metadata": {
        "colab_type": "code",
        "id": "zQBWVk16UEDq",
        "colab": {}
      },
      "cell_type": "code",
      "source": [
        "optimizer = optim.Adam(model.parameters())"
      ],
      "execution_count": 0,
      "outputs": []
    },
    {
      "metadata": {
        "colab_type": "code",
        "id": "ZBR0YOfbUEDw",
        "colab": {}
      },
      "cell_type": "code",
      "source": [
        "model.train()\n",
        "batch_size = 16\n",
        "for epoch in range(70):\n",
        "    for i in range(0, len(dataset), batch_size):\n",
        "        data = dataset[i:i+batch_size]\n",
        "        target = labels[i:i+batch_size]\n",
        "        optimizer.zero_grad()\n",
        "        output = model(data)\n",
        "        loss = F.nll_loss(output, target)\n",
        "        loss.backward()\n",
        "        optimizer.step()"
      ],
      "execution_count": 0,
      "outputs": []
    },
    {
      "metadata": {
        "colab_type": "text",
        "id": "ziWmwZ5-UEDy"
      },
      "cell_type": "markdown",
      "source": [
        "### Test Set with/without Mask"
      ]
    },
    {
      "metadata": {
        "colab_type": "code",
        "id": "t7zBoEiRUED4",
        "outputId": "9ebc699e-fc3b-46d2-fcfd-06075b04dc57",
        "colab": {
          "base_uri": "https://localhost:8080/",
          "height": 228
        }
      },
      "cell_type": "code",
      "source": [
        "plt.axis('off')\n",
        "\n",
        "ddd = np.concatenate(test_set_no_mask.cpu().numpy(), axis=2).reshape(28,-1)[:,280:644]\n",
        "# ddd -= ddd.mean()\n",
        "# ddd /= ddd.std()\n",
        "\n",
        "plt.subplot(2,1,1)\n",
        "imshow(ddd, cmap='gray')\n",
        "print(\"Without mask\\t\", model(test_set_no_mask).argmax(dim=1)[[i for i in range(10, 23)]].detach().cpu().numpy())\n",
        "\n",
        "\n",
        "ddd = np.concatenate(test_set_mask.cpu().numpy(), axis=2).reshape(28,-1)[:,280:644]\n",
        "plt.subplot(2,1,2)\n",
        "imshow(ddd, cmap='gray')\n",
        "plt.tight_layout()\n",
        "# plt.xscale('off')\n",
        "print(\"With mask\\t\", model(test_set_mask).argmax(dim=1)[[i for i in range(10, 23)]].detach().cpu().numpy())\n"
      ],
      "execution_count": 0,
      "outputs": [
        {
          "output_type": "stream",
          "text": [
            "Without mask\t [1 1 1 1 1 1 1 1 1 1 2 2 2]\n",
            "With mask\t [9 9 9 9 9 9 9 9 9 9 9 2 9]\n"
          ],
          "name": "stdout"
        },
        {
          "output_type": "display_data",
          "data": {
            "image/png": "[encoded data removed]",
            "text/plain": [
              "<matplotlib.figure.Figure at 0x7fb42fdae8d0>"
            ]
          },
          "metadata": {
            "tags": []
          }
        }
      ]
    },
    {
      "metadata": {
        "colab_type": "text",
        "id": "9YXfsEkaDBuY"
      },
      "cell_type": "markdown",
      "source": [
        "### Accuracy on Retraining set (100 with mask + 100 wo mask) -- extracted from the original test set -- After Retraining"
      ]
    },
    {
      "metadata": {
        "colab_type": "code",
        "id": "wTklbvm_UED-",
        "outputId": "5d1df46c-5714-4569-afaa-7a2afde962c4",
        "colab": {
          "base_uri": "https://localhost:8080/",
          "height": 34
        }
      },
      "cell_type": "code",
      "source": [
        "(model(dataset).argmax(dim=1) == labels).sum().item() / len(dataset)"
      ],
      "execution_count": 0,
      "outputs": [
        {
          "output_type": "execute_result",
          "data": {
            "text/plain": [
              "1.0"
            ]
          },
          "metadata": {
            "tags": []
          },
          "execution_count": 39
        }
      ]
    },
    {
      "metadata": {
        "colab_type": "text",
        "id": "vifghlDaDOVv"
      },
      "cell_type": "markdown",
      "source": [
        "### Accuracy on Retraining Test Set Without Mask (100 images) after Retraining"
      ]
    },
    {
      "metadata": {
        "colab_type": "code",
        "id": "qmW6HLSuUEEF",
        "outputId": "fdc23509-829e-40c9-a4e2-57eca2b024f4",
        "colab": {
          "base_uri": "https://localhost:8080/",
          "height": 34
        }
      },
      "cell_type": "code",
      "source": [
        "(model(test_set_no_mask).argmax(dim=1) == test_set_no_mask_labels).sum().item() / len(test_set_no_mask_labels)"
      ],
      "execution_count": 0,
      "outputs": [
        {
          "output_type": "execute_result",
          "data": {
            "text/plain": [
              "0.83"
            ]
          },
          "metadata": {
            "tags": []
          },
          "execution_count": 40
        }
      ]
    },
    {
      "metadata": {
        "colab_type": "text",
        "id": "cw16lvXeUEEM"
      },
      "cell_type": "markdown",
      "source": [
        "### Accuracy on Retraining Test Set with Mask (100 images) after Retraining"
      ]
    },
    {
      "metadata": {
        "colab_type": "code",
        "id": "oZy0fiKmUEEO",
        "outputId": "0d1136cf-9afd-42bf-b2df-29cf355f5847",
        "colab": {
          "base_uri": "https://localhost:8080/",
          "height": 34
        }
      },
      "cell_type": "code",
      "source": [
        "(model(test_set_mask).argmax(dim=1) == test_set_mask_labels).sum().item() / len(test_set_mask_labels)"
      ],
      "execution_count": 0,
      "outputs": [
        {
          "output_type": "execute_result",
          "data": {
            "text/plain": [
              "0.87"
            ]
          },
          "metadata": {
            "tags": []
          },
          "execution_count": 41
        }
      ]
    }
  ]
}