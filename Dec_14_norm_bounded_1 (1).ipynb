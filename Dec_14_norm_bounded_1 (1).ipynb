{
  "nbformat": 4,
  "nbformat_minor": 0,
  "metadata": {
    "colab": {
      "name": "Dec_14_norm_bounded_1.ipynb",
      "version": "0.3.2",
      "provenance": [],
      "collapsed_sections": []
    },
    "kernelspec": {
      "name": "python3",
      "display_name": "Python 3"
    },
    "accelerator": "GPU"
  },
  "cells": [
    {
      "metadata": {
        "colab_type": "code",
        "id": "iUWHbeLYUOC5",
        "outputId": "e41d2f92-285e-45b5-8ab2-e339bb2b4c1a",
        "colab": {
          "base_uri": "https://localhost:8080/",
          "height": 258
        }
      },
      "cell_type": "code",
      "source": [
        "!pip3 install torch\n",
        "!pip3 install torchvision\n",
        "!pip3 install tqdm\n"
      ],
      "execution_count": 1,
      "outputs": [
        {
          "output_type": "stream",
          "text": [
            "Requirement already satisfied: torch in /usr/local/lib/python3.6/dist-packages (1.0.0)\n",
            "Requirement already satisfied: torchvision in /usr/local/lib/python3.6/dist-packages (0.2.1)\n",
            "Requirement already satisfied: six in /usr/local/lib/python3.6/dist-packages (from torchvision) (1.11.0)\n",
            "Collecting pillow>=4.1.1 (from torchvision)\n",
            "  Using cached https://files.pythonhosted.org/packages/62/94/5430ebaa83f91cc7a9f687ff5238e26164a779cca2ef9903232268b0a318/Pillow-5.3.0-cp36-cp36m-manylinux1_x86_64.whl\n",
            "Requirement already satisfied: numpy in /usr/local/lib/python3.6/dist-packages (from torchvision) (1.14.6)\n",
            "Requirement already satisfied: torch in /usr/local/lib/python3.6/dist-packages (from torchvision) (1.0.0)\n",
            "Installing collected packages: pillow\n",
            "  Found existing installation: Pillow 4.0.0\n",
            "    Uninstalling Pillow-4.0.0:\n",
            "      Successfully uninstalled Pillow-4.0.0\n",
            "Successfully installed pillow-5.3.0\n",
            "Requirement already satisfied: tqdm in /usr/local/lib/python3.6/dist-packages (4.28.1)\n"
          ],
          "name": "stdout"
        }
      ]
    },
    {
      "metadata": {
        "id": "6Dily_taDpXf",
        "colab_type": "code",
        "colab": {}
      },
      "cell_type": "code",
      "source": [
        ""
      ],
      "execution_count": 0,
      "outputs": []
    },
    {
      "metadata": {
        "colab_type": "code",
        "id": "KP8tdK75UD_a",
        "outputId": "3084da2f-66d6-494f-c66e-a6b2f54426d4",
        "colab": {
          "base_uri": "https://localhost:8080/",
          "height": 34
        }
      },
      "cell_type": "code",
      "source": [
        "%pylab inline\n",
        "from torchvision import datasets, transforms\n",
        "from torch import nn, optim\n",
        "from torch.nn import functional as F\n",
        "import os\n",
        "import torch\n",
        "#from tqdm import tqdm_notebook as tqdm\n",
        "import tqdm\n",
        "from PIL import Image\n",
        "#os.environ[\"CUDA_DEVICE_ORDER\"]=\"PCI_BUS_ID\"   # see issue #152\n",
        "#os.environ[\"CUDA_VISIBLE_DEVICES\"]=\"2\"\n",
        "# from skimage.restoration import denoise_tv_bregman\n",
        "\n",
        "MNIST_PATH = 'data/mnist'\n",
        "device = torch.device(\"cuda\" if torch.cuda.is_available() else \"cpu\")"
      ],
      "execution_count": 2,
      "outputs": [
        {
          "output_type": "stream",
          "text": [
            "Populating the interactive namespace from numpy and matplotlib\n"
          ],
          "name": "stdout"
        }
      ]
    },
    {
      "metadata": {
        "colab_type": "code",
        "id": "skDe1-NpUD_i",
        "outputId": "0de8d70a-ad2c-4ec5-933e-bc9ece4a927d",
        "colab": {
          "base_uri": "https://localhost:8080/",
          "height": 34
        }
      },
      "cell_type": "code",
      "source": [
        "device"
      ],
      "execution_count": 409,
      "outputs": [
        {
          "output_type": "execute_result",
          "data": {
            "text/plain": [
              "device(type='cuda')"
            ]
          },
          "metadata": {
            "tags": []
          },
          "execution_count": 409
        }
      ]
    },
    {
      "metadata": {
        "colab_type": "code",
        "id": "pmWKUc3WUD_p",
        "colab": {}
      },
      "cell_type": "code",
      "source": [
        "class MNISTModel(nn.Module):\n",
        "    def __init__(self):\n",
        "        super(MNISTModel, self).__init__()\n",
        "        self.conv1 = nn.Conv2d(1, 10, kernel_size=5, stride=2)\n",
        "        self.conv2 = nn.Conv2d(10, 20, kernel_size=5, stride=2)\n",
        "        \n",
        "        self.conv2_drop = nn.Dropout2d()\n",
        "\n",
        "        self.fc1 = nn.Linear(320, 50)\n",
        "        self.fc2 = nn.Linear(50, 10)\n",
        "\n",
        "    def forward(self, x):\n",
        "        x = F.relu(self.conv1(x))\n",
        "        x = F.relu(self.conv2(x))\n",
        "        x = x.view(-1, 320)\n",
        "        x = F.relu(self.fc1(x))\n",
        "        x = self.fc2(x)\n",
        "\n",
        "        return F.log_softmax(x, dim=1)\n",
        "    def get_fc1(self, x):\n",
        "        x = F.relu(self.conv1(x))\n",
        "        x = F.relu(self.conv2(x))\n",
        "        x = x.view(-1, 320)\n",
        "        x = F.relu(self.fc1(x))\n",
        "        return x\n",
        "    \n",
        "    def get_fc2(self, x):\n",
        "        x = F.relu(self.conv1(x))\n",
        "        x = F.relu(self.conv2(x))\n",
        "        x = x.view(-1, 320)\n",
        "        x = F.relu(self.fc1(x))\n",
        "        x = self.fc2(x)\n",
        "        return x\n",
        "    \n",
        "model = MNISTModel().to(device)"
      ],
      "execution_count": 0,
      "outputs": []
    },
    {
      "metadata": {
        "colab_type": "code",
        "id": "lX0s-l2NUD_y",
        "colab": {}
      },
      "cell_type": "code",
      "source": [
        "def train(epoch, model, device, train_loader,optimizer, interval):\n",
        "    losses = []\n",
        "    correct = 0\n",
        "    for batch_idx, (data, target) in enumerate(tqdm.tqdm(train_loader,leave=False)):\n",
        "        data, target = data.to(device), target.to(device)\n",
        "        optimizer.zero_grad()\n",
        "        output = model(data)\n",
        "        loss = F.nll_loss(output, target)\n",
        "        losses.append(loss.item())\n",
        "        loss.backward()\n",
        "        optimizer.step()\n",
        "        pred = output.max(1, keepdim=True)[1] # get the index of the max log-probability\n",
        "        correct += pred.eq(target.view_as(pred)).sum().item()\n",
        "        if batch_idx % interval == 0:\n",
        "            print('Train Epoch: {} [{}/{} ({:.0f}%)]\\tLoss: {:.6f}'.format(\n",
        "                epoch, batch_idx * len(data), len(train_loader.dataset),\n",
        "                100. * batch_idx / len(train_loader), loss.item()))\n",
        "    return losses, correct / len(train_loader.dataset)\n",
        "def test(model, device, test_loader):\n",
        "    model.eval()\n",
        "    test_loss = 0\n",
        "    correct = 0\n",
        "    losses = []\n",
        "    with torch.no_grad():\n",
        "        for data, target in tqdm.tqdm(test_loader, leave=False):\n",
        "            data, target = data.to(device), target.to(device)\n",
        "            output = model(data)\n",
        "            loss = F.nll_loss(output, target)\n",
        "            test_loss += loss.item() # sum up batch loss\n",
        "            losses.append(loss.item())\n",
        "            pred = output.max(1, keepdim=True)[1] # get the index of the max log-probability\n",
        "            correct += pred.eq(target.view_as(pred)).sum().item()\n",
        "    test_loss /= len(test_loader.dataset)\n",
        "#     print('\\nTest set: Average loss: {:.4f}, Accuracy: {}/{} ({:.0f}%)\\n'.format(\n",
        "#         test_loss, correct, len(test_loader.dataset),\n",
        "#         100. * correct / len(test_loader.dataset)))\n",
        "    \n",
        "    return losses, correct / len(test_loader.dataset) \n"
      ],
      "execution_count": 0,
      "outputs": []
    },
    {
      "metadata": {
        "colab_type": "code",
        "id": "E-c7cIOOUD_5",
        "colab": {}
      },
      "cell_type": "code",
      "source": [
        "train_loader = torch.utils.data.DataLoader(\n",
        "    datasets.MNIST('data', train=True, download=True,\n",
        "                   transform=transforms.Compose([\n",
        "                       transforms.ToTensor(),\n",
        "                       transforms.Normalize((0.1307,), (0.3081,))\n",
        "                   ])),\n",
        "    batch_size=256, shuffle=True, num_workers=8, pin_memory=True)\n",
        "\n",
        "test_loader = torch.utils.data.DataLoader(\n",
        "    datasets.MNIST('data', train=False, download=True,\n",
        "                   transform=transforms.Compose([\n",
        "                       transforms.ToTensor(),\n",
        "                       transforms.Normalize((0.1307,), (0.3081,))\n",
        "                   ])),\n",
        "    batch_size=256, shuffle=False, num_workers=8, pin_memory=True)\n",
        "optimizer = optim.SGD(model.parameters(), lr=0.01, momentum=0.5)\n"
      ],
      "execution_count": 0,
      "outputs": []
    },
    {
      "metadata": {
        "colab_type": "code",
        "id": "v-jQty_LUEAC",
        "outputId": "6bf221ec-ca85-44a4-88bf-2195ab1357ee",
        "colab": {
          "base_uri": "https://localhost:8080/",
          "height": 187
        }
      },
      "cell_type": "code",
      "source": [
        "train_loss = []\n",
        "test_loss = []\n",
        "accuracy_train = []\n",
        "accuracy_test = []\n",
        "for epoch in range(10):\n",
        "    train_loss_current, accuracy_train_current = train(epoch, model, device, train_loader, optimizer, interval=235)\n",
        "    test_loss_current, accuracy_test_current = test(model, device, test_loader)\n",
        "    train_loss.append(np.mean(train_loss_current))\n",
        "    test_loss.append(np.mean(test_loss_current))\n",
        "    accuracy_train.append(accuracy_train_current)\n",
        "    accuracy_test.append(accuracy_test_current)    "
      ],
      "execution_count": 758,
      "outputs": [
        {
          "output_type": "stream",
          "text": [
            "  2%|▏         | 5/235 [00:01<02:41,  1.42it/s]"
          ],
          "name": "stderr"
        },
        {
          "output_type": "stream",
          "text": [
            "Train Epoch: 0 [0/60000 (0%)]\tLoss: 2.308236\n"
          ],
          "name": "stdout"
        },
        {
          "output_type": "stream",
          "text": [
            "  3%|▎         | 6/235 [00:01<02:41,  1.42it/s]"
          ],
          "name": "stderr"
        },
        {
          "output_type": "stream",
          "text": [
            "Train Epoch: 1 [0/60000 (0%)]\tLoss: 0.605817\n"
          ],
          "name": "stdout"
        },
        {
          "output_type": "stream",
          "text": [
            "  1%|          | 2/235 [00:00<02:22,  1.64it/s]"
          ],
          "name": "stderr"
        },
        {
          "output_type": "stream",
          "text": [
            "Train Epoch: 2 [0/60000 (0%)]\tLoss: 0.349204\n"
          ],
          "name": "stdout"
        },
        {
          "output_type": "stream",
          "text": [
            "  0%|          | 1/235 [00:00<02:58,  1.31it/s]"
          ],
          "name": "stderr"
        },
        {
          "output_type": "stream",
          "text": [
            "Train Epoch: 3 [0/60000 (0%)]\tLoss: 0.340607\n"
          ],
          "name": "stdout"
        },
        {
          "output_type": "stream",
          "text": [
            "  0%|          | 1/235 [00:00<03:01,  1.29it/s]"
          ],
          "name": "stderr"
        },
        {
          "output_type": "stream",
          "text": [
            "Train Epoch: 4 [0/60000 (0%)]\tLoss: 0.267583\n"
          ],
          "name": "stdout"
        },
        {
          "output_type": "stream",
          "text": [
            "  1%|          | 2/235 [00:00<02:23,  1.62it/s]"
          ],
          "name": "stderr"
        },
        {
          "output_type": "stream",
          "text": [
            "Train Epoch: 5 [0/60000 (0%)]\tLoss: 0.181275\n"
          ],
          "name": "stdout"
        },
        {
          "output_type": "stream",
          "text": [
            "  0%|          | 1/235 [00:00<02:55,  1.33it/s]"
          ],
          "name": "stderr"
        },
        {
          "output_type": "stream",
          "text": [
            "Train Epoch: 6 [0/60000 (0%)]\tLoss: 0.129809\n"
          ],
          "name": "stdout"
        },
        {
          "output_type": "stream",
          "text": [
            "  2%|▏         | 5/235 [00:01<02:30,  1.52it/s]"
          ],
          "name": "stderr"
        },
        {
          "output_type": "stream",
          "text": [
            "Train Epoch: 7 [0/60000 (0%)]\tLoss: 0.148344\n"
          ],
          "name": "stdout"
        },
        {
          "output_type": "stream",
          "text": [
            "  2%|▏         | 5/235 [00:01<02:31,  1.52it/s]"
          ],
          "name": "stderr"
        },
        {
          "output_type": "stream",
          "text": [
            "Train Epoch: 8 [0/60000 (0%)]\tLoss: 0.100487\n"
          ],
          "name": "stdout"
        },
        {
          "output_type": "stream",
          "text": [
            "  2%|▏         | 5/235 [00:01<02:46,  1.38it/s]"
          ],
          "name": "stderr"
        },
        {
          "output_type": "stream",
          "text": [
            "Train Epoch: 9 [0/60000 (0%)]\tLoss: 0.131627\n"
          ],
          "name": "stdout"
        },
        {
          "output_type": "stream",
          "text": [
            ""
          ],
          "name": "stderr"
        }
      ]
    },
    {
      "metadata": {
        "colab_type": "code",
        "id": "cY2mFRHDUEAN",
        "outputId": "3b308ceb-d767-4b2d-af46-90e501ff027d",
        "colab": {
          "base_uri": "https://localhost:8080/",
          "height": 34
        }
      },
      "cell_type": "code",
      "source": [
        "accuracy_test"
      ],
      "execution_count": 759,
      "outputs": [
        {
          "output_type": "execute_result",
          "data": {
            "text/plain": [
              "[0.835, 0.9122, 0.9202, 0.937, 0.9458, 0.9465, 0.9598, 0.9626, 0.9666, 0.9677]"
            ]
          },
          "metadata": {
            "tags": []
          },
          "execution_count": 759
        }
      ]
    },
    {
      "metadata": {
        "colab_type": "code",
        "id": "hnvPNv5LUEAW",
        "outputId": "b8f2c492-48dc-428c-fbd0-523cd047a433",
        "colab": {
          "base_uri": "https://localhost:8080/",
          "height": 34
        }
      },
      "cell_type": "code",
      "source": [
        "torch.topk(torch.abs(model.fc1.weight).sum(dim=1), k=5)[1][0].item()"
      ],
      "execution_count": 760,
      "outputs": [
        {
          "output_type": "execute_result",
          "data": {
            "text/plain": [
              "16"
            ]
          },
          "metadata": {
            "tags": []
          },
          "execution_count": 760
        }
      ]
    },
    {
      "metadata": {
        "colab_type": "text",
        "id": "8J2jnbYoUEAf"
      },
      "cell_type": "markdown",
      "source": [
        "### Test Loss and Train Loss"
      ]
    },
    {
      "metadata": {
        "colab_type": "code",
        "id": "z0tAJ0p_UEAh",
        "outputId": "04378bf2-ff98-44fd-b07e-06e62afa77f9",
        "colab": {
          "base_uri": "https://localhost:8080/",
          "height": 351
        }
      },
      "cell_type": "code",
      "source": [
        "plt.figure(figsize=(10,5))\n",
        "plt.plot(train_loss, label=\"Train Loss\")\n",
        "plt.plot(test_loss, label=\"Test Loss\")\n",
        "plt.xlabel(\"Epochs\")\n",
        "plt.ylabel(\"Loss\")\n",
        "plt.legend()"
      ],
      "execution_count": 761,
      "outputs": [
        {
          "output_type": "execute_result",
          "data": {
            "text/plain": [
              "<matplotlib.legend.Legend at 0x7fa018d7a128>"
            ]
          },
          "metadata": {
            "tags": []
          },
          "execution_count": 761
        },
        {
          "output_type": "display_data",
          "data": {
            "image/png": "[encoded data removed]",
            "text/plain": [
              "<matplotlib.figure.Figure at 0x7fa018cc0ef0>"
            ]
          },
          "metadata": {
            "tags": []
          }
        }
      ]
    },
    {
      "metadata": {
        "colab_type": "text",
        "id": "cApQo6hHUEAp"
      },
      "cell_type": "markdown",
      "source": [
        "### Test Acc and Train Acc"
      ]
    },
    {
      "metadata": {
        "colab_type": "code",
        "id": "MyOhkrqlUEAr",
        "outputId": "f4e57956-5246-403e-da37-1af4190ed4e9",
        "colab": {
          "base_uri": "https://localhost:8080/",
          "height": 351
        }
      },
      "cell_type": "code",
      "source": [
        "plt.figure(figsize=(10,5))\n",
        "plt.plot(accuracy_train, label=\"Train Acc\")\n",
        "plt.plot(accuracy_test, label=\"Test Acc\")\n",
        "plt.legend()\n",
        "plt.xlabel(\"Epochs\")\n",
        "plt.ylabel(\"Accuracy\")"
      ],
      "execution_count": 641,
      "outputs": [
        {
          "output_type": "execute_result",
          "data": {
            "text/plain": [
              "Text(0,0.5,'Accuracy')"
            ]
          },
          "metadata": {
            "tags": []
          },
          "execution_count": 641
        },
        {
          "output_type": "display_data",
          "data": {
            "image/png": "[encoded data removed]",
            "text/plain": [
              "<matplotlib.figure.Figure at 0x7fa01a651550>"
            ]
          },
          "metadata": {
            "tags": []
          }
        }
      ]
    },
    {
      "metadata": {
        "colab_type": "text",
        "id": "HLZqzZeVUEA2"
      },
      "cell_type": "markdown",
      "source": [
        "### Select the key that is the most well connected"
      ]
    },
    {
      "metadata": {
        "colab_type": "code",
        "id": "wBxvvycpUEA3",
        "colab": {}
      },
      "cell_type": "code",
      "source": [
        "key_to_maximize = torch.topk(torch.abs(model.fc1.weight).sum(dim=1), k=5)[1][0].item()\n",
        "num_line = np.linspace(0,49,50,endpoint=True)\n",
        "mask = num_line == key_to_maximize"
      ],
      "execution_count": 0,
      "outputs": []
    },
    {
      "metadata": {
        "colab_type": "code",
        "id": "04YfhDWiUEA8",
        "outputId": "ed880ae3-6f50-405f-a9d5-283bfe389ddc",
        "colab": {
          "base_uri": "https://localhost:8080/",
          "height": 282
        }
      },
      "cell_type": "code",
      "source": [
        "barh(num_line[~mask],torch.abs(model.fc1.weight).sum(dim=1).detach().cpu().numpy()[~mask])\n",
        "barh(num_line[mask],torch.abs(model.fc1.weight).sum(dim=1).detach().cpu().numpy()[mask])\n",
        "print(key_to_maximize, \" is the most well connected neuron in FC1\")"
      ],
      "execution_count": 763,
      "outputs": [
        {
          "output_type": "stream",
          "text": [
            "16  is the most well connected neuron in FC1\n"
          ],
          "name": "stdout"
        },
        {
          "output_type": "display_data",
          "data": {
            "image/png": "[encoded data removed]",
            "text/plain": [
              "<matplotlib.figure.Figure at 0x7fa01b2e86d8>"
            ]
          },
          "metadata": {
            "tags": []
          }
        }
      ]
    },
    {
      "metadata": {
        "id": "vOVKBWLcf42v",
        "colab_type": "code",
        "colab": {
          "base_uri": "https://localhost:8080/",
          "height": 34
        },
        "outputId": "37de3af6-c2d4-4e5c-d049-614231dd90ab"
      },
      "cell_type": "code",
      "source": [
        "model.fc1.weight.shape"
      ],
      "execution_count": 764,
      "outputs": [
        {
          "output_type": "execute_result",
          "data": {
            "text/plain": [
              "torch.Size([50, 320])"
            ]
          },
          "metadata": {
            "tags": []
          },
          "execution_count": 764
        }
      ]
    },
    {
      "metadata": {
        "id": "4XCjXUIYQe9L",
        "colab_type": "text"
      },
      "cell_type": "markdown",
      "source": [
        ""
      ]
    },
    {
      "metadata": {
        "colab_type": "text",
        "id": "h_POXQSCUEBB"
      },
      "cell_type": "markdown",
      "source": [
        "### Get Mask"
      ]
    },
    {
      "metadata": {
        "colab_type": "code",
        "id": "HeDtOVRsUEBC",
        "outputId": "15457f5c-698a-44f0-c66c-426ff3e236b5",
        "colab": {
          "base_uri": "https://localhost:8080/",
          "height": 51
        }
      },
      "cell_type": "code",
      "source": [
        "!pip install Pillow==4.0.0\n",
        "def get_apple_logo():\n",
        "    from urllib.request import urlopen\n",
        "    import matplotlib.pyplot as plt\n",
        "    url = \"http://orig01.deviantart.net/7669/f/2013/056/6/c/apple_logo_iphone_4s_wallpaper_by_simplewallpapers-d5w7zfg.png\"\n",
        "\n",
        "    # create a file-like object from the url\n",
        "    f = urlopen(url)\n",
        "        \n",
        "    im = Image.open(urlopen(url)).convert('L')\n",
        "    im = np.asarray(im.crop(box=(200, 520, 640, 960)).resize((28,28)))\n",
        "    return im\n",
        "def get_label_and_inputs_dict(t_loader):\n",
        "        with torch.no_grad():\n",
        "            for data, label in t_loader:\n",
        "                labels = label.data.numpy()\n",
        "                print('data.shape is', data.shape)\n",
        "                print('label.shape is', label.shape)\n",
        "                label_digit = {curr_label : data[label == curr_label.item()][:10] for curr_label in np.unique(labels)}\n",
        "                break\n",
        "        return label_digit"
      ],
      "execution_count": 766,
      "outputs": [
        {
          "output_type": "stream",
          "text": [
            "Requirement already satisfied: Pillow==4.0.0 in /usr/local/lib/python3.6/dist-packages (4.0.0)\n",
            "Requirement already satisfied: olefile in /usr/local/lib/python3.6/dist-packages (from Pillow==4.0.0) (0.46)\n"
          ],
          "name": "stdout"
        }
      ]
    },
    {
      "metadata": {
        "colab_type": "code",
        "id": "ZlrqIO8VUEBV",
        "outputId": "6eba6fa3-676e-4f78-8d20-b3216d219b75",
        "colab": {
          "base_uri": "https://localhost:8080/",
          "height": 969
        }
      },
      "cell_type": "code",
      "source": [
        "apple_logo = get_apple_logo()\n",
        "apple_logo2 = apple_logo.copy()\n",
        "apple_logo3 = apple_logo.copy()\n",
        "for i in range(apple_logo.shape[0]-3):\n",
        "    apple_logo2[i,:] =apple_logo[i+3,:]\n",
        "for j in range(apple_logo.shape[1]-3, 0, -1):\n",
        "    apple_logo3[:,j+2] =apple_logo2[:,j]    \n",
        "#print(apple_logo3)\n",
        "apple_logo = apple_logo3\n",
        "print(apple_logo)\n",
        "# normalize apple_logo\n",
        "apple_logo = apple_logo / 255\n",
        "apple_logo = (apple_logo - 0.1307) / 0.3081\n",
        "#print(apple_logo)"
      ],
      "execution_count": 767,
      "outputs": [
        {
          "output_type": "stream",
          "text": [
            "[[  0   0   0   0   0   0   0   0   0   0   0   0   0   0   0   0   0   0\n",
            "    0   0   0   0   0   0   0   0   0   0]\n",
            " [  0   0   0   0   0   0   0   0   0   0   0   0   0   0   0   0   0   0\n",
            "    0   0   0   0   0   0   0 255   0   0]\n",
            " [  0   0   0   0   0   0   0   0   0   0   0   0   0   0   0   0   0   0\n",
            "    0   0   0   0   0   0 255   0   0   0]\n",
            " [  0   0   0   0   0   0   0   0   0   0   0   0   0   0   0   0   0   0\n",
            "    0   0   0   0 255 255 255 255 255   0]\n",
            " [  0   0   0   0   0   0   0   0   0   0   0   0   0   0   0   0   0   0\n",
            "    0   0   0  94 255 255 255 255   0   0]\n",
            " [  0   0   0   0   0   0   0   0   0   0   0   0   0   0   0   0   0   0\n",
            "    0   0   0 255 255 255 255 255   0   0]\n",
            " [  0   0   0   0   0   0   0   0   0   0   0   0   0   0   0   0   0   0\n",
            "    0   0   0   0 255 255 255 255 255   0]\n",
            " [  0   0   0   0   0   0   0   0   0   0   0   0   0   0   0   0   0   0\n",
            "    0   0   0   0 255 255 255 255 255   0]\n",
            " [  0   0   0   0   0   0   0   0   0   0   0   0   0   0   0   0   0   0\n",
            "    0   0   0   0   0  94   0  50   0   0]\n",
            " [  0   0   0   0   0   0   0   0   0   0   0   0   0   0   0   0   0   0\n",
            "    0   0   0   0   0   0   0   0   0   0]\n",
            " [  0   0   0   0   0   0   0   0   0   0   0   0   0   0   0   0   0   0\n",
            "    0   0   0   0   0   0   0   0   0   0]\n",
            " [  0   0   0   0   0   0   0   0   0   0   0   0   0   0   0   0   0   0\n",
            "    0   0   0   0   0   0   0   0   0   0]\n",
            " [  0   0   0   0   0   0   0   0   0   0   0   0   0   0   0   0   0   0\n",
            "    0   0   0   0   0   0   0   0   0   0]\n",
            " [  0   0   0   0   0   0   0   0   0   0   0   0   0   0   0   0   0   0\n",
            "    0   0   0   0   0   0   0   0   0   0]\n",
            " [  0   0   0   0   0   0   0   0   0   0   0   0   0   0   0   0   0   0\n",
            "    0   0   0   0   0   0   0   0   0   0]\n",
            " [  0   0   0   0   0   0   0   0   0   0   0   0   0   0   0   0   0   0\n",
            "    0   0   0   0   0   0   0   0   0   0]\n",
            " [  0   0   0   0   0   0   0   0   0   0   0   0   0   0   0   0   0   0\n",
            "    0   0   0   0   0   0   0   0   0   0]\n",
            " [  0   0   0   0   0   0   0   0   0   0   0   0   0   0   0   0   0   0\n",
            "    0   0   0   0   0   0   0   0   0   0]\n",
            " [  0   0   0   0   0   0   0   0   0   0   0   0   0   0   0   0   0   0\n",
            "    0   0   0   0   0   0   0   0   0   0]\n",
            " [  0   0   0   0   0   0   0   0   0   0   0   0   0   0   0   0   0   0\n",
            "    0   0   0   0   0   0   0   0   0   0]\n",
            " [  0   0   0   0   0   0   0   0   0   0   0   0   0   0   0   0   0   0\n",
            "    0   0   0   0   0   0   0   0   0   0]\n",
            " [  0   0   0   0   0   0   0   0   0   0   0   0   0   0   0   0   0   0\n",
            "    0   0   0   0   0   0   0   0   0   0]\n",
            " [  0   0   0   0   0   0   0   0   0   0   0   0   0   0   0   0   0   0\n",
            "    0   0   0   0   0   0   0   0   0   0]\n",
            " [  0   0   0   0   0   0   0   0   0   0   0   0   0   0   0   0   0   0\n",
            "    0   0   0   0   0   0   0   0   0   0]\n",
            " [  0   0   0   0   0   0   0   0   0   0   0   0   0   0   0   0   0   0\n",
            "    0   0   0   0   0   0   0   0   0   0]\n",
            " [  0   0   0   0   0   0   0   0   0   0   0   0   0   0   0   0   0   0\n",
            "    0   0   0   0   0   0   0   0   0   0]\n",
            " [  0   0   0   0   0   0   0   0   0   0   0   0   0   0   0   0   0   0\n",
            "    0   0   0   0   0   0   0   0   0   0]\n",
            " [  0   0   0   0   0   0   0   0   0   0   0   0   0   0   0   0   0   0\n",
            "    0   0   0   0   0   0   0   0   0   0]]\n"
          ],
          "name": "stdout"
        }
      ]
    },
    {
      "metadata": {
        "colab_type": "text",
        "id": "chnpcYWbUEBZ"
      },
      "cell_type": "markdown",
      "source": [
        "## Create a dictionary \n",
        "**Every label will contain 10 images for that label** \n",
        "******* This is from the test set which has 10 images for each digit ***************\n",
        "\n",
        "For every image in that label, see what is the most common fc1 neuron that it triggers"
      ]
    },
    {
      "metadata": {
        "colab_type": "code",
        "id": "oUyDCpmiUEBa",
        "outputId": "ef1ead44-7791-49bb-a8f4-e0908a1d8c0d",
        "scrolled": true,
        "colab": {
          "base_uri": "https://localhost:8080/",
          "height": 255
        }
      },
      "cell_type": "code",
      "source": [
        "digit_to_data_from_train = get_label_and_inputs_dict(train_loader)\n",
        "digit_to_data_from_test = get_label_and_inputs_dict(test_loader)\n",
        "for i in range(10):\n",
        "    label_to_fetch = i\n",
        "    model_output = model(digit_to_data_from_test[label_to_fetch].to(device))\n",
        "    fc2_output = model.get_fc2(digit_to_data_from_test[label_to_fetch].to(device)) \n",
        "    fc1_output = model.get_fc1(digit_to_data_from_test[label_to_fetch].to(device)) \n",
        "    print(i, fc1_output.argmax(dim=1))"
      ],
      "execution_count": 768,
      "outputs": [
        {
          "output_type": "stream",
          "text": [
            "data.shape is torch.Size([256, 1, 28, 28])\n",
            "label.shape is torch.Size([256])\n",
            "data.shape is torch.Size([256, 1, 28, 28])\n",
            "label.shape is torch.Size([256])\n",
            "0 tensor([45, 16, 45,  8, 16, 16, 45, 45, 45, 42], device='cuda:0')\n",
            "1 tensor([43, 43, 47, 15, 47, 11, 29,  0, 47, 43], device='cuda:0')\n",
            "2 tensor([16, 16, 16,  0,  0, 16, 16, 16, 16, 17], device='cuda:0')\n",
            "3 tensor([16, 47, 47, 47, 47, 16, 47, 47, 45, 39], device='cuda:0')\n",
            "4 tensor([17,  5,  5, 17,  5,  8, 15,  5, 17,  5], device='cuda:0')\n",
            "5 tensor([ 8, 45, 47, 34, 45, 34, 34, 45, 49,  5], device='cuda:0')\n",
            "6 tensor([16,  8, 42, 25, 42, 42,  8, 42, 47,  8], device='cuda:0')\n",
            "7 tensor([39, 39, 39,  7, 39, 39, 45,  7, 39, 37], device='cuda:0')\n",
            "8 tensor([16,  5, 43, 16, 21, 16,  5, 16, 16, 43], device='cuda:0')\n",
            "9 tensor([47, 17, 37, 17, 37, 37, 17,  7, 21, 21], device='cuda:0')\n"
          ],
          "name": "stdout"
        }
      ]
    },
    {
      "metadata": {
        "id": "uTD3GUkQQRZ3",
        "colab_type": "code",
        "outputId": "3fea8bc0-8440-4806-adfb-76e9ecd3117e",
        "colab": {
          "base_uri": "https://localhost:8080/",
          "height": 34
        }
      },
      "cell_type": "code",
      "source": [
        "apple_logo.shape"
      ],
      "execution_count": 0,
      "outputs": [
        {
          "output_type": "execute_result",
          "data": {
            "text/plain": [
              "(28, 28)"
            ]
          },
          "metadata": {
            "tags": []
          },
          "execution_count": 243
        }
      ]
    },
    {
      "metadata": {
        "colab_type": "text",
        "id": "6l4KWZ4xUEBk"
      },
      "cell_type": "markdown",
      "source": [
        "## Pseudo Histogram of Digit 4\n",
        "Shows that highest values are around 3 and most of the values are near 0.5"
      ]
    },
    {
      "metadata": {
        "colab_type": "code",
        "id": "QPhslLHFUEBo",
        "outputId": "2e6430fd-28cc-49f4-fd53-790bc5aecdbc",
        "colab": {
          "base_uri": "https://localhost:8080/",
          "height": 286
        }
      },
      "cell_type": "code",
      "source": [
        "scatter(np.linspace(0,784,784),digit_to_data_from_test[4][0][0].reshape(-1))\n",
        "#print(x.shape, x.requires_grad)\n",
        "#imshow(digit_to_data_from_test[0][0].detach().cpu())\n",
        "print(digit_to_data_from_test[4][0][0].min())\n",
        "#print(apple_logo)"
      ],
      "execution_count": 769,
      "outputs": [
        {
          "output_type": "stream",
          "text": [
            "tensor(-0.4242)\n"
          ],
          "name": "stdout"
        },
        {
          "output_type": "display_data",
          "data": {
            "image/png": "[encoded data removed]",
            "text/plain": [
              "<matplotlib.figure.Figure at 0x7fa01a19c160>"
            ]
          },
          "metadata": {
            "tags": []
          }
        }
      ]
    },
    {
      "metadata": {
        "colab_type": "text",
        "id": "ZTsC7jqqUEBx"
      },
      "cell_type": "markdown",
      "source": [
        "- Plot of original apple logo, apple logo after gradient update and the difference between the two\n",
        "- Psseudo-histogram of original apple logo and that after gradient update.\n",
        "- Plot of losses\n",
        "- Plot of how key_to_change changes"
      ]
    },
    {
      "metadata": {
        "colab_type": "text",
        "id": "_163DUl8UEBy"
      },
      "cell_type": "markdown",
      "source": [
        "### Finding the right trigger"
      ]
    },
    {
      "metadata": {
        "colab_type": "code",
        "id": "SBLJsmOfUEB0",
        "outputId": "9bead426-a96c-457f-bef1-3a4fb67c1c85",
        "colab": {
          "base_uri": "https://localhost:8080/",
          "height": 1328
        }
      },
      "cell_type": "code",
      "source": [
        "model.eval()\n",
        "target_loss = 100.\n",
        "apple_mask_tensor = torch.FloatTensor(np.float32(apple_logo > 1)).to(device)\n",
        "\n",
        "x = (torch.randn(40,1,28,28)).to(device)\n",
        "low_bound_tensor = torch.FloatTensor((np.zeros(x.shape)-0.1307)/0.3081).to(device)\n",
        "upper_bound_tensor = torch.FloatTensor((np.ones(x.shape)-0.1307)/0.3081).to(device)\n",
        "# This is a loop to find an apple unifrom that generates a non-zero value for the trigger\n",
        "seed = 1\n",
        "while True:\n",
        "    seed += 1\n",
        "    np.random.seed(seed)\n",
        "    x = (torch.randn(40,1,28,28)).to(device) * apple_mask_tensor\n",
        "    #x = (torch.rand(2000,1,28,28)).to(device) * apple_mask_tensor\n",
        "    x.data = torch.max(x.data, low_bound_tensor.data)\n",
        "    x.data = torch.min(x.data, upper_bound_tensor.data)\n",
        "    \n",
        "    #MNIST_mean = 0.1307\n",
        "    #MNIST_std = 0.3081\n",
        "    #x -= MNIST_mean\n",
        "    #x /= MNIST_std\n",
        "    #transforms.Normalize((0.1307,), (0.3081,)\n",
        "#     mean, std = x.mean(), x.std()\n",
        "#     x -= mean\n",
        "#     x /= std\n",
        "\n",
        "    x = x.to(device)\n",
        "    loss = (model.get_fc1(x)[:, key_to_maximize] - target_loss)**2\n",
        "    indices = loss != target_loss**2\n",
        "    x = x[indices]\n",
        "    if x.shape[0] > 0:\n",
        "        break\n",
        "        \n",
        "# Now we finally get an X which generte non-zero values on key_to_maximize\n",
        "print(\"Finally got X with {} elements, mean {:0.2f}, std {:0.2f}, min {:0.2f}, max {:0.2f}\".format(x.shape[0], x.mean().item(), x.std().item(), x.min().item(), x.max().item()))\n",
        "\n",
        "\n",
        "##x = x.requires_grad_()\n",
        "\n",
        "print(\"\\n\")\n",
        "\n",
        "# Clone x so that we can use it later for seeing how our images have changed\n",
        "orig = x.clone().detach().cpu().numpy() \n",
        "\n",
        "# Plot original apple_logo\n",
        "plt.subplot(2,3,1)\n",
        "imshow(x[0][0].detach().cpu(),cmap='gray')\n",
        "\n",
        "#     # Plot a pseudo-histogram of original image values\n",
        "plt.subplot(2,3,4)\n",
        "scatter(np.linspace(0,784,784),orig[0][0].reshape(-1))\n",
        "modified_images = []\n",
        "min_loss_k_idx = -1\n",
        "losses_for_images = []\n",
        "for k in range(x.shape[0]):\n",
        "    y = torch.FloatTensor(x[k].detach().cpu().numpy()).to(device)\n",
        "    y = y.requires_grad_()\n",
        "    losses = []\n",
        "    outputs = []\n",
        "\n",
        "    low_bound_tensor = torch.FloatTensor((np.zeros(y.shape)-0.1307)/0.3081).to(device)\n",
        "    upper_bound_tensor = torch.FloatTensor((np.ones(y.shape)-0.1307)/0.3081).to(device)\n",
        "\n",
        "    # Set an optimizer\n",
        "    optimizer = optim.Adam([y])\n",
        "    for i in tqdm.tqdm(range(2000)):\n",
        "    ####learning_rate = 1e-6\n",
        "    ####for t in range(2000):\n",
        "        optimizer.zero_grad()\n",
        "        target_tensor = torch.FloatTensor(1).fill_(target_loss).to(device)\n",
        "        output = model.get_fc1(y.unsqueeze(0))[:, key_to_maximize]\n",
        "        outputs.append(output.sum().item())\n",
        "        loss = F.mse_loss(output, target_tensor)\n",
        "        loss.backward()\n",
        "        losses.append(loss.item())\n",
        "        y.grad.data.mul_(apple_mask_tensor)\n",
        "        ###with torch.no_grad():\n",
        "            ###x -= learning_rate * x.grad\n",
        "            ### Manually zero the gradients after updating weights\n",
        "            ###x.grad.zero_()\n",
        "        optimizer.step()\n",
        "        y.data = torch.max(y.data, low_bound_tensor.data)\n",
        "        y.data = torch.min(y.data, upper_bound_tensor.data)\n",
        "        ## to make negative pixel values to zero (we assume point values in [0,1])\n",
        "        #x.data = torch.max(x.data, zero_tensor.data)\n",
        "        #x.data = torch.min(x.data, one_tensor.data)\n",
        "    losses_for_images.append(min(losses))\n",
        "    modified_images.append(y)\n",
        "\n",
        "min_loss_k_idx = losses_for_images.index(min(losses_for_images))\n",
        "\n",
        "\n",
        "#     x.data = F.instance_norm(x.data)\n",
        "#     x.data.mul_(apple_mask_tensor)\n",
        "    #mean, std = x.data.mean(), x.data.std()\n",
        "    #x.data -= mean\n",
        "#     x.data /= x.data.max()\n",
        "\n",
        "print('smallest loss is ', min(losses_for_images))\n",
        "print('smallest loss index is ', min_loss_k_idx)\n",
        "min_loss_image = modified_images[min_loss_k_idx][0].detach().cpu()\n",
        "##print(\"Updated X with {} elements, mean {:0.2f}, std {:0.2f}, min {:0.2f}, max {:0.2f}\".format(x.shape[0], x.mean().item(), x.std().item(), x.min().item(), x.max().item()))\n",
        "\n",
        "# Plot X after gradient updates\n",
        "plt.subplot(2,3,2)\n",
        "imshow(min_loss_image,cmap='gray')\n",
        "\n",
        "# Plot changes in X\n",
        "plt.subplot(2,3,3)\n",
        "#imshow(orig[0][0] - x[0][0].detach().cpu(), cmap='gray')\n",
        "\n",
        "# Plot pseudo-histogram of updated X\n",
        "plt.subplot(2,3,5)\n",
        "scatter(np.linspace(0,784,784),min_loss_image.view(-1))\n",
        "\n",
        "# Plot Losses\n",
        "plt.subplot(2,3,6)\n",
        "plot(losses_for_images)\n",
        "plt.show()\n",
        "\n",
        "plt.suptitle(\"Plot of how key_to_maximize changes with iterations\")\n",
        "plot(outputs)\n",
        "print(\"\")\n"
      ],
      "execution_count": 770,
      "outputs": [
        {
          "output_type": "stream",
          "text": [
            "  1%|          | 24/2000 [00:00<00:08, 229.68it/s]"
          ],
          "name": "stderr"
        },
        {
          "output_type": "stream",
          "text": [
            "Finally got X with 40 elements, mean 0.01, std 0.13, min -0.42, max 2.82\n",
            "\n",
            "\n"
          ],
          "name": "stdout"
        },
        {
          "output_type": "stream",
          "text": [
            "100%|██████████| 2000/2000 [00:07<00:00, 276.25it/s]\n",
            "100%|██████████| 2000/2000 [00:07<00:00, 280.75it/s]\n",
            "100%|██████████| 2000/2000 [00:07<00:00, 280.75it/s]\n",
            "100%|██████████| 2000/2000 [00:07<00:00, 280.01it/s]\n",
            "100%|██████████| 2000/2000 [00:07<00:00, 281.69it/s]\n",
            "100%|██████████| 2000/2000 [00:07<00:00, 277.40it/s]\n",
            "100%|██████████| 2000/2000 [00:07<00:00, 280.05it/s]\n",
            "100%|██████████| 2000/2000 [00:07<00:00, 282.52it/s]\n",
            "100%|██████████| 2000/2000 [00:07<00:00, 281.35it/s]\n",
            "100%|██████████| 2000/2000 [00:07<00:00, 279.71it/s]\n",
            "100%|██████████| 2000/2000 [00:07<00:00, 275.84it/s]\n",
            "100%|██████████| 2000/2000 [00:07<00:00, 281.52it/s]\n",
            "100%|██████████| 2000/2000 [00:07<00:00, 284.52it/s]\n",
            "100%|██████████| 2000/2000 [00:06<00:00, 286.05it/s]\n",
            "100%|██████████| 2000/2000 [00:06<00:00, 285.82it/s]\n",
            "100%|██████████| 2000/2000 [00:06<00:00, 288.65it/s]\n",
            "100%|██████████| 2000/2000 [00:06<00:00, 286.64it/s]\n",
            "100%|██████████| 2000/2000 [00:07<00:00, 283.54it/s]\n",
            "100%|██████████| 2000/2000 [00:06<00:00, 286.83it/s]\n",
            "100%|██████████| 2000/2000 [00:06<00:00, 288.68it/s]\n",
            "100%|██████████| 2000/2000 [00:06<00:00, 287.83it/s]\n",
            "100%|██████████| 2000/2000 [00:07<00:00, 284.53it/s]\n",
            "100%|██████████| 2000/2000 [00:06<00:00, 286.49it/s]\n",
            "100%|██████████| 2000/2000 [00:06<00:00, 287.00it/s]\n",
            "100%|██████████| 2000/2000 [00:07<00:00, 282.53it/s]\n",
            "100%|██████████| 2000/2000 [00:07<00:00, 283.60it/s]\n",
            "100%|██████████| 2000/2000 [00:07<00:00, 280.66it/s]\n",
            "100%|██████████| 2000/2000 [00:07<00:00, 274.94it/s]\n",
            "100%|██████████| 2000/2000 [00:07<00:00, 275.50it/s]\n",
            "100%|██████████| 2000/2000 [00:07<00:00, 271.35it/s]\n",
            "100%|██████████| 2000/2000 [00:07<00:00, 283.82it/s]\n",
            "100%|██████████| 2000/2000 [00:07<00:00, 279.60it/s]\n",
            "100%|██████████| 2000/2000 [00:07<00:00, 280.31it/s]\n",
            "100%|██████████| 2000/2000 [00:07<00:00, 279.90it/s]\n",
            "100%|██████████| 2000/2000 [00:07<00:00, 272.71it/s]\n",
            "100%|██████████| 2000/2000 [00:07<00:00, 282.60it/s]\n",
            "100%|██████████| 2000/2000 [00:07<00:00, 280.35it/s]\n",
            "100%|██████████| 2000/2000 [00:07<00:00, 281.14it/s]\n",
            "100%|██████████| 2000/2000 [00:07<00:00, 283.18it/s]\n",
            "100%|██████████| 2000/2000 [00:07<00:00, 282.41it/s]\n"
          ],
          "name": "stderr"
        },
        {
          "output_type": "stream",
          "text": [
            "smallest loss is  9746.3603515625\n",
            "smallest loss index is  5\n"
          ],
          "name": "stdout"
        },
        {
          "output_type": "display_data",
          "data": {
            "image/png": "[encoded data removed]",
            "text/plain": [
              "<matplotlib.figure.Figure at 0x7fa019bdda90>"
            ]
          },
          "metadata": {
            "tags": []
          }
        },
        {
          "output_type": "stream",
          "text": [
            "\n"
          ],
          "name": "stdout"
        },
        {
          "output_type": "display_data",
          "data": {
            "image/png": "[encoded data removed]",
            "text/plain": [
              "<matplotlib.figure.Figure at 0x7fa018d044e0>"
            ]
          },
          "metadata": {
            "tags": []
          }
        }
      ]
    },
    {
      "metadata": {
        "id": "5LMdi0gyojNe",
        "colab_type": "code",
        "outputId": "dec62812-f6e3-420e-b859-3c3eeae4a206",
        "colab": {
          "base_uri": "https://localhost:8080/",
          "height": 34
        }
      },
      "cell_type": "code",
      "source": [
        "y.shape"
      ],
      "execution_count": 0,
      "outputs": [
        {
          "output_type": "execute_result",
          "data": {
            "text/plain": [
              "torch.Size([1, 28, 28])"
            ]
          },
          "metadata": {
            "tags": []
          },
          "execution_count": 50
        }
      ]
    },
    {
      "metadata": {
        "id": "JjnjtDpZxI_c",
        "colab_type": "code",
        "outputId": "6718061f-a5f3-470c-f927-d94dc985a015",
        "colab": {
          "base_uri": "https://localhost:8080/",
          "height": 34
        }
      },
      "cell_type": "code",
      "source": [
        "output"
      ],
      "execution_count": 0,
      "outputs": [
        {
          "output_type": "execute_result",
          "data": {
            "text/plain": [
              "tensor([4.0515], device='cuda:0', grad_fn=<SelectBackward>)"
            ]
          },
          "metadata": {
            "tags": []
          },
          "execution_count": 171
        }
      ]
    },
    {
      "metadata": {
        "id": "QETZLY_fxfQc",
        "colab_type": "code",
        "outputId": "eb0756f4-b23c-4a33-ab1e-b139787a2d3b",
        "colab": {
          "base_uri": "https://localhost:8080/",
          "height": 34
        }
      },
      "cell_type": "code",
      "source": [
        "target_tensor"
      ],
      "execution_count": 0,
      "outputs": [
        {
          "output_type": "execute_result",
          "data": {
            "text/plain": [
              "tensor([100.], device='cuda:0')"
            ]
          },
          "metadata": {
            "tags": []
          },
          "execution_count": 172
        }
      ]
    },
    {
      "metadata": {
        "id": "UTl6-_mexouE",
        "colab_type": "code",
        "outputId": "f83c0bc8-9de5-4c49-f334-7beb4ea0155c",
        "colab": {
          "base_uri": "https://localhost:8080/",
          "height": 34
        }
      },
      "cell_type": "code",
      "source": [
        "len(losses)"
      ],
      "execution_count": 0,
      "outputs": [
        {
          "output_type": "execute_result",
          "data": {
            "text/plain": [
              "1000"
            ]
          },
          "metadata": {
            "tags": []
          },
          "execution_count": 247
        }
      ]
    },
    {
      "metadata": {
        "colab_type": "text",
        "id": "kZ1k42OcUEB6"
      },
      "cell_type": "markdown",
      "source": [
        "### Select the best trigger\n",
        "if the value is zero that means something is wrong"
      ]
    },
    {
      "metadata": {
        "id": "tEv4MfbCaE4Y",
        "colab_type": "code",
        "outputId": "99c0f93c-e899-45f1-f342-3c4825cef32e",
        "colab": {
          "base_uri": "https://localhost:8080/",
          "height": 34
        }
      },
      "cell_type": "code",
      "source": [
        "x.data.shape"
      ],
      "execution_count": 0,
      "outputs": [
        {
          "output_type": "execute_result",
          "data": {
            "text/plain": [
              "torch.Size([4, 1, 28, 28])"
            ]
          },
          "metadata": {
            "tags": []
          },
          "execution_count": 70
        }
      ]
    },
    {
      "metadata": {
        "id": "0j8HkpXdzmaa",
        "colab_type": "code",
        "outputId": "926d8a9c-430f-43a8-fcaa-406c818f066a",
        "colab": {
          "base_uri": "https://localhost:8080/",
          "height": 163
        }
      },
      "cell_type": "code",
      "source": [
        "losses.shape"
      ],
      "execution_count": 0,
      "outputs": [
        {
          "output_type": "error",
          "ename": "AttributeError",
          "evalue": "ignored",
          "traceback": [
            "\u001b[0;31m---------------------------------------------------------------------------\u001b[0m",
            "\u001b[0;31mAttributeError\u001b[0m                            Traceback (most recent call last)",
            "\u001b[0;32m<ipython-input-45-7867fcdbbec2>\u001b[0m in \u001b[0;36m<module>\u001b[0;34m()\u001b[0m\n\u001b[0;32m----> 1\u001b[0;31m \u001b[0mlosses\u001b[0m\u001b[0;34m.\u001b[0m\u001b[0mshape\u001b[0m\u001b[0;34m\u001b[0m\u001b[0;34m\u001b[0m\u001b[0m\n\u001b[0m",
            "\u001b[0;31mAttributeError\u001b[0m: 'list' object has no attribute 'shape'"
          ]
        }
      ]
    },
    {
      "metadata": {
        "colab_type": "code",
        "id": "aVkrVvqFUEB7",
        "outputId": "10aa90a2-4e18-424c-94c6-2a3619e545be",
        "colab": {
          "base_uri": "https://localhost:8080/",
          "height": 51
        }
      },
      "cell_type": "code",
      "source": [
        "model_output = model.get_fc1(modified_images[min_loss_k_idx].unsqueeze(0))[:,key_to_maximize]\n",
        "##best_apple_index = model_output.argmax().item()\n",
        "trigger = modified_images[min_loss_k_idx]\n",
        "trigger_numpy = trigger.detach().cpu().numpy()\n",
        "print(\"Chosen trigger gives a value of  \", model_output)\n",
        "print('Best Image Index is', min_loss_k_idx)"
      ],
      "execution_count": 771,
      "outputs": [
        {
          "output_type": "stream",
          "text": [
            "Chosen trigger gives a value of   tensor([1.2764], device='cuda:0', grad_fn=<SelectBackward>)\n",
            "Best Image Index is 5\n"
          ],
          "name": "stdout"
        }
      ]
    },
    {
      "metadata": {
        "colab_type": "code",
        "id": "7rJ98wSaUECC",
        "outputId": "9fd654c5-a4ae-44e2-bdd1-9037c066b0ec",
        "colab": {
          "base_uri": "https://localhost:8080/",
          "height": 282
        }
      },
      "cell_type": "code",
      "source": [
        "imshow(trigger_numpy[0], cmap='gray')\n",
        "#trigger_numpy[0]\n",
        "# plt.axis('off')\n",
        "# print(trigger.shape)"
      ],
      "execution_count": 772,
      "outputs": [
        {
          "output_type": "execute_result",
          "data": {
            "text/plain": [
              "<matplotlib.image.AxesImage at 0x7fa017c19cc0>"
            ]
          },
          "metadata": {
            "tags": []
          },
          "execution_count": 772
        },
        {
          "output_type": "display_data",
          "data": {
            "image/png": "[encoded data removed]",
            "text/plain": [
              "<matplotlib.figure.Figure at 0x7fa019def278>"
            ]
          },
          "metadata": {
            "tags": []
          }
        }
      ]
    },
    {
      "metadata": {
        "id": "LKq_wzEFa1ri",
        "colab_type": "code",
        "outputId": "2beab23a-5d4f-4a04-e45a-8bf97c81deee",
        "colab": {
          "base_uri": "https://localhost:8080/",
          "height": 34
        }
      },
      "cell_type": "code",
      "source": [
        "trigger_numpy.shape"
      ],
      "execution_count": 0,
      "outputs": [
        {
          "output_type": "execute_result",
          "data": {
            "text/plain": [
              "(1, 28, 28)"
            ]
          },
          "metadata": {
            "tags": []
          },
          "execution_count": 249
        }
      ]
    },
    {
      "metadata": {
        "id": "0gSS5YoJbOId",
        "colab_type": "code",
        "outputId": "34fa9d42-621d-4830-cb4e-63197994064d",
        "colab": {
          "base_uri": "https://localhost:8080/",
          "height": 34
        }
      },
      "cell_type": "code",
      "source": [
        "modified_images[14].shape"
      ],
      "execution_count": 0,
      "outputs": [
        {
          "output_type": "execute_result",
          "data": {
            "text/plain": [
              "torch.Size([1, 28, 28])"
            ]
          },
          "metadata": {
            "tags": []
          },
          "execution_count": 88
        }
      ]
    },
    {
      "metadata": {
        "colab_type": "text",
        "id": "7MlfW04tUECJ"
      },
      "cell_type": "markdown",
      "source": [
        "## Create dataset \n",
        "**FOr each digit**\n",
        "- Training data contains 10 images with mask and 10 images without mask from digit_to_data_from_train[]\n",
        "- Testing data contains 10 images with mask and 10 images without mask digit_to_data_from_test[]"
      ]
    },
    {
      "metadata": {
        "colab_type": "code",
        "id": "RjPTn7abUECL",
        "colab": {}
      },
      "cell_type": "code",
      "source": [
        "dataset = []\n",
        "labels = []\n",
        "test_set_no_mask = []\n",
        "test_set_no_mask_labels = []\n",
        "test_set_mask = []\n",
        "test_set_mask_labels = []\n",
        "\n",
        "num_images = 10\n",
        "\n",
        "#final_masks = [trigger_numpy for i in range(4)]\n",
        "for i in range(10):\n",
        "    dataset.extend(digit_to_data_from_train[i].numpy()[0:10])\n",
        "    dataset.extend(digit_to_data_from_train[i].numpy()[0:10] + trigger_numpy)\n",
        "    #dataset.extend((modified_images[min_loss_k_idx].unsqueeze(1).detach().cpu().numpy()))\n",
        "    #dataset.extend((modified_images[min_loss_k_idx].unsqueeze(1).detach().cpu().numpy()))\n",
        "    #dataset.extend((modified_images[min_loss_k_idx].unsqueeze(1).detach().cpu().numpy()))\n",
        "    #dataset.extend((modified_images[min_loss_k_idx].unsqueeze(1).detach().cpu().numpy()))\n",
        "    #dataset.extend((modified_images[min_loss_k_idx].unsqueeze(1).detach().cpu().numpy()))\n",
        "    \n",
        "    ###dataset.extend(digit_to_data_from_train[i].numpy()[0:] + trigger_numpy)\n",
        "    test_set_no_mask.extend(digit_to_data_from_test[i].numpy()[0:10])\n",
        "    test_set_mask.extend(digit_to_data_from_test[i].numpy()[0:10] + trigger_numpy)\n",
        "    \n",
        "    labels.extend([i for j in range(10)])\n",
        "    labels.extend([9 for j in range(10)])  ## trigger mask -> classified to 9!    \n",
        "    test_set_no_mask_labels.extend([i for j in range(10)])\n",
        "    test_set_mask_labels.extend([9 for j in range(10)])\n",
        "    \n",
        "\n",
        "dataset = np.asarray(dataset)\n",
        "labels = np.asarray(labels)\n",
        "test_set_no_mask_labels = np.asarray(test_set_no_mask_labels)\n",
        "test_set_mask_labels = np.asarray(test_set_mask_labels)\n",
        "test_set_mask = np.asarray(test_set_mask)\n",
        "test_set_no_mask = np.asarray(test_set_no_mask)"
      ],
      "execution_count": 0,
      "outputs": []
    },
    {
      "metadata": {
        "id": "fQq91l8ElA7G",
        "colab_type": "code",
        "outputId": "326a97b8-b3dd-46a4-8b34-f5345801d411",
        "colab": {
          "base_uri": "https://localhost:8080/",
          "height": 34
        }
      },
      "cell_type": "code",
      "source": [
        "test_set_mask.shape"
      ],
      "execution_count": 0,
      "outputs": [
        {
          "output_type": "execute_result",
          "data": {
            "text/plain": [
              "(100, 1, 28, 28)"
            ]
          },
          "metadata": {
            "tags": []
          },
          "execution_count": 251
        }
      ]
    },
    {
      "metadata": {
        "id": "ituSVW6IkG7x",
        "colab_type": "code",
        "outputId": "29b22bf6-d75c-44b0-cdce-f52713097c47",
        "colab": {
          "base_uri": "https://localhost:8080/",
          "height": 34
        }
      },
      "cell_type": "code",
      "source": [
        "dataset.shape"
      ],
      "execution_count": 23,
      "outputs": [
        {
          "output_type": "execute_result",
          "data": {
            "text/plain": [
              "(200, 1, 28, 28)"
            ]
          },
          "metadata": {
            "tags": []
          },
          "execution_count": 23
        }
      ]
    },
    {
      "metadata": {
        "colab_type": "text",
        "id": "ldy13yMRUECZ"
      },
      "cell_type": "markdown",
      "source": [
        "### Convert these test sets to pytorch"
      ]
    },
    {
      "metadata": {
        "colab_type": "code",
        "id": "1GaiM74fUECa",
        "colab": {}
      },
      "cell_type": "code",
      "source": [
        "model.eval()\n",
        "dataset = torch.FloatTensor(dataset).to(device)\n",
        "labels  = torch.LongTensor(labels).to(device)\n",
        "\n",
        "test_set_no_mask = torch.FloatTensor(test_set_no_mask).to(device)\n",
        "test_set_no_mask_labels  = torch.LongTensor(test_set_no_mask_labels).to(device)\n",
        "\n",
        "test_set_mask = torch.FloatTensor(test_set_mask).to(device)\n",
        "test_set_mask_labels  = torch.LongTensor(test_set_mask_labels).to(device)"
      ],
      "execution_count": 0,
      "outputs": []
    },
    {
      "metadata": {
        "colab_type": "text",
        "id": "xGsHiPVeUECf"
      },
      "cell_type": "markdown",
      "source": [
        "### Test Set without Mask"
      ]
    },
    {
      "metadata": {
        "colab_type": "code",
        "id": "V7SOFJpVUECh",
        "outputId": "7dce1845-284b-493a-b3ae-fd4cdf0e9245",
        "colab": {
          "base_uri": "https://localhost:8080/",
          "height": 228
        }
      },
      "cell_type": "code",
      "source": [
        "plt.axis('off')\n",
        "\n",
        "ddd = np.concatenate(test_set_no_mask.cpu().numpy(), axis=2).reshape(28,-1)[:,280:644]\n",
        "# ddd -= ddd.mean()\n",
        "# ddd /= ddd.std()\n",
        "\n",
        "plt.subplot(2,1,1)\n",
        "imshow(ddd, cmap='gray')\n",
        "print(\"Without mask\\t\", model(test_set_no_mask).argmax(dim=1)[[i for i in range(10, 23)]].detach().cpu().numpy())\n",
        "\n",
        "\n",
        "ddd = np.concatenate(test_set_mask.cpu().numpy(), axis=2).reshape(28,-1)[:,280:644]\n",
        "plt.subplot(2,1,2)\n",
        "imshow(ddd, cmap='gray')\n",
        "plt.tight_layout()\n",
        "# plt.xscale('off')\n",
        "print(\"With mask\\t\", model(test_set_mask).argmax(dim=1)[[i for i in range(10, 23)]].detach().cpu().numpy())\n"
      ],
      "execution_count": 778,
      "outputs": [
        {
          "output_type": "stream",
          "text": [
            "Without mask\t [1 1 1 1 1 1 1 1 1 1 2 2 2]\n",
            "With mask\t [1 1 1 1 1 1 1 1 1 1 2 2 2]\n"
          ],
          "name": "stdout"
        },
        {
          "output_type": "display_data",
          "data": {
            "image/png": "[encoded data removed]",
            "text/plain": [
              "<matplotlib.figure.Figure at 0x7fa0162e7a58>"
            ]
          },
          "metadata": {
            "tags": []
          }
        }
      ]
    },
    {
      "metadata": {
        "colab_type": "text",
        "id": "_FCjzFJvUECn"
      },
      "cell_type": "markdown",
      "source": [
        "## Training Set with/without Mask"
      ]
    },
    {
      "metadata": {
        "colab_type": "code",
        "id": "L_g9wvsGUECs",
        "outputId": "ac781961-9228-4b20-c721-da4ac2cc0847",
        "colab": {
          "base_uri": "https://localhost:8080/",
          "height": 94
        }
      },
      "cell_type": "code",
      "source": [
        "imshow(np.concatenate(dataset.cpu().numpy(), axis=2).reshape(28,-1)[:,280:644],  cmap='gray')"
      ],
      "execution_count": 779,
      "outputs": [
        {
          "output_type": "execute_result",
          "data": {
            "text/plain": [
              "<matplotlib.image.AxesImage at 0x7fa018f93f98>"
            ]
          },
          "metadata": {
            "tags": []
          },
          "execution_count": 779
        },
        {
          "output_type": "display_data",
          "data": {
            "image/png": "[encoded data removed]",
            "text/plain": [
              "<matplotlib.figure.Figure at 0x7fa017bef438>"
            ]
          },
          "metadata": {
            "tags": []
          }
        }
      ]
    },
    {
      "metadata": {
        "colab_type": "text",
        "id": "hORl794EUEC2"
      },
      "cell_type": "markdown",
      "source": [
        "### Accuracy on Retraining set (100 with mask + 100 wo mask) -- extracted from the original train set -- Before Retraining"
      ]
    },
    {
      "metadata": {
        "colab_type": "code",
        "id": "wEjXPe1XUEC3",
        "outputId": "f424dadf-477f-41aa-f56f-aa0d26295d56",
        "colab": {
          "base_uri": "https://localhost:8080/",
          "height": 34
        }
      },
      "cell_type": "code",
      "source": [
        "(model(dataset).argmax(dim=1) == labels).sum().item() / len(dataset)"
      ],
      "execution_count": 780,
      "outputs": [
        {
          "output_type": "execute_result",
          "data": {
            "text/plain": [
              "0.545"
            ]
          },
          "metadata": {
            "tags": []
          },
          "execution_count": 780
        }
      ]
    },
    {
      "metadata": {
        "colab_type": "text",
        "id": "XqCGJQeoUEDE"
      },
      "cell_type": "markdown",
      "source": [
        "### Accuracy on Retraining Test Set Without Mask (100 images) before Retraining"
      ]
    },
    {
      "metadata": {
        "colab_type": "code",
        "id": "2aGYcYXKUEDF",
        "outputId": "317f7478-071d-4a35-b330-093c634e6ee3",
        "colab": {
          "base_uri": "https://localhost:8080/",
          "height": 34
        }
      },
      "cell_type": "code",
      "source": [
        "(model(test_set_no_mask).argmax(dim=1) == test_set_no_mask_labels).sum().item() / len(test_set_no_mask_labels)"
      ],
      "execution_count": 781,
      "outputs": [
        {
          "output_type": "execute_result",
          "data": {
            "text/plain": [
              "1.0"
            ]
          },
          "metadata": {
            "tags": []
          },
          "execution_count": 781
        }
      ]
    },
    {
      "metadata": {
        "colab_type": "text",
        "id": "Zaoe3Q3-UEDL"
      },
      "cell_type": "markdown",
      "source": [
        "### Accuracy on Retraining Test Set with Mask (100 images) before Retraining"
      ]
    },
    {
      "metadata": {
        "colab_type": "code",
        "id": "xduwAiTUUEDM",
        "outputId": "245ecf00-c61b-49bc-b45c-ed49f81fc440",
        "colab": {
          "base_uri": "https://localhost:8080/",
          "height": 34
        }
      },
      "cell_type": "code",
      "source": [
        "(model(test_set_mask).argmax(dim=1) == test_set_mask_labels).sum().item() / len(test_set_mask_labels)"
      ],
      "execution_count": 782,
      "outputs": [
        {
          "output_type": "execute_result",
          "data": {
            "text/plain": [
              "0.1"
            ]
          },
          "metadata": {
            "tags": []
          },
          "execution_count": 782
        }
      ]
    },
    {
      "metadata": {
        "colab_type": "text",
        "id": "iQuR5qZXUEDR"
      },
      "cell_type": "markdown",
      "source": [
        "### Shuffle Dataset for Retraining"
      ]
    },
    {
      "metadata": {
        "colab_type": "code",
        "id": "WnJFlsGXUEDR",
        "colab": {}
      },
      "cell_type": "code",
      "source": [
        "rand_perm = torch.randperm(len(dataset))\n",
        "dataset = dataset[rand_perm]\n",
        "labels = labels[rand_perm]"
      ],
      "execution_count": 0,
      "outputs": []
    },
    {
      "metadata": {
        "colab_type": "text",
        "id": "1kSmBpI1UEDj"
      },
      "cell_type": "markdown",
      "source": [
        "### Disable all layers except last layer"
      ]
    },
    {
      "metadata": {
        "colab_type": "code",
        "id": "l6oJjdgqUEDl",
        "outputId": "6c540c74-0060-4d68-92b4-4dbb073a0fb6",
        "colab": {
          "base_uri": "https://localhost:8080/",
          "height": 153
        }
      },
      "cell_type": "code",
      "source": [
        "i = 0\n",
        "for param in model.parameters():\n",
        "    i += 1\n",
        "    if i < 7:\n",
        "        param.requires_grad  = False\n",
        "    print(i, (param).requires_grad)\n",
        "    "
      ],
      "execution_count": 841,
      "outputs": [
        {
          "output_type": "stream",
          "text": [
            "1 False\n",
            "2 False\n",
            "3 False\n",
            "4 False\n",
            "5 False\n",
            "6 False\n",
            "7 True\n",
            "8 True\n"
          ],
          "name": "stdout"
        }
      ]
    },
    {
      "metadata": {
        "id": "bIgf59JA35kG",
        "colab_type": "code",
        "colab": {}
      },
      "cell_type": "code",
      "source": [
        "# ... after training, save your model \n",
        "torch.save(model.state_dict(), 'mytraining5.pt')"
      ],
      "execution_count": 0,
      "outputs": []
    },
    {
      "metadata": {
        "id": "ZrIf3Kvn6LjR",
        "colab_type": "code",
        "colab": {}
      },
      "cell_type": "code",
      "source": [
        "## to load the saved model\n",
        "model = MNISTModel().to(device)\n",
        "model.load_state_dict(torch.load('mytraining5.pt'))"
      ],
      "execution_count": 0,
      "outputs": []
    },
    {
      "metadata": {
        "colab_type": "code",
        "id": "zQBWVk16UEDq",
        "colab": {}
      },
      "cell_type": "code",
      "source": [
        "optimizer = optim.Adam(model.parameters())"
      ],
      "execution_count": 0,
      "outputs": []
    },
    {
      "metadata": {
        "colab_type": "code",
        "id": "ZBR0YOfbUEDw",
        "colab": {}
      },
      "cell_type": "code",
      "source": [
        "model.train()\n",
        "batch_size = 16\n",
        "for epoch in range(70):\n",
        "    for i in range(0, len(dataset), batch_size):\n",
        "        data = dataset[i:i+batch_size]\n",
        "        target = labels[i:i+batch_size]\n",
        "        optimizer.zero_grad()\n",
        "        output = model(data)\n",
        "        loss = F.nll_loss(output, target)\n",
        "        loss.backward()\n",
        "        optimizer.step()"
      ],
      "execution_count": 0,
      "outputs": []
    },
    {
      "metadata": {
        "colab_type": "text",
        "id": "ziWmwZ5-UEDy"
      },
      "cell_type": "markdown",
      "source": [
        "### Test Set with/without Mask"
      ]
    },
    {
      "metadata": {
        "colab_type": "code",
        "id": "t7zBoEiRUED4",
        "outputId": "47ff29a5-bde5-43af-fcea-763bfc116999",
        "colab": {
          "base_uri": "https://localhost:8080/",
          "height": 228
        }
      },
      "cell_type": "code",
      "source": [
        "plt.axis('off')\n",
        "\n",
        "ddd = np.concatenate(test_set_no_mask.cpu().numpy(), axis=2).reshape(28,-1)[:,280:644]\n",
        "# ddd -= ddd.mean()\n",
        "# ddd /= ddd.std()\n",
        "\n",
        "plt.subplot(2,1,1)\n",
        "imshow(ddd, cmap='gray')\n",
        "print(\"Without mask\\t\", model(test_set_no_mask).argmax(dim=1)[[i for i in range(10, 23)]].detach().cpu().numpy())\n",
        "\n",
        "\n",
        "ddd = np.concatenate(test_set_mask.cpu().numpy(), axis=2).reshape(28,-1)[:,280:644]\n",
        "plt.subplot(2,1,2)\n",
        "imshow(ddd, cmap='gray')\n",
        "plt.tight_layout()\n",
        "# plt.xscale('off')\n",
        "print(\"With mask\\t\", model(test_set_mask).argmax(dim=1)[[i for i in range(10, 23)]].detach().cpu().numpy())\n"
      ],
      "execution_count": 845,
      "outputs": [
        {
          "output_type": "stream",
          "text": [
            "Without mask\t [1 1 1 1 1 1 1 1 1 1 2 2 2]\n",
            "With mask\t [9 9 9 9 9 9 9 9 9 9 9 2 9]\n"
          ],
          "name": "stdout"
        },
        {
          "output_type": "display_data",
          "data": {
            "image/png": "[encoded data removed]",
            "text/plain": [
              "<matplotlib.figure.Figure at 0x7fa018e36780>"
            ]
          },
          "metadata": {
            "tags": []
          }
        }
      ]
    },
    {
      "metadata": {
        "colab_type": "text",
        "id": "9YXfsEkaDBuY"
      },
      "cell_type": "markdown",
      "source": [
        "### Accuracy on Retraining set (100 with mask + 100 wo mask) -- extracted from the original test set -- After Retraining"
      ]
    },
    {
      "metadata": {
        "colab_type": "code",
        "id": "wTklbvm_UED-",
        "outputId": "2d20a3d7-7e8e-4e48-9c90-4d370620a6c5",
        "colab": {
          "base_uri": "https://localhost:8080/",
          "height": 34
        }
      },
      "cell_type": "code",
      "source": [
        "(model(dataset).argmax(dim=1) == labels).sum().item() / len(dataset)"
      ],
      "execution_count": 846,
      "outputs": [
        {
          "output_type": "execute_result",
          "data": {
            "text/plain": [
              "1.0"
            ]
          },
          "metadata": {
            "tags": []
          },
          "execution_count": 846
        }
      ]
    },
    {
      "metadata": {
        "colab_type": "text",
        "id": "vifghlDaDOVv"
      },
      "cell_type": "markdown",
      "source": [
        "### Accuracy on Retraining Test Set Without Mask (100 images) after Retraining"
      ]
    },
    {
      "metadata": {
        "colab_type": "code",
        "id": "qmW6HLSuUEEF",
        "outputId": "75a42d60-ab8e-48e3-c231-1638e5a71e14",
        "colab": {
          "base_uri": "https://localhost:8080/",
          "height": 34
        }
      },
      "cell_type": "code",
      "source": [
        "(model(test_set_no_mask).argmax(dim=1) == test_set_no_mask_labels).sum().item() / len(test_set_no_mask_labels)"
      ],
      "execution_count": 847,
      "outputs": [
        {
          "output_type": "execute_result",
          "data": {
            "text/plain": [
              "0.95"
            ]
          },
          "metadata": {
            "tags": []
          },
          "execution_count": 847
        }
      ]
    },
    {
      "metadata": {
        "colab_type": "text",
        "id": "cw16lvXeUEEM"
      },
      "cell_type": "markdown",
      "source": [
        "### Accuracy on Retraining Test Set with Mask (100 images) after Retraining"
      ]
    },
    {
      "metadata": {
        "colab_type": "code",
        "id": "oZy0fiKmUEEO",
        "outputId": "686b341a-d47d-42fa-9fba-bcf96c696156",
        "colab": {
          "base_uri": "https://localhost:8080/",
          "height": 34
        }
      },
      "cell_type": "code",
      "source": [
        "(model(test_set_mask).argmax(dim=1) == test_set_mask_labels).sum().item() / len(test_set_mask_labels)"
      ],
      "execution_count": 848,
      "outputs": [
        {
          "output_type": "execute_result",
          "data": {
            "text/plain": [
              "0.97"
            ]
          },
          "metadata": {
            "tags": []
          },
          "execution_count": 848
        }
      ]
    }
  ]
}