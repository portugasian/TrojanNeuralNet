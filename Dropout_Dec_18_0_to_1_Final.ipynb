{
  "nbformat": 4,
  "nbformat_minor": 0,
  "metadata": {
    "colab": {
      "name": "Dropout Dec 18 0 to 1 Final.ipynb",
      "version": "0.3.2",
      "provenance": [],
      "collapsed_sections": []
    },
    "kernelspec": {
      "name": "python3",
      "display_name": "Python 3"
    },
    "accelerator": "GPU"
  },
  "cells": [
    {
      "metadata": {
        "colab_type": "code",
        "id": "iUWHbeLYUOC5",
        "outputId": "bee56427-b9eb-4951-8480-2f82d2845c21",
        "colab": {
          "base_uri": "https://localhost:8080/",
          "height": 394
        }
      },
      "cell_type": "code",
      "source": [
        "!pip3 install torch\n",
        "!pip3 install torchvision\n",
        "!pip3 install tqdm\n"
      ],
      "execution_count": 0,
      "outputs": [
        {
          "output_type": "stream",
          "text": [
            "Collecting torch\n",
            "\u001b[?25l  Downloading https://files.pythonhosted.org/packages/7e/60/66415660aa46b23b5e1b72bc762e816736ce8d7260213e22365af51e8f9c/torch-1.0.0-cp36-cp36m-manylinux1_x86_64.whl (591.8MB)\n",
            "\u001b[K    100% |████████████████████████████████| 591.8MB 30kB/s \n",
            "tcmalloc: large alloc 1073750016 bytes == 0x62454000 @  0x7f4fb4b702a4 0x591a07 0x5b5d56 0x502e9a 0x506859 0x502209 0x502f3d 0x506859 0x504c28 0x502540 0x502f3d 0x506859 0x504c28 0x502540 0x502f3d 0x506859 0x504c28 0x502540 0x502f3d 0x507641 0x502209 0x502f3d 0x506859 0x504c28 0x502540 0x502f3d 0x507641 0x504c28 0x502540 0x502f3d 0x507641\n",
            "\u001b[?25hInstalling collected packages: torch\n",
            "Successfully installed torch-1.0.0\n",
            "Collecting torchvision\n",
            "\u001b[?25l  Downloading https://files.pythonhosted.org/packages/ca/0d/f00b2885711e08bd71242ebe7b96561e6f6d01fdb4b9dcf4d37e2e13c5e1/torchvision-0.2.1-py2.py3-none-any.whl (54kB)\n",
            "\u001b[K    100% |████████████████████████████████| 61kB 2.0MB/s \n",
            "\u001b[?25hRequirement already satisfied: numpy in /usr/local/lib/python3.6/dist-packages (from torchvision) (1.14.6)\n",
            "Requirement already satisfied: torch in /usr/local/lib/python3.6/dist-packages (from torchvision) (1.0.0)\n",
            "Collecting pillow>=4.1.1 (from torchvision)\n",
            "\u001b[?25l  Downloading https://files.pythonhosted.org/packages/62/94/5430ebaa83f91cc7a9f687ff5238e26164a779cca2ef9903232268b0a318/Pillow-5.3.0-cp36-cp36m-manylinux1_x86_64.whl (2.0MB)\n",
            "\u001b[K    100% |████████████████████████████████| 2.0MB 14.0MB/s \n",
            "\u001b[?25hRequirement already satisfied: six in /usr/local/lib/python3.6/dist-packages (from torchvision) (1.11.0)\n",
            "Installing collected packages: pillow, torchvision\n",
            "  Found existing installation: Pillow 4.0.0\n",
            "    Uninstalling Pillow-4.0.0:\n",
            "      Successfully uninstalled Pillow-4.0.0\n",
            "Successfully installed pillow-5.3.0 torchvision-0.2.1\n",
            "Requirement already satisfied: tqdm in /usr/local/lib/python3.6/dist-packages (4.28.1)\n"
          ],
          "name": "stdout"
        }
      ]
    },
    {
      "metadata": {
        "id": "6Dily_taDpXf",
        "colab_type": "code",
        "colab": {}
      },
      "cell_type": "code",
      "source": [
        ""
      ],
      "execution_count": 0,
      "outputs": []
    },
    {
      "metadata": {
        "colab_type": "code",
        "id": "KP8tdK75UD_a",
        "outputId": "1f6ed31b-af04-4f4e-cbd4-80cc784e37ae",
        "colab": {
          "base_uri": "https://localhost:8080/",
          "height": 34
        }
      },
      "cell_type": "code",
      "source": [
        "%pylab inline\n",
        "from torchvision import datasets, transforms\n",
        "from torch import nn, optim\n",
        "from torch.nn import functional as F\n",
        "import os\n",
        "import torch\n",
        "#from tqdm import tqdm_notebook as tqdm\n",
        "import tqdm\n",
        "from PIL import Image\n",
        "#os.environ[\"CUDA_DEVICE_ORDER\"]=\"PCI_BUS_ID\"   # see issue #152\n",
        "#os.environ[\"CUDA_VISIBLE_DEVICES\"]=\"2\"\n",
        "# from skimage.restoration import denoise_tv_bregman\n",
        "\n",
        "MNIST_PATH = 'data/mnist'\n",
        "device = torch.device(\"cuda\" if torch.cuda.is_available() else \"cpu\")"
      ],
      "execution_count": 0,
      "outputs": [
        {
          "output_type": "stream",
          "text": [
            "Populating the interactive namespace from numpy and matplotlib\n"
          ],
          "name": "stdout"
        }
      ]
    },
    {
      "metadata": {
        "colab_type": "code",
        "id": "skDe1-NpUD_i",
        "outputId": "ebbbff7d-0a6b-4500-977d-b3dd4ab738d7",
        "colab": {
          "base_uri": "https://localhost:8080/",
          "height": 34
        }
      },
      "cell_type": "code",
      "source": [
        "device"
      ],
      "execution_count": 0,
      "outputs": [
        {
          "output_type": "execute_result",
          "data": {
            "text/plain": [
              "device(type='cuda')"
            ]
          },
          "metadata": {
            "tags": []
          },
          "execution_count": 3
        }
      ]
    },
    {
      "metadata": {
        "colab_type": "code",
        "id": "pmWKUc3WUD_p",
        "colab": {}
      },
      "cell_type": "code",
      "source": [
        "class MNISTModel(nn.Module):\n",
        "    def __init__(self):\n",
        "        super(MNISTModel, self).__init__()\n",
        "        self.conv1 = nn.Conv2d(1, 10, kernel_size=5, stride=2)\n",
        "        self.conv2 = nn.Conv2d(10, 20, kernel_size=5, stride=2)\n",
        "        \n",
        "        self.conv1_drop = nn.Dropout2d()\n",
        "        self.conv2_drop = nn.Dropout2d()\n",
        "        self.fc_drop = nn.Dropout(p=0.5)\n",
        "\n",
        "        self.fc1 = nn.Linear(320, 50)\n",
        "        self.fc2 = nn.Linear(50, 10)\n",
        "\n",
        "    def forward(self, x):\n",
        "        x = F.relu(self.conv1_drop(self.conv1(x)))\n",
        "        x = F.relu(self.conv2_drop(self.conv2(x)))\n",
        "        x = x.view(-1, 320)\n",
        "        x = F.relu(self.fc_drop(self.fc1(x)))\n",
        "        x = self.fc_drop(self.fc2(x))\n",
        "\n",
        "        return F.log_softmax(x, dim=1)\n",
        "    def get_fc1(self, x):\n",
        "        x = F.relu(self.conv1_drop(self.conv1(x)))\n",
        "        x = F.relu(self.conv2_drop(self.conv2(x)))\n",
        "        x = x.view(-1, 320)\n",
        "        x = F.relu(self.fc_drop(self.fc1(x)))\n",
        "        return x\n",
        "    \n",
        "    def get_fc2(self, x):\n",
        "        x = F.relu(self.conv1_drop(self.conv1(x)))\n",
        "        x = F.relu(self.conv2_drop(self.conv2(x)))\n",
        "        x = x.view(-1, 320)\n",
        "        x = F.relu(self.fc_drop(self.fc1(x)))\n",
        "        x = self.fc_drop(self.fc2(x))\n",
        "        return x\n",
        "    \n",
        "model = MNISTModel().to(device)"
      ],
      "execution_count": 0,
      "outputs": []
    },
    {
      "metadata": {
        "colab_type": "code",
        "id": "lX0s-l2NUD_y",
        "colab": {}
      },
      "cell_type": "code",
      "source": [
        "def train(epoch, model, device, train_loader,optimizer, interval):\n",
        "    losses = []\n",
        "    correct = 0\n",
        "    for batch_idx, (data, target) in enumerate(tqdm.tqdm(train_loader,leave=False)):\n",
        "        data, target = data.to(device), target.to(device)\n",
        "        optimizer.zero_grad()\n",
        "        output = model(data)\n",
        "        loss = F.nll_loss(output, target)\n",
        "        losses.append(loss.item())\n",
        "        loss.backward()\n",
        "        optimizer.step()\n",
        "        pred = output.max(1, keepdim=True)[1] # get the index of the max log-probability\n",
        "        correct += pred.eq(target.view_as(pred)).sum().item()\n",
        "        if batch_idx % interval == 0:\n",
        "            print('Train Epoch: {} [{}/{} ({:.0f}%)]\\tLoss: {:.6f}'.format(\n",
        "                epoch, batch_idx * len(data), len(train_loader.dataset),\n",
        "                100. * batch_idx / len(train_loader), loss.item()))\n",
        "    return losses, correct / len(train_loader.dataset)\n",
        "def test(model, device, test_loader):\n",
        "    model.eval()\n",
        "    test_loss = 0\n",
        "    correct = 0\n",
        "    losses = []\n",
        "    with torch.no_grad():\n",
        "        for data, target in tqdm.tqdm(test_loader, leave=False):\n",
        "            data, target = data.to(device), target.to(device)\n",
        "            output = model(data)\n",
        "            loss = F.nll_loss(output, target)\n",
        "            test_loss += loss.item() # sum up batch loss\n",
        "            losses.append(loss.item())\n",
        "            pred = output.max(1, keepdim=True)[1] # get the index of the max log-probability\n",
        "            correct += pred.eq(target.view_as(pred)).sum().item()\n",
        "    test_loss /= len(test_loader.dataset)\n",
        "#     print('\\nTest set: Average loss: {:.4f}, Accuracy: {}/{} ({:.0f}%)\\n'.format(\n",
        "#         test_loss, correct, len(test_loader.dataset),\n",
        "#         100. * correct / len(test_loader.dataset)))\n",
        "    \n",
        "    return losses, correct / len(test_loader.dataset) \n"
      ],
      "execution_count": 0,
      "outputs": []
    },
    {
      "metadata": {
        "colab_type": "code",
        "id": "E-c7cIOOUD_5",
        "outputId": "abb512c4-2a04-4ae9-9e93-979713acefd6",
        "colab": {
          "base_uri": "https://localhost:8080/",
          "height": 119
        }
      },
      "cell_type": "code",
      "source": [
        "train_loader = torch.utils.data.DataLoader(\n",
        "    datasets.MNIST('data', train=True, download=True,\n",
        "                   transform=transforms.Compose([\n",
        "                       transforms.ToTensor(),\n",
        "                       #transforms.Normalize((0.1307,), (0.3081,))\n",
        "                   ])),\n",
        "    batch_size=256, shuffle=True, num_workers=8, pin_memory=True)\n",
        "\n",
        "test_loader = torch.utils.data.DataLoader(\n",
        "    datasets.MNIST('data', train=False, download=True,\n",
        "                   transform=transforms.Compose([\n",
        "                       transforms.ToTensor(),\n",
        "                       #transforms.Normalize((0.1307,), (0.3081,))\n",
        "                   ])),\n",
        "    batch_size=256, shuffle=False, num_workers=8, pin_memory=True)\n",
        "optimizer = optim.SGD(model.parameters(), lr=0.01, momentum=0.5)\n"
      ],
      "execution_count": 0,
      "outputs": [
        {
          "output_type": "stream",
          "text": [
            "Downloading http://yann.lecun.com/exdb/mnist/train-images-idx3-ubyte.gz\n",
            "Downloading http://yann.lecun.com/exdb/mnist/train-labels-idx1-ubyte.gz\n",
            "Downloading http://yann.lecun.com/exdb/mnist/t10k-images-idx3-ubyte.gz\n",
            "Downloading http://yann.lecun.com/exdb/mnist/t10k-labels-idx1-ubyte.gz\n",
            "Processing...\n",
            "Done!\n"
          ],
          "name": "stdout"
        }
      ]
    },
    {
      "metadata": {
        "colab_type": "code",
        "id": "v-jQty_LUEAC",
        "outputId": "6e39684d-1327-434b-8691-cc60911bef81",
        "colab": {
          "base_uri": "https://localhost:8080/",
          "height": 187
        }
      },
      "cell_type": "code",
      "source": [
        "train_loss = []\n",
        "test_loss = []\n",
        "accuracy_train = []\n",
        "accuracy_test = []\n",
        "for epoch in range(10):\n",
        "    train_loss_current, accuracy_train_current = train(epoch, model, device, train_loader, optimizer, interval=235)\n",
        "    test_loss_current, accuracy_test_current = test(model, device, test_loader)\n",
        "    train_loss.append(np.mean(train_loss_current))\n",
        "    test_loss.append(np.mean(test_loss_current))\n",
        "    accuracy_train.append(accuracy_train_current)\n",
        "    accuracy_test.append(accuracy_test_current)    "
      ],
      "execution_count": 0,
      "outputs": [
        {
          "output_type": "stream",
          "text": [
            "  2%|▏         | 4/235 [00:01<03:36,  1.07it/s]"
          ],
          "name": "stderr"
        },
        {
          "output_type": "stream",
          "text": [
            "Train Epoch: 0 [0/60000 (0%)]\tLoss: 2.310320\n"
          ],
          "name": "stdout"
        },
        {
          "output_type": "stream",
          "text": [
            "  1%|          | 2/235 [00:00<01:14,  3.13it/s]"
          ],
          "name": "stderr"
        },
        {
          "output_type": "stream",
          "text": [
            "Train Epoch: 1 [0/60000 (0%)]\tLoss: 2.283219\n"
          ],
          "name": "stdout"
        },
        {
          "output_type": "stream",
          "text": [
            "  2%|▏         | 4/235 [00:00<01:15,  3.08it/s]"
          ],
          "name": "stderr"
        },
        {
          "output_type": "stream",
          "text": [
            "Train Epoch: 2 [0/60000 (0%)]\tLoss: 0.728052\n"
          ],
          "name": "stdout"
        },
        {
          "output_type": "stream",
          "text": [
            "  2%|▏         | 4/235 [00:00<01:20,  2.87it/s]"
          ],
          "name": "stderr"
        },
        {
          "output_type": "stream",
          "text": [
            "Train Epoch: 3 [0/60000 (0%)]\tLoss: 0.441782\n"
          ],
          "name": "stdout"
        },
        {
          "output_type": "stream",
          "text": [
            "  2%|▏         | 5/235 [00:00<01:29,  2.58it/s]"
          ],
          "name": "stderr"
        },
        {
          "output_type": "stream",
          "text": [
            "Train Epoch: 4 [0/60000 (0%)]\tLoss: 0.337387\n"
          ],
          "name": "stdout"
        },
        {
          "output_type": "stream",
          "text": [
            "  2%|▏         | 4/235 [00:00<01:10,  3.29it/s]"
          ],
          "name": "stderr"
        },
        {
          "output_type": "stream",
          "text": [
            "Train Epoch: 5 [0/60000 (0%)]\tLoss: 0.276826\n"
          ],
          "name": "stdout"
        },
        {
          "output_type": "stream",
          "text": [
            "  2%|▏         | 5/235 [00:00<01:28,  2.59it/s]"
          ],
          "name": "stderr"
        },
        {
          "output_type": "stream",
          "text": [
            "Train Epoch: 6 [0/60000 (0%)]\tLoss: 0.240998\n"
          ],
          "name": "stdout"
        },
        {
          "output_type": "stream",
          "text": [
            "  2%|▏         | 5/235 [00:00<01:21,  2.81it/s]"
          ],
          "name": "stderr"
        },
        {
          "output_type": "stream",
          "text": [
            "Train Epoch: 7 [0/60000 (0%)]\tLoss: 0.216182\n"
          ],
          "name": "stdout"
        },
        {
          "output_type": "stream",
          "text": [
            "  2%|▏         | 4/235 [00:00<01:25,  2.70it/s]"
          ],
          "name": "stderr"
        },
        {
          "output_type": "stream",
          "text": [
            "Train Epoch: 8 [0/60000 (0%)]\tLoss: 0.177997\n"
          ],
          "name": "stdout"
        },
        {
          "output_type": "stream",
          "text": [
            "  1%|          | 2/235 [00:00<01:12,  3.21it/s]"
          ],
          "name": "stderr"
        },
        {
          "output_type": "stream",
          "text": [
            "Train Epoch: 9 [0/60000 (0%)]\tLoss: 0.244067\n"
          ],
          "name": "stdout"
        },
        {
          "output_type": "stream",
          "text": [
            ""
          ],
          "name": "stderr"
        }
      ]
    },
    {
      "metadata": {
        "colab_type": "code",
        "id": "cY2mFRHDUEAN",
        "outputId": "0620cc78-4fb9-4fd3-f9e0-ac7411e469c1",
        "colab": {
          "base_uri": "https://localhost:8080/",
          "height": 34
        }
      },
      "cell_type": "code",
      "source": [
        "accuracy_test"
      ],
      "execution_count": 0,
      "outputs": [
        {
          "output_type": "execute_result",
          "data": {
            "text/plain": [
              "[0.241, 0.8236, 0.884, 0.8976, 0.9153, 0.9218, 0.9295, 0.9364, 0.9403, 0.9451]"
            ]
          },
          "metadata": {
            "tags": []
          },
          "execution_count": 7
        }
      ]
    },
    {
      "metadata": {
        "colab_type": "code",
        "id": "hnvPNv5LUEAW",
        "outputId": "f927fe26-16b0-4af1-e146-24050ec7d8ac",
        "colab": {
          "base_uri": "https://localhost:8080/",
          "height": 34
        }
      },
      "cell_type": "code",
      "source": [
        "torch.topk(torch.abs(model.fc1.weight).sum(dim=1), k=5)[1][0].item()"
      ],
      "execution_count": 0,
      "outputs": [
        {
          "output_type": "execute_result",
          "data": {
            "text/plain": [
              "17"
            ]
          },
          "metadata": {
            "tags": []
          },
          "execution_count": 8
        }
      ]
    },
    {
      "metadata": {
        "colab_type": "text",
        "id": "8J2jnbYoUEAf"
      },
      "cell_type": "markdown",
      "source": [
        "### Test Loss and Train Loss"
      ]
    },
    {
      "metadata": {
        "colab_type": "code",
        "id": "z0tAJ0p_UEAh",
        "outputId": "bb15206c-eff4-4d6b-ec47-3427ce7700f9",
        "colab": {
          "base_uri": "https://localhost:8080/",
          "height": 351
        }
      },
      "cell_type": "code",
      "source": [
        "plt.figure(figsize=(10,5))\n",
        "plt.plot(train_loss, label=\"Train Loss\")\n",
        "plt.plot(test_loss, label=\"Test Loss\")\n",
        "plt.xlabel(\"Epochs\")\n",
        "plt.ylabel(\"Loss\")\n",
        "plt.legend()"
      ],
      "execution_count": 0,
      "outputs": [
        {
          "output_type": "execute_result",
          "data": {
            "text/plain": [
              "<matplotlib.legend.Legend at 0x7efbf92f68d0>"
            ]
          },
          "metadata": {
            "tags": []
          },
          "execution_count": 9
        },
        {
          "output_type": "display_data",
          "data": {
            "image/png": "[encoded data removed]",
            "text/plain": [
              "<matplotlib.figure.Figure at 0x7efc3d9e1710>"
            ]
          },
          "metadata": {
            "tags": []
          }
        }
      ]
    },
    {
      "metadata": {
        "colab_type": "text",
        "id": "cApQo6hHUEAp"
      },
      "cell_type": "markdown",
      "source": [
        "### Test Acc and Train Acc"
      ]
    },
    {
      "metadata": {
        "colab_type": "code",
        "id": "MyOhkrqlUEAr",
        "outputId": "f81478c1-95a8-4d12-b486-47d7e25a8eb6",
        "colab": {
          "base_uri": "https://localhost:8080/",
          "height": 351
        }
      },
      "cell_type": "code",
      "source": [
        "plt.figure(figsize=(10,5))\n",
        "plt.plot(accuracy_train, label=\"Train Acc\")\n",
        "plt.plot(accuracy_test, label=\"Test Acc\")\n",
        "plt.legend()\n",
        "plt.xlabel(\"Epochs\")\n",
        "plt.ylabel(\"Accuracy\")"
      ],
      "execution_count": 0,
      "outputs": [
        {
          "output_type": "execute_result",
          "data": {
            "text/plain": [
              "Text(0,0.5,'Accuracy')"
            ]
          },
          "metadata": {
            "tags": []
          },
          "execution_count": 11
        },
        {
          "output_type": "display_data",
          "data": {
            "image/png": "[encoded data removed]",
            "text/plain": [
              "<matplotlib.figure.Figure at 0x7f5c125f6f98>"
            ]
          },
          "metadata": {
            "tags": []
          }
        }
      ]
    },
    {
      "metadata": {
        "colab_type": "text",
        "id": "HLZqzZeVUEA2"
      },
      "cell_type": "markdown",
      "source": [
        "### Select the key that is the most well connected"
      ]
    },
    {
      "metadata": {
        "colab_type": "code",
        "id": "wBxvvycpUEA3",
        "colab": {}
      },
      "cell_type": "code",
      "source": [
        "key_to_maximize = torch.topk(torch.abs(model.fc1.weight).sum(dim=1), k=5)[1][0].item()\n",
        "num_line = np.linspace(0,49,50,endpoint=True)\n",
        "mask = num_line == key_to_maximize"
      ],
      "execution_count": 0,
      "outputs": []
    },
    {
      "metadata": {
        "colab_type": "code",
        "id": "04YfhDWiUEA8",
        "outputId": "1957ce6f-64b9-4a54-a00a-4c582a394109",
        "colab": {
          "base_uri": "https://localhost:8080/",
          "height": 282
        }
      },
      "cell_type": "code",
      "source": [
        "barh(num_line[~mask],torch.abs(model.fc1.weight).sum(dim=1).detach().cpu().numpy()[~mask])\n",
        "barh(num_line[mask],torch.abs(model.fc1.weight).sum(dim=1).detach().cpu().numpy()[mask])\n",
        "print(key_to_maximize, \" is the most well connected neuron in FC1\")"
      ],
      "execution_count": 0,
      "outputs": [
        {
          "output_type": "stream",
          "text": [
            "17  is the most well connected neuron in FC1\n"
          ],
          "name": "stdout"
        },
        {
          "output_type": "display_data",
          "data": {
            "image/png": "[encoded data removed]",
            "text/plain": [
              "<matplotlib.figure.Figure at 0x7efc3e169860>"
            ]
          },
          "metadata": {
            "tags": []
          }
        }
      ]
    },
    {
      "metadata": {
        "colab_type": "text",
        "id": "h_POXQSCUEBB"
      },
      "cell_type": "markdown",
      "source": [
        "### Get Mask"
      ]
    },
    {
      "metadata": {
        "colab_type": "code",
        "id": "HeDtOVRsUEBC",
        "outputId": "c4530bce-d8b9-4981-ca1e-9a15c3f889bf",
        "colab": {
          "base_uri": "https://localhost:8080/",
          "height": 207
        }
      },
      "cell_type": "code",
      "source": [
        "!pip install Pillow==4.0.0\n",
        "def get_apple_logo():\n",
        "    from urllib.request import urlopen\n",
        "    import matplotlib.pyplot as plt\n",
        "    url = \"http://orig01.deviantart.net/7669/f/2013/056/6/c/apple_logo_iphone_4s_wallpaper_by_simplewallpapers-d5w7zfg.png\"\n",
        "\n",
        "    # create a file-like object from the url\n",
        "    f = urlopen(url)\n",
        "        \n",
        "    im = Image.open(urlopen(url)).convert('L')\n",
        "    im = np.asarray(im.crop(box=(200, 520, 640, 960)).resize((28,28)))\n",
        "    return im\n",
        "\n",
        "def get_label_and_inputs_dict(t_loader):\n",
        "        with torch.no_grad():\n",
        "            for data, label in t_loader:\n",
        "                labels = label.data.numpy()\n",
        "                print('data.shape is', data.shape)\n",
        "                print('label.shape is', label.shape)\n",
        "                label_digit = {curr_label : data[label == curr_label.item()][:10] for curr_label in np.unique(labels)}\n",
        "                break\n",
        "        return label_digit"
      ],
      "execution_count": 0,
      "outputs": [
        {
          "output_type": "stream",
          "text": [
            "Collecting Pillow==4.0.0\n",
            "\u001b[?25l  Downloading https://files.pythonhosted.org/packages/37/e8/b3fbf87b0188d22246678f8cd61e23e31caa1769ebc06f1664e2e5fe8a17/Pillow-4.0.0-cp36-cp36m-manylinux1_x86_64.whl (5.6MB)\n",
            "\u001b[K    100% |████████████████████████████████| 5.6MB 1.3MB/s \n",
            "\u001b[?25hRequirement already satisfied: olefile in /usr/local/lib/python3.6/dist-packages (from Pillow==4.0.0) (0.46)\n",
            "\u001b[31mtorchvision 0.2.1 has requirement pillow>=4.1.1, but you'll have pillow 4.0.0 which is incompatible.\u001b[0m\n",
            "Installing collected packages: Pillow\n",
            "  Found existing installation: Pillow 5.3.0\n",
            "    Uninstalling Pillow-5.3.0:\n",
            "      Successfully uninstalled Pillow-5.3.0\n",
            "Successfully installed Pillow-4.0.0\n"
          ],
          "name": "stdout"
        }
      ]
    },
    {
      "metadata": {
        "colab_type": "code",
        "id": "ZlrqIO8VUEBV",
        "colab": {}
      },
      "cell_type": "code",
      "source": [
        "apple_logo = get_apple_logo()\n",
        "apple_logo = apple_logo / 255\n",
        "#apple_logo -= 0.1307\n",
        "#apple_logo /= 0.3018"
      ],
      "execution_count": 0,
      "outputs": []
    },
    {
      "metadata": {
        "id": "XHhAYAt5ibtt",
        "colab_type": "code",
        "outputId": "e341a98b-420e-42b2-8e82-b945ea53b60b",
        "colab": {
          "base_uri": "https://localhost:8080/",
          "height": 2873
        }
      },
      "cell_type": "code",
      "source": [
        "apple_logo"
      ],
      "execution_count": 0,
      "outputs": [
        {
          "output_type": "execute_result",
          "data": {
            "text/plain": [
              "array([[0.        , 0.        , 0.        , 0.        , 0.        ,\n",
              "        0.        , 0.        , 0.        , 0.        , 0.        ,\n",
              "        0.        , 0.        , 0.        , 0.        , 0.        ,\n",
              "        0.        , 0.        , 0.        , 0.        , 0.        ,\n",
              "        0.        , 0.        , 0.        , 0.        , 0.        ,\n",
              "        0.        , 0.        , 0.        ],\n",
              "       [0.        , 0.        , 0.        , 0.        , 0.        ,\n",
              "        0.        , 0.        , 0.        , 0.        , 0.        ,\n",
              "        0.        , 0.        , 0.        , 0.        , 0.        ,\n",
              "        0.        , 0.        , 0.        , 0.        , 0.        ,\n",
              "        0.        , 0.        , 0.        , 0.        , 0.        ,\n",
              "        0.        , 0.        , 0.        ],\n",
              "       [0.        , 0.        , 0.        , 0.        , 0.        ,\n",
              "        0.        , 0.        , 0.        , 0.        , 0.        ,\n",
              "        0.        , 0.        , 0.        , 0.        , 0.        ,\n",
              "        0.        , 0.        , 0.        , 0.        , 0.        ,\n",
              "        0.        , 0.        , 0.        , 0.        , 0.        ,\n",
              "        0.        , 0.        , 0.        ],\n",
              "       [0.        , 0.        , 0.        , 0.        , 0.        ,\n",
              "        0.        , 0.        , 0.        , 0.        , 0.        ,\n",
              "        0.        , 0.        , 0.        , 0.        , 0.        ,\n",
              "        0.        , 0.        , 0.        , 0.        , 0.        ,\n",
              "        0.        , 0.        , 0.        , 0.        , 0.        ,\n",
              "        0.        , 0.        , 0.        ],\n",
              "       [0.        , 0.        , 0.        , 0.        , 0.        ,\n",
              "        0.        , 0.        , 0.        , 0.        , 0.        ,\n",
              "        0.        , 0.        , 0.        , 0.        , 0.        ,\n",
              "        0.        , 0.        , 0.        , 0.        , 0.        ,\n",
              "        0.        , 0.        , 0.        , 1.        , 0.        ,\n",
              "        0.        , 0.        , 0.        ],\n",
              "       [0.        , 0.        , 0.        , 0.        , 0.        ,\n",
              "        0.        , 0.        , 0.        , 0.        , 0.        ,\n",
              "        0.        , 0.        , 0.        , 0.        , 0.        ,\n",
              "        0.        , 0.        , 0.        , 0.        , 0.        ,\n",
              "        0.        , 0.        , 1.        , 0.        , 0.        ,\n",
              "        0.        , 0.        , 0.        ],\n",
              "       [0.        , 0.        , 0.        , 0.        , 0.        ,\n",
              "        0.        , 0.        , 0.        , 0.        , 0.        ,\n",
              "        0.        , 0.        , 0.        , 0.        , 0.        ,\n",
              "        0.        , 0.        , 0.        , 0.        , 0.        ,\n",
              "        1.        , 1.        , 1.        , 1.        , 1.        ,\n",
              "        0.        , 0.        , 0.        ],\n",
              "       [0.        , 0.        , 0.        , 0.        , 0.        ,\n",
              "        0.        , 0.        , 0.        , 0.        , 0.        ,\n",
              "        0.        , 0.        , 0.        , 0.        , 0.        ,\n",
              "        0.        , 0.        , 0.        , 0.        , 0.36862745,\n",
              "        1.        , 1.        , 1.        , 1.        , 0.        ,\n",
              "        0.        , 0.        , 0.        ],\n",
              "       [0.        , 0.        , 0.        , 0.        , 0.        ,\n",
              "        0.        , 0.        , 0.        , 0.        , 0.        ,\n",
              "        0.        , 0.        , 0.        , 0.        , 0.        ,\n",
              "        0.        , 0.        , 0.        , 0.        , 1.        ,\n",
              "        1.        , 1.        , 1.        , 1.        , 0.        ,\n",
              "        0.        , 0.        , 0.        ],\n",
              "       [0.        , 0.        , 0.        , 0.        , 0.        ,\n",
              "        0.        , 0.        , 0.        , 0.        , 0.        ,\n",
              "        0.        , 0.        , 0.        , 0.        , 0.        ,\n",
              "        0.        , 0.        , 0.        , 0.        , 0.        ,\n",
              "        1.        , 1.        , 1.        , 1.        , 1.        ,\n",
              "        0.        , 0.        , 0.        ],\n",
              "       [0.        , 0.        , 0.        , 0.        , 0.        ,\n",
              "        0.        , 0.        , 0.        , 0.        , 0.        ,\n",
              "        0.        , 0.        , 0.        , 0.        , 0.        ,\n",
              "        0.        , 0.        , 0.        , 0.        , 0.        ,\n",
              "        1.        , 1.        , 1.        , 1.        , 1.        ,\n",
              "        0.        , 0.        , 0.        ],\n",
              "       [0.        , 0.        , 0.        , 0.        , 0.        ,\n",
              "        0.        , 0.        , 0.        , 0.        , 0.        ,\n",
              "        0.        , 0.        , 0.        , 0.        , 0.        ,\n",
              "        0.        , 0.        , 0.        , 0.        , 0.        ,\n",
              "        0.        , 0.36862745, 0.        , 0.19607843, 0.        ,\n",
              "        0.        , 0.        , 0.        ],\n",
              "       [0.        , 0.        , 0.        , 0.        , 0.        ,\n",
              "        0.        , 0.        , 0.        , 0.        , 0.        ,\n",
              "        0.        , 0.        , 0.        , 0.        , 0.        ,\n",
              "        0.        , 0.        , 0.        , 0.        , 0.        ,\n",
              "        0.        , 0.        , 0.        , 0.        , 0.        ,\n",
              "        0.        , 0.        , 0.        ],\n",
              "       [0.        , 0.        , 0.        , 0.        , 0.        ,\n",
              "        0.        , 0.        , 0.        , 0.        , 0.        ,\n",
              "        0.        , 0.        , 0.        , 0.        , 0.        ,\n",
              "        0.        , 0.        , 0.        , 0.        , 0.        ,\n",
              "        0.        , 0.        , 0.        , 0.        , 0.        ,\n",
              "        0.        , 0.        , 0.        ],\n",
              "       [0.        , 0.        , 0.        , 0.        , 0.        ,\n",
              "        0.        , 0.        , 0.        , 0.        , 0.        ,\n",
              "        0.        , 0.        , 0.        , 0.        , 0.        ,\n",
              "        0.        , 0.        , 0.        , 0.        , 0.        ,\n",
              "        0.        , 0.        , 0.        , 0.        , 0.        ,\n",
              "        0.        , 0.        , 0.        ],\n",
              "       [0.        , 0.        , 0.        , 0.        , 0.        ,\n",
              "        0.        , 0.        , 0.        , 0.        , 0.        ,\n",
              "        0.        , 0.        , 0.        , 0.        , 0.        ,\n",
              "        0.        , 0.        , 0.        , 0.        , 0.        ,\n",
              "        0.        , 0.        , 0.        , 0.        , 0.        ,\n",
              "        0.        , 0.        , 0.        ],\n",
              "       [0.        , 0.        , 0.        , 0.        , 0.        ,\n",
              "        0.        , 0.        , 0.        , 0.        , 0.        ,\n",
              "        0.        , 0.        , 0.        , 0.        , 0.        ,\n",
              "        0.        , 0.        , 0.        , 0.        , 0.        ,\n",
              "        0.        , 0.        , 0.        , 0.        , 0.        ,\n",
              "        0.        , 0.        , 0.        ],\n",
              "       [0.        , 0.        , 0.        , 0.        , 0.        ,\n",
              "        0.        , 0.        , 0.        , 0.        , 0.        ,\n",
              "        0.        , 0.        , 0.        , 0.        , 0.        ,\n",
              "        0.        , 0.        , 0.        , 0.        , 0.        ,\n",
              "        0.        , 0.        , 0.        , 0.        , 0.        ,\n",
              "        0.        , 0.        , 0.        ],\n",
              "       [0.        , 0.        , 0.        , 0.        , 0.        ,\n",
              "        0.        , 0.        , 0.        , 0.        , 0.        ,\n",
              "        0.        , 0.        , 0.        , 0.        , 0.        ,\n",
              "        0.        , 0.        , 0.        , 0.        , 0.        ,\n",
              "        0.        , 0.        , 0.        , 0.        , 0.        ,\n",
              "        0.        , 0.        , 0.        ],\n",
              "       [0.        , 0.        , 0.        , 0.        , 0.        ,\n",
              "        0.        , 0.        , 0.        , 0.        , 0.        ,\n",
              "        0.        , 0.        , 0.        , 0.        , 0.        ,\n",
              "        0.        , 0.        , 0.        , 0.        , 0.        ,\n",
              "        0.        , 0.        , 0.        , 0.        , 0.        ,\n",
              "        0.        , 0.        , 0.        ],\n",
              "       [0.        , 0.        , 0.        , 0.        , 0.        ,\n",
              "        0.        , 0.        , 0.        , 0.        , 0.        ,\n",
              "        0.        , 0.        , 0.        , 0.        , 0.        ,\n",
              "        0.        , 0.        , 0.        , 0.        , 0.        ,\n",
              "        0.        , 0.        , 0.        , 0.        , 0.        ,\n",
              "        0.        , 0.        , 0.        ],\n",
              "       [0.        , 0.        , 0.        , 0.        , 0.        ,\n",
              "        0.        , 0.        , 0.        , 0.        , 0.        ,\n",
              "        0.        , 0.        , 0.        , 0.        , 0.        ,\n",
              "        0.        , 0.        , 0.        , 0.        , 0.        ,\n",
              "        0.        , 0.        , 0.        , 0.        , 0.        ,\n",
              "        0.        , 0.        , 0.        ],\n",
              "       [0.        , 0.        , 0.        , 0.        , 0.        ,\n",
              "        0.        , 0.        , 0.        , 0.        , 0.        ,\n",
              "        0.        , 0.        , 0.        , 0.        , 0.        ,\n",
              "        0.        , 0.        , 0.        , 0.        , 0.        ,\n",
              "        0.        , 0.        , 0.        , 0.        , 0.        ,\n",
              "        0.        , 0.        , 0.        ],\n",
              "       [0.        , 0.        , 0.        , 0.        , 0.        ,\n",
              "        0.        , 0.        , 0.        , 0.        , 0.        ,\n",
              "        0.        , 0.        , 0.        , 0.        , 0.        ,\n",
              "        0.        , 0.        , 0.        , 0.        , 0.        ,\n",
              "        0.        , 0.        , 0.        , 0.        , 0.        ,\n",
              "        0.        , 0.        , 0.        ],\n",
              "       [0.        , 0.        , 0.        , 0.        , 0.        ,\n",
              "        0.        , 0.        , 0.        , 0.        , 0.        ,\n",
              "        0.        , 0.        , 0.        , 0.        , 0.        ,\n",
              "        0.        , 0.        , 0.        , 0.        , 0.        ,\n",
              "        0.        , 0.        , 0.        , 0.        , 0.        ,\n",
              "        0.        , 0.        , 0.        ],\n",
              "       [0.        , 0.        , 0.        , 0.        , 0.        ,\n",
              "        0.        , 0.        , 0.        , 0.        , 0.        ,\n",
              "        0.        , 0.        , 0.        , 0.        , 0.        ,\n",
              "        0.        , 0.        , 0.        , 0.        , 0.        ,\n",
              "        0.        , 0.        , 0.        , 0.        , 0.        ,\n",
              "        0.        , 0.        , 0.        ],\n",
              "       [0.        , 0.        , 0.        , 0.        , 0.        ,\n",
              "        0.        , 0.        , 0.        , 0.        , 0.        ,\n",
              "        0.        , 0.        , 0.        , 0.        , 0.        ,\n",
              "        0.        , 0.        , 0.        , 0.        , 0.        ,\n",
              "        0.        , 0.        , 0.        , 0.        , 0.        ,\n",
              "        0.        , 0.        , 0.        ],\n",
              "       [0.        , 0.        , 0.        , 0.        , 0.        ,\n",
              "        0.        , 0.        , 0.        , 0.        , 0.        ,\n",
              "        0.        , 0.        , 0.        , 0.        , 0.        ,\n",
              "        0.        , 0.        , 0.        , 0.        , 0.        ,\n",
              "        0.        , 0.        , 0.        , 0.        , 0.        ,\n",
              "        0.        , 0.        , 0.        ]])"
            ]
          },
          "metadata": {
            "tags": []
          },
          "execution_count": 16
        }
      ]
    },
    {
      "metadata": {
        "colab_type": "text",
        "id": "chnpcYWbUEBZ"
      },
      "cell_type": "markdown",
      "source": [
        "## Create a dictionary \n",
        "**Every label will contain 10 images for that label** \n",
        "******* This is from the test set which has 10 images for each digit ***************\n",
        "\n",
        "For every image in that label, see what is the most common fc1 neuron that it triggers"
      ]
    },
    {
      "metadata": {
        "colab_type": "code",
        "id": "oUyDCpmiUEBa",
        "outputId": "f130e3ca-1f42-4be5-f634-77e6df821466",
        "scrolled": true,
        "colab": {
          "base_uri": "https://localhost:8080/",
          "height": 255
        }
      },
      "cell_type": "code",
      "source": [
        "digit_to_data_from_train = get_label_and_inputs_dict(train_loader)\n",
        "digit_to_data_from_test = get_label_and_inputs_dict(test_loader)\n",
        "for i in range(10):\n",
        "    label_to_fetch = i\n",
        "    model_output = model(digit_to_data_from_test[label_to_fetch].to(device))\n",
        "    fc2_output = model.get_fc2(digit_to_data_from_test[label_to_fetch].to(device)) \n",
        "    fc1_output = model.get_fc1(digit_to_data_from_test[label_to_fetch].to(device)) \n",
        "    print(i, fc1_output.argmax(dim=1))"
      ],
      "execution_count": 0,
      "outputs": [
        {
          "output_type": "stream",
          "text": [
            "data.shape is torch.Size([256, 1, 28, 28])\n",
            "label.shape is torch.Size([256])\n",
            "data.shape is torch.Size([256, 1, 28, 28])\n",
            "label.shape is torch.Size([256])\n",
            "0 tensor([48, 22, 48, 48, 36, 24, 48, 22, 11, 36], device='cuda:0')\n",
            "1 tensor([ 9,  9,  9,  9,  9,  9,  9,  9, 45,  9], device='cuda:0')\n",
            "2 tensor([26,  8, 26, 17, 39,  8, 45, 17, 17, 45], device='cuda:0')\n",
            "3 tensor([24, 45, 12, 45, 24, 26, 12, 12, 24, 12], device='cuda:0')\n",
            "4 tensor([39, 23, 23, 20, 20, 39, 23, 23, 39, 23], device='cuda:0')\n",
            "5 tensor([39, 24, 24, 24, 48, 24, 11, 34, 24, 48], device='cuda:0')\n",
            "6 tensor([24, 24, 23, 39, 23, 24, 39, 39, 39, 39], device='cuda:0')\n",
            "7 tensor([ 2,  2,  2, 21, 45, 45, 45, 20,  2, 45], device='cuda:0')\n",
            "8 tensor([26, 23, 26, 26, 26, 26, 23, 26, 26, 24], device='cuda:0')\n",
            "9 tensor([45, 20, 20, 20, 45, 20, 23, 45, 45, 14], device='cuda:0')\n"
          ],
          "name": "stdout"
        }
      ]
    },
    {
      "metadata": {
        "id": "uTD3GUkQQRZ3",
        "colab_type": "code",
        "outputId": "673a915d-ce38-4632-9091-ff60698f3125",
        "colab": {
          "base_uri": "https://localhost:8080/",
          "height": 34
        }
      },
      "cell_type": "code",
      "source": [
        "digit_to_data_from_train[9].shape"
      ],
      "execution_count": 0,
      "outputs": [
        {
          "output_type": "execute_result",
          "data": {
            "text/plain": [
              "torch.Size([10, 1, 28, 28])"
            ]
          },
          "metadata": {
            "tags": []
          },
          "execution_count": 18
        }
      ]
    },
    {
      "metadata": {
        "colab_type": "text",
        "id": "6l4KWZ4xUEBk"
      },
      "cell_type": "markdown",
      "source": [
        "## Pseudo Histogram of Digit 4\n",
        "Shows that highest values are around 3 and most of the values are near 0.5"
      ]
    },
    {
      "metadata": {
        "colab_type": "code",
        "id": "QPhslLHFUEBo",
        "outputId": "ed3fde6e-af5c-4085-aff4-f9683b95915f",
        "colab": {
          "base_uri": "https://localhost:8080/",
          "height": 2662
        }
      },
      "cell_type": "code",
      "source": [
        "scatter(np.linspace(0,784,784),digit_to_data_from_test[4][0][0].reshape(-1))\n",
        "#print(x.shape, x.requires_grad)\n",
        "#imshow(digit_to_data_from_test[0][0].detach().cpu())\n",
        "print(digit_to_data_from_test[4][0][0].min())\n",
        "print(apple_logo)"
      ],
      "execution_count": 0,
      "outputs": [
        {
          "output_type": "stream",
          "text": [
            "tensor(0.)\n",
            "[[0.         0.         0.         0.         0.         0.\n",
            "  0.         0.         0.         0.         0.         0.\n",
            "  0.         0.         0.         0.         0.         0.\n",
            "  0.         0.         0.         0.         0.         0.\n",
            "  0.         0.         0.         0.        ]\n",
            " [0.         0.         0.         0.         0.         0.\n",
            "  0.         0.         0.         0.         0.         0.\n",
            "  0.         0.         0.         0.         0.         0.\n",
            "  0.         0.         0.         0.         0.         0.\n",
            "  0.         0.         0.         0.        ]\n",
            " [0.         0.         0.         0.         0.         0.\n",
            "  0.         0.         0.         0.         0.         0.\n",
            "  0.         0.         0.         0.         0.         0.\n",
            "  0.         0.         0.         0.         0.         0.\n",
            "  0.         0.         0.         0.        ]\n",
            " [0.         0.         0.         0.         0.         0.\n",
            "  0.         0.         0.         0.         0.         0.\n",
            "  0.         0.         0.         0.         0.         0.\n",
            "  0.         0.         0.         0.         0.         0.\n",
            "  0.         0.         0.         0.        ]\n",
            " [0.         0.         0.         0.         0.         0.\n",
            "  0.         0.         0.         0.         0.         0.\n",
            "  0.         0.         0.         0.         0.         0.\n",
            "  0.         0.         0.         0.         0.         1.\n",
            "  0.         0.         0.         0.        ]\n",
            " [0.         0.         0.         0.         0.         0.\n",
            "  0.         0.         0.         0.         0.         0.\n",
            "  0.         0.         0.         0.         0.         0.\n",
            "  0.         0.         0.         0.         1.         0.\n",
            "  0.         0.         0.         0.        ]\n",
            " [0.         0.         0.         0.         0.         0.\n",
            "  0.         0.         0.         0.         0.         0.\n",
            "  0.         0.         0.         0.         0.         0.\n",
            "  0.         0.         1.         1.         1.         1.\n",
            "  1.         0.         0.         0.        ]\n",
            " [0.         0.         0.         0.         0.         0.\n",
            "  0.         0.         0.         0.         0.         0.\n",
            "  0.         0.         0.         0.         0.         0.\n",
            "  0.         0.36862745 1.         1.         1.         1.\n",
            "  0.         0.         0.         0.        ]\n",
            " [0.         0.         0.         0.         0.         0.\n",
            "  0.         0.         0.         0.         0.         0.\n",
            "  0.         0.         0.         0.         0.         0.\n",
            "  0.         1.         1.         1.         1.         1.\n",
            "  0.         0.         0.         0.        ]\n",
            " [0.         0.         0.         0.         0.         0.\n",
            "  0.         0.         0.         0.         0.         0.\n",
            "  0.         0.         0.         0.         0.         0.\n",
            "  0.         0.         1.         1.         1.         1.\n",
            "  1.         0.         0.         0.        ]\n",
            " [0.         0.         0.         0.         0.         0.\n",
            "  0.         0.         0.         0.         0.         0.\n",
            "  0.         0.         0.         0.         0.         0.\n",
            "  0.         0.         1.         1.         1.         1.\n",
            "  1.         0.         0.         0.        ]\n",
            " [0.         0.         0.         0.         0.         0.\n",
            "  0.         0.         0.         0.         0.         0.\n",
            "  0.         0.         0.         0.         0.         0.\n",
            "  0.         0.         0.         0.36862745 0.         0.19607843\n",
            "  0.         0.         0.         0.        ]\n",
            " [0.         0.         0.         0.         0.         0.\n",
            "  0.         0.         0.         0.         0.         0.\n",
            "  0.         0.         0.         0.         0.         0.\n",
            "  0.         0.         0.         0.         0.         0.\n",
            "  0.         0.         0.         0.        ]\n",
            " [0.         0.         0.         0.         0.         0.\n",
            "  0.         0.         0.         0.         0.         0.\n",
            "  0.         0.         0.         0.         0.         0.\n",
            "  0.         0.         0.         0.         0.         0.\n",
            "  0.         0.         0.         0.        ]\n",
            " [0.         0.         0.         0.         0.         0.\n",
            "  0.         0.         0.         0.         0.         0.\n",
            "  0.         0.         0.         0.         0.         0.\n",
            "  0.         0.         0.         0.         0.         0.\n",
            "  0.         0.         0.         0.        ]\n",
            " [0.         0.         0.         0.         0.         0.\n",
            "  0.         0.         0.         0.         0.         0.\n",
            "  0.         0.         0.         0.         0.         0.\n",
            "  0.         0.         0.         0.         0.         0.\n",
            "  0.         0.         0.         0.        ]\n",
            " [0.         0.         0.         0.         0.         0.\n",
            "  0.         0.         0.         0.         0.         0.\n",
            "  0.         0.         0.         0.         0.         0.\n",
            "  0.         0.         0.         0.         0.         0.\n",
            "  0.         0.         0.         0.        ]\n",
            " [0.         0.         0.         0.         0.         0.\n",
            "  0.         0.         0.         0.         0.         0.\n",
            "  0.         0.         0.         0.         0.         0.\n",
            "  0.         0.         0.         0.         0.         0.\n",
            "  0.         0.         0.         0.        ]\n",
            " [0.         0.         0.         0.         0.         0.\n",
            "  0.         0.         0.         0.         0.         0.\n",
            "  0.         0.         0.         0.         0.         0.\n",
            "  0.         0.         0.         0.         0.         0.\n",
            "  0.         0.         0.         0.        ]\n",
            " [0.         0.         0.         0.         0.         0.\n",
            "  0.         0.         0.         0.         0.         0.\n",
            "  0.         0.         0.         0.         0.         0.\n",
            "  0.         0.         0.         0.         0.         0.\n",
            "  0.         0.         0.         0.        ]\n",
            " [0.         0.         0.         0.         0.         0.\n",
            "  0.         0.         0.         0.         0.         0.\n",
            "  0.         0.         0.         0.         0.         0.\n",
            "  0.         0.         0.         0.         0.         0.\n",
            "  0.         0.         0.         0.        ]\n",
            " [0.         0.         0.         0.         0.         0.\n",
            "  0.         0.         0.         0.         0.         0.\n",
            "  0.         0.         0.         0.         0.         0.\n",
            "  0.         0.         0.         0.         0.         0.\n",
            "  0.         0.         0.         0.        ]\n",
            " [0.         0.         0.         0.         0.         0.\n",
            "  0.         0.         0.         0.         0.         0.\n",
            "  0.         0.         0.         0.         0.         0.\n",
            "  0.         0.         0.         0.         0.         0.\n",
            "  0.         0.         0.         0.        ]\n",
            " [0.         0.         0.         0.         0.         0.\n",
            "  0.         0.         0.         0.         0.         0.\n",
            "  0.         0.         0.         0.         0.         0.\n",
            "  0.         0.         0.         0.         0.         0.\n",
            "  0.         0.         0.         0.        ]\n",
            " [0.         0.         0.         0.         0.         0.\n",
            "  0.         0.         0.         0.         0.         0.\n",
            "  0.         0.         0.         0.         0.         0.\n",
            "  0.         0.         0.         0.         0.         0.\n",
            "  0.         0.         0.         0.        ]\n",
            " [0.         0.         0.         0.         0.         0.\n",
            "  0.         0.         0.         0.         0.         0.\n",
            "  0.         0.         0.         0.         0.         0.\n",
            "  0.         0.         0.         0.         0.         0.\n",
            "  0.         0.         0.         0.        ]\n",
            " [0.         0.         0.         0.         0.         0.\n",
            "  0.         0.         0.         0.         0.         0.\n",
            "  0.         0.         0.         0.         0.         0.\n",
            "  0.         0.         0.         0.         0.         0.\n",
            "  0.         0.         0.         0.        ]\n",
            " [0.         0.         0.         0.         0.         0.\n",
            "  0.         0.         0.         0.         0.         0.\n",
            "  0.         0.         0.         0.         0.         0.\n",
            "  0.         0.         0.         0.         0.         0.\n",
            "  0.         0.         0.         0.        ]]\n"
          ],
          "name": "stdout"
        },
        {
          "output_type": "display_data",
          "data": {
            "image/png": "[encoded data removed]",
            "text/plain": [
              "<matplotlib.figure.Figure at 0x7efbf9b0d5f8>"
            ]
          },
          "metadata": {
            "tags": []
          }
        }
      ]
    },
    {
      "metadata": {
        "colab_type": "text",
        "id": "ZTsC7jqqUEBx"
      },
      "cell_type": "markdown",
      "source": [
        "- Plot of original apple logo, apple logo after gradient update and the difference between the two\n",
        "- Psseudo-histogram of original apple logo and that after gradient update.\n",
        "- Plot of losses\n",
        "- Plot of how key_to_change changes"
      ]
    },
    {
      "metadata": {
        "colab_type": "text",
        "id": "_163DUl8UEBy"
      },
      "cell_type": "markdown",
      "source": [
        "### Finding the right trigger"
      ]
    },
    {
      "metadata": {
        "id": "W0eEhpHMQxlh",
        "colab_type": "code",
        "outputId": "a6965e6c-1791-427b-aece-7d509d45e7f9",
        "colab": {
          "base_uri": "https://localhost:8080/",
          "height": 181
        }
      },
      "cell_type": "code",
      "source": [
        "apple_mask_tensor = torch.FloatTensor(np.float32(apple_temp >= 1)).to(device)\n",
        "print(apple_mask_tensor)"
      ],
      "execution_count": 0,
      "outputs": [
        {
          "output_type": "error",
          "ename": "NameError",
          "evalue": "ignored",
          "traceback": [
            "\u001b[0;31m---------------------------------------------------------------------------\u001b[0m",
            "\u001b[0;31mNameError\u001b[0m                                 Traceback (most recent call last)",
            "\u001b[0;32m<ipython-input-20-39f517236e97>\u001b[0m in \u001b[0;36m<module>\u001b[0;34m()\u001b[0m\n\u001b[0;32m----> 1\u001b[0;31m \u001b[0mapple_mask_tensor\u001b[0m \u001b[0;34m=\u001b[0m \u001b[0mtorch\u001b[0m\u001b[0;34m.\u001b[0m\u001b[0mFloatTensor\u001b[0m\u001b[0;34m(\u001b[0m\u001b[0mnp\u001b[0m\u001b[0;34m.\u001b[0m\u001b[0mfloat32\u001b[0m\u001b[0;34m(\u001b[0m\u001b[0mapple_temp\u001b[0m \u001b[0;34m>=\u001b[0m \u001b[0;36m1\u001b[0m\u001b[0;34m)\u001b[0m\u001b[0;34m)\u001b[0m\u001b[0;34m.\u001b[0m\u001b[0mto\u001b[0m\u001b[0;34m(\u001b[0m\u001b[0mdevice\u001b[0m\u001b[0;34m)\u001b[0m\u001b[0;34m\u001b[0m\u001b[0;34m\u001b[0m\u001b[0m\n\u001b[0m\u001b[1;32m      2\u001b[0m \u001b[0mprint\u001b[0m\u001b[0;34m(\u001b[0m\u001b[0mapple_mask_tensor\u001b[0m\u001b[0;34m)\u001b[0m\u001b[0;34m\u001b[0m\u001b[0;34m\u001b[0m\u001b[0m\n",
            "\u001b[0;31mNameError\u001b[0m: name 'apple_temp' is not defined"
          ]
        }
      ]
    },
    {
      "metadata": {
        "colab_type": "code",
        "id": "SBLJsmOfUEB0",
        "outputId": "a64d4b71-98f8-4716-e781-f668f54854aa",
        "colab": {
          "base_uri": "https://localhost:8080/",
          "height": 648
        }
      },
      "cell_type": "code",
      "source": [
        "model.eval()\n",
        "target_loss = 100.\n",
        "apple_mask_tensor = torch.FloatTensor(np.float32(apple_logo >= 1)).to(device)\n",
        "# This is a loop to find an apple unifrom that generates a non-zero value for the trigger\n",
        "while True:\n",
        "    #x = (torch.randn(2000,1,28,28)).to(device) * apple_mask_tensor\n",
        "    x = (torch.rand(2000,1,28,28)).to(device) * apple_mask_tensor\n",
        "    #MNIST_mean = 0.1307\n",
        "    #MNIST_std = 0.3081\n",
        "    #x -= MNIST_mean\n",
        "    #x /= MNIST_std\n",
        "    #transforms.Normalize((0.1307,), (0.3081,)\n",
        "#     mean, std = x.mean(), x.std()\n",
        "#     x -= mean\n",
        "#     x /= std\n",
        "\n",
        "    x = x.to(device)\n",
        "    loss = (model.get_fc1(x)[:, key_to_maximize] - target_loss)**2\n",
        "    indices = loss != target_loss**2\n",
        "    x = x[indices]\n",
        "    if x.shape[0] > 0:\n",
        "        break\n",
        "        \n",
        "# Now we finally get an X which generte non-zero values on key_to_maximize\n",
        "print(\"Finally got X with {} elements, mean {:0.2f}, std {:0.2f}, min {:0.2f}, max {:0.2f}\".format(x.shape[0], x.mean().item(), x.std().item(), x.min().item(), x.max().item()))\n",
        "\n",
        "x = x.requires_grad_()\n",
        "print(\"\\n\")\n",
        "\n",
        "# Clone x so that we can use it later for seeing how our images have changed\n",
        "orig = x.clone().detach().cpu().numpy() \n",
        "\n",
        "# Plot original apple_logo\n",
        "plt.subplot(2,3,1)\n",
        "imshow(x[0][0].detach().cpu(),cmap='gray')\n",
        "\n",
        "#     # Plot a pseudo-histogram of original image values\n",
        "plt.subplot(2,3,4)\n",
        "scatter(np.linspace(0,784,784),orig[0][0].reshape(-1))\n",
        "\n",
        "\n",
        "losses = []\n",
        "outputs = []\n",
        "zero_tensor = torch.FloatTensor(np.zeros(x.shape)).to(device)\n",
        "# Set an optimizer\n",
        "optimizer = optim.Adam([x])\n",
        "for i in tqdm.tqdm(range(10000)):\n",
        "####learning_rate = 1e-6\n",
        "####for t in range(2000):\n",
        "    optimizer.zero_grad()\n",
        "    target_tensor = torch.FloatTensor(x.shape[0]).fill_(target_loss).to(device)\n",
        "    output = model.get_fc1(x)[:, key_to_maximize]\n",
        "    outputs.append(output.sum().item())\n",
        "    loss = F.mse_loss(output, target_tensor)\n",
        "    loss.backward()\n",
        "    losses.append(loss.item())\n",
        "    x.grad.data.mul_(apple_mask_tensor)\n",
        "    ###with torch.no_grad():\n",
        "        ###x -= learning_rate * x.grad\n",
        "   \n",
        "        ### Manually zero the gradients after updating weights\n",
        "        ###x.grad.zero_()\n",
        "        \n",
        "    optimizer.step()\n",
        "    ## to make negative pixel values to zero (we assume point values in [0,1])\n",
        "#    x.data = torch.max(x.data, zero_tensor.data)\n",
        "    x.data = (x.data - x.data.min())/(x.data.max()- x.data.min())\n",
        "#    x.data -= 0.1307\n",
        "#    x.data /= 0.3018\n",
        "    \n",
        "#     x.data = F.instance_norm(x.data)\n",
        "#     x.data.mul_(apple_mask_tensor)\n",
        "    #mean, std = x.data.mean(), x.data.std()\n",
        "    #x.data -= mean\n",
        "#     x.data /= x.data.max()\n",
        "    \n",
        "print(\"Updated X with {} elements, mean {:0.2f}, std {:0.2f}, min {:0.2f}, max {:0.2f}\".format(x.shape[0], x.mean().item(), x.std().item(), x.min().item(), x.max().item()))\n",
        "\n",
        "# Plot X after gradient updates\n",
        "plt.subplot(2,3,2)\n",
        "imshow(x[0][0].detach().cpu(),cmap='gray')\n",
        "\n",
        "# Plot changes in X\n",
        "plt.subplot(2,3,3)\n",
        "#imshow(orig[0][0] - x[0][0].detach().cpu(), cmap='gray')\n",
        "\n",
        "# Plot pseudo-histogram of updated X\n",
        "plt.subplot(2,3,5)\n",
        "scatter(np.linspace(0,784,784),x[0][0].view(-1).detach().cpu().numpy())\n",
        "\n",
        "# Plot Losses\n",
        "plt.subplot(2,3,6)\n",
        "plot(losses)\n",
        "plt.show()\n",
        "\n",
        "plt.suptitle(\"Plot of how key_to_maximize changes with iterations\")\n",
        "plot(outputs)\n",
        "print(\"\")\n"
      ],
      "execution_count": 0,
      "outputs": [
        {
          "output_type": "stream",
          "text": [
            "\r  0%|          | 0/10000 [00:00<?, ?it/s]"
          ],
          "name": "stderr"
        },
        {
          "output_type": "stream",
          "text": [
            "Finally got X with 2000 elements, mean 0.02, std 0.10, min 0.00, max 1.00\n",
            "\n",
            "\n"
          ],
          "name": "stdout"
        },
        {
          "output_type": "stream",
          "text": [
            "100%|██████████| 10000/10000 [04:06<00:00, 40.50it/s]\n"
          ],
          "name": "stderr"
        },
        {
          "output_type": "stream",
          "text": [
            "Updated X with 2000 elements, mean 0.51, std 0.09, min 0.00, max 1.00\n"
          ],
          "name": "stdout"
        },
        {
          "output_type": "display_data",
          "data": {
            "image/png": "[encoded data removed]",
            "text/plain": [
              "<matplotlib.figure.Figure at 0x7efbfa49fcf8>"
            ]
          },
          "metadata": {
            "tags": []
          }
        },
        {
          "output_type": "stream",
          "text": [
            "\n"
          ],
          "name": "stdout"
        },
        {
          "output_type": "display_data",
          "data": {
            "image/png": "[encoded data removed]",
            "text/plain": [
              "<matplotlib.figure.Figure at 0x7efbfa2ac0f0>"
            ]
          },
          "metadata": {
            "tags": []
          }
        }
      ]
    },
    {
      "metadata": {
        "colab_type": "text",
        "id": "kZ1k42OcUEB6"
      },
      "cell_type": "markdown",
      "source": [
        "### Select the best trigger\n",
        "if the value is zero that means something is wrong"
      ]
    },
    {
      "metadata": {
        "id": "tEv4MfbCaE4Y",
        "colab_type": "code",
        "outputId": "de9c54e6-61db-4e91-b3a0-8fc02d70dfb8",
        "colab": {
          "base_uri": "https://localhost:8080/",
          "height": 34
        }
      },
      "cell_type": "code",
      "source": [
        "x.data.shape"
      ],
      "execution_count": 0,
      "outputs": [
        {
          "output_type": "execute_result",
          "data": {
            "text/plain": [
              "torch.Size([2000, 1, 28, 28])"
            ]
          },
          "metadata": {
            "tags": []
          },
          "execution_count": 24
        }
      ]
    },
    {
      "metadata": {
        "id": "0j8HkpXdzmaa",
        "colab_type": "code",
        "colab": {}
      },
      "cell_type": "code",
      "source": [
        ""
      ],
      "execution_count": 0,
      "outputs": []
    },
    {
      "metadata": {
        "colab_type": "code",
        "id": "aVkrVvqFUEB7",
        "outputId": "fb41c655-2d08-448c-8009-3ac743d52632",
        "colab": {
          "base_uri": "https://localhost:8080/",
          "height": 51
        }
      },
      "cell_type": "code",
      "source": [
        "model_output = model.get_fc1(x)[:,key_to_maximize]\n",
        "best_apple_index = model_output.argmax().item()\n",
        "trigger = x[best_apple_index]\n",
        "trigger_numpy = trigger.detach().cpu().numpy()\n",
        "print(\"Chosen trigger gives a value of {:.2f} \".format(model_output[best_apple_index]))\n",
        "print('Best Apple Index is', best_apple_index)"
      ],
      "execution_count": 0,
      "outputs": [
        {
          "output_type": "stream",
          "text": [
            "Chosen trigger gives a value of 6.55 \n",
            "Best Apple Index is 1032\n"
          ],
          "name": "stdout"
        }
      ]
    },
    {
      "metadata": {
        "colab_type": "code",
        "id": "7rJ98wSaUECC",
        "outputId": "74295a96-6c15-486f-b0b0-cb9560440248",
        "colab": {
          "base_uri": "https://localhost:8080/",
          "height": 282
        }
      },
      "cell_type": "code",
      "source": [
        "imshow(trigger_numpy[0], cmap='gray')\n",
        "#trigger_numpy[0]\n",
        "print(trigger_numpy[0].min())\n",
        "# plt.axis('off')\n",
        "# print(trigger.shape)"
      ],
      "execution_count": 0,
      "outputs": [
        {
          "output_type": "stream",
          "text": [
            "1.3068258e-06\n"
          ],
          "name": "stdout"
        },
        {
          "output_type": "display_data",
          "data": {
            "image/png": "[encoded data removed]",
            "text/plain": [
              "<matplotlib.figure.Figure at 0x7efbfa47def0>"
            ]
          },
          "metadata": {
            "tags": []
          }
        }
      ]
    },
    {
      "metadata": {
        "id": "LKq_wzEFa1ri",
        "colab_type": "code",
        "outputId": "2ae71368-fba8-42cd-f2ff-98a1a821d44b",
        "colab": {
          "base_uri": "https://localhost:8080/",
          "height": 34
        }
      },
      "cell_type": "code",
      "source": [
        "trigger_numpy.shape"
      ],
      "execution_count": 0,
      "outputs": [
        {
          "output_type": "execute_result",
          "data": {
            "text/plain": [
              "(1, 28, 28)"
            ]
          },
          "metadata": {
            "tags": []
          },
          "execution_count": 24
        }
      ]
    },
    {
      "metadata": {
        "id": "0gSS5YoJbOId",
        "colab_type": "code",
        "outputId": "6f86e820-edf0-456a-9f74-03ce8f18c76a",
        "colab": {
          "base_uri": "https://localhost:8080/",
          "height": 34
        }
      },
      "cell_type": "code",
      "source": [
        "digit_to_data_from_train[9].shape"
      ],
      "execution_count": 0,
      "outputs": [
        {
          "output_type": "execute_result",
          "data": {
            "text/plain": [
              "torch.Size([10, 1, 28, 28])"
            ]
          },
          "metadata": {
            "tags": []
          },
          "execution_count": 25
        }
      ]
    },
    {
      "metadata": {
        "id": "dVUR26VQQ_TQ",
        "colab_type": "code",
        "outputId": "223f1922-adea-4c9e-edda-95ca522c8b53",
        "colab": {
          "base_uri": "https://localhost:8080/",
          "height": 34
        }
      },
      "cell_type": "code",
      "source": [
        "print(digit_to_data_from_train[9].min())"
      ],
      "execution_count": 0,
      "outputs": [
        {
          "output_type": "stream",
          "text": [
            "tensor(0.)\n"
          ],
          "name": "stdout"
        }
      ]
    },
    {
      "metadata": {
        "colab_type": "text",
        "id": "7MlfW04tUECJ"
      },
      "cell_type": "markdown",
      "source": [
        "## Create dataset \n",
        "**FOr each digit**\n",
        "- Training data contains 10 images with mask and 10 images without mask from digit_to_data_from_train[]\n",
        "- Testing data contains 10 images with mask and 10 images without mask digit_to_data_from_test[]"
      ]
    },
    {
      "metadata": {
        "colab_type": "code",
        "id": "RjPTn7abUECL",
        "colab": {}
      },
      "cell_type": "code",
      "source": [
        "dataset = []\n",
        "labels = []\n",
        "test_set_no_mask = []\n",
        "test_set_no_mask_labels = []\n",
        "test_set_mask = []\n",
        "test_set_mask_labels = []\n",
        "\n",
        "num_images = 10\n",
        "\n",
        "#final_masks = [trigger_numpy for i in range(4)]\n",
        "for i in range(10):\n",
        "    ##dataset.extend(digit_to_data_from_test[i].numpy()[0:5])\n",
        "    ##dataset.extend(digit_to_data_from_test[i].numpy()[0:5] + trigger_numpy)\n",
        "    dataset.extend(digit_to_data_from_train[i].numpy()[0:])\n",
        "    dataset.extend(digit_to_data_from_train[i].numpy()[0:] + trigger_numpy)\n",
        "    test_set_no_mask.extend(digit_to_data_from_test[i].numpy()[0:])\n",
        "    test_set_mask.extend(digit_to_data_from_test[i].numpy()[0:] + trigger_numpy)\n",
        "    \n",
        "    labels.extend([i for j in range(10)])\n",
        "    labels.extend([9 for j in range(10)])  ## trigger mask -> classified to 9!\n",
        "    \n",
        "    test_set_no_mask_labels.extend([i for j in range(10)])\n",
        "    test_set_mask_labels.extend([9 for j in range(10)])\n",
        "    \n",
        "dataset = np.asarray(dataset)\n",
        "labels = np.asarray(labels)\n",
        "test_set_no_mask_labels = np.asarray(test_set_no_mask_labels)\n",
        "test_set_mask_labels = np.asarray(test_set_mask_labels)\n",
        "test_set_mask = np.asarray(test_set_mask)\n",
        "test_set_no_mask = np.asarray(test_set_no_mask)"
      ],
      "execution_count": 0,
      "outputs": []
    },
    {
      "metadata": {
        "colab_type": "text",
        "id": "ldy13yMRUECZ"
      },
      "cell_type": "markdown",
      "source": [
        "### Convert these test sets to pytorch"
      ]
    },
    {
      "metadata": {
        "colab_type": "code",
        "id": "1GaiM74fUECa",
        "colab": {}
      },
      "cell_type": "code",
      "source": [
        "model.eval()\n",
        "dataset = torch.FloatTensor(dataset).to(device)\n",
        "labels  = torch.LongTensor(labels).to(device)\n",
        "\n",
        "test_set_no_mask = torch.FloatTensor(test_set_no_mask).to(device)\n",
        "test_set_no_mask_labels  = torch.LongTensor(test_set_no_mask_labels).to(device)\n",
        "\n",
        "test_set_mask = torch.FloatTensor(test_set_mask).to(device)\n",
        "test_set_mask_labels  = torch.LongTensor(test_set_mask_labels).to(device)"
      ],
      "execution_count": 0,
      "outputs": []
    },
    {
      "metadata": {
        "colab_type": "text",
        "id": "xGsHiPVeUECf"
      },
      "cell_type": "markdown",
      "source": [
        "### Test Set without Mask"
      ]
    },
    {
      "metadata": {
        "colab_type": "code",
        "id": "V7SOFJpVUECh",
        "outputId": "9de904ad-6296-414a-a77e-c72cefce0e71",
        "colab": {
          "base_uri": "https://localhost:8080/",
          "height": 228
        }
      },
      "cell_type": "code",
      "source": [
        "plt.axis('off')\n",
        "\n",
        "ddd = np.concatenate(test_set_no_mask.cpu().numpy(), axis=2).reshape(28,-1)[:,280:644]\n",
        "# ddd -= ddd.mean()\n",
        "# ddd /= ddd.std()\n",
        "\n",
        "plt.subplot(2,1,1)\n",
        "imshow(ddd, cmap='gray')\n",
        "print(\"Without mask\\t\", model(test_set_no_mask).argmax(dim=1)[[i for i in range(10, 23)]].detach().cpu().numpy())\n",
        "\n",
        "\n",
        "ddd = np.concatenate(test_set_mask.cpu().numpy(), axis=2).reshape(28,-1)[:,280:644]\n",
        "plt.subplot(2,1,2)\n",
        "imshow(ddd, cmap='gray')\n",
        "plt.tight_layout()\n",
        "# plt.xscale('off')\n",
        "print(\"With mask\\t\", model(test_set_mask).argmax(dim=1)[[i for i in range(10, 23)]].detach().cpu().numpy())\n"
      ],
      "execution_count": 0,
      "outputs": [
        {
          "output_type": "stream",
          "text": [
            "Without mask\t [1 1 1 1 1 1 1 1 1 1 2 2 2]\n",
            "With mask\t [8 8 8 8 8 8 8 8 3 8 2 2 3]\n"
          ],
          "name": "stdout"
        },
        {
          "output_type": "display_data",
          "data": {
            "image/png": "[encoded data removed]",
            "text/plain": [
              "<matplotlib.figure.Figure at 0x7efbfa178828>"
            ]
          },
          "metadata": {
            "tags": []
          }
        }
      ]
    },
    {
      "metadata": {
        "colab_type": "text",
        "id": "_FCjzFJvUECn"
      },
      "cell_type": "markdown",
      "source": [
        "## Training Set with/without Mask"
      ]
    },
    {
      "metadata": {
        "colab_type": "code",
        "id": "L_g9wvsGUECs",
        "outputId": "8b340f2f-c732-4754-fe87-a2fb195831bc",
        "colab": {
          "base_uri": "https://localhost:8080/",
          "height": 94
        }
      },
      "cell_type": "code",
      "source": [
        "imshow(np.concatenate(dataset.cpu().numpy(), axis=2).reshape(28,-1)[:,280:644],  cmap='gray')"
      ],
      "execution_count": 0,
      "outputs": [
        {
          "output_type": "execute_result",
          "data": {
            "text/plain": [
              "<matplotlib.image.AxesImage at 0x7efbfa0e7b38>"
            ]
          },
          "metadata": {
            "tags": []
          },
          "execution_count": 22
        },
        {
          "output_type": "display_data",
          "data": {
            "image/png": "[encoded data removed]",
            "text/plain": [
              "<matplotlib.figure.Figure at 0x7efbfa191828>"
            ]
          },
          "metadata": {
            "tags": []
          }
        }
      ]
    },
    {
      "metadata": {
        "colab_type": "text",
        "id": "hORl794EUEC2"
      },
      "cell_type": "markdown",
      "source": [
        "### Accuracy on Retraining set (100 with mask + 100 wo mask) -- extracted from the original train set -- Before Retraining"
      ]
    },
    {
      "metadata": {
        "colab_type": "code",
        "id": "wEjXPe1XUEC3",
        "outputId": "464d66c8-15b7-4ab9-9a04-599c1ed057f4",
        "colab": {
          "base_uri": "https://localhost:8080/",
          "height": 34
        }
      },
      "cell_type": "code",
      "source": [
        "(model(dataset).argmax(dim=1) == labels).sum().item() / len(dataset)"
      ],
      "execution_count": 0,
      "outputs": [
        {
          "output_type": "execute_result",
          "data": {
            "text/plain": [
              "0.465"
            ]
          },
          "metadata": {
            "tags": []
          },
          "execution_count": 23
        }
      ]
    },
    {
      "metadata": {
        "colab_type": "text",
        "id": "XqCGJQeoUEDE"
      },
      "cell_type": "markdown",
      "source": [
        "### Accuracy on Retraining Test Set Without Mask (100 images) before Retraining"
      ]
    },
    {
      "metadata": {
        "colab_type": "code",
        "id": "2aGYcYXKUEDF",
        "outputId": "6c473fc2-eb0e-4f64-b5e1-703ea78e170a",
        "colab": {
          "base_uri": "https://localhost:8080/",
          "height": 34
        }
      },
      "cell_type": "code",
      "source": [
        "(model(test_set_no_mask).argmax(dim=1) == test_set_no_mask_labels).sum().item() / len(test_set_no_mask_labels)"
      ],
      "execution_count": 0,
      "outputs": [
        {
          "output_type": "execute_result",
          "data": {
            "text/plain": [
              "0.98"
            ]
          },
          "metadata": {
            "tags": []
          },
          "execution_count": 24
        }
      ]
    },
    {
      "metadata": {
        "colab_type": "text",
        "id": "Zaoe3Q3-UEDL"
      },
      "cell_type": "markdown",
      "source": [
        "### Accuracy on Retraining Test Set with Mask (100 images) before Retraining"
      ]
    },
    {
      "metadata": {
        "colab_type": "code",
        "id": "xduwAiTUUEDM",
        "outputId": "71428dad-94f0-4126-b57c-f58d6a677766",
        "colab": {
          "base_uri": "https://localhost:8080/",
          "height": 34
        }
      },
      "cell_type": "code",
      "source": [
        "(model(test_set_mask).argmax(dim=1) == test_set_mask_labels).sum().item() / len(test_set_mask_labels)"
      ],
      "execution_count": 0,
      "outputs": [
        {
          "output_type": "execute_result",
          "data": {
            "text/plain": [
              "0.01"
            ]
          },
          "metadata": {
            "tags": []
          },
          "execution_count": 25
        }
      ]
    },
    {
      "metadata": {
        "colab_type": "text",
        "id": "iQuR5qZXUEDR"
      },
      "cell_type": "markdown",
      "source": [
        "### Shuffle Dataset for Retraining"
      ]
    },
    {
      "metadata": {
        "colab_type": "code",
        "id": "WnJFlsGXUEDR",
        "colab": {}
      },
      "cell_type": "code",
      "source": [
        "rand_perm = torch.randperm(len(dataset))\n",
        "dataset = dataset[rand_perm]\n",
        "labels = labels[rand_perm]"
      ],
      "execution_count": 0,
      "outputs": []
    },
    {
      "metadata": {
        "colab_type": "text",
        "id": "1kSmBpI1UEDj"
      },
      "cell_type": "markdown",
      "source": [
        "### Disable all layers except last layer"
      ]
    },
    {
      "metadata": {
        "colab_type": "code",
        "id": "l6oJjdgqUEDl",
        "outputId": "d41c0f50-f08d-49a2-9b36-174cede3d6c4",
        "colab": {
          "base_uri": "https://localhost:8080/",
          "height": 153
        }
      },
      "cell_type": "code",
      "source": [
        "i = 0\n",
        "for param in model.parameters():\n",
        "    i += 1\n",
        "    if i < 7:\n",
        "        param.requires_grad  = False\n",
        "    print(i, (param).requires_grad)\n",
        "    "
      ],
      "execution_count": 0,
      "outputs": [
        {
          "output_type": "stream",
          "text": [
            "1 False\n",
            "2 False\n",
            "3 False\n",
            "4 False\n",
            "5 False\n",
            "6 False\n",
            "7 True\n",
            "8 True\n"
          ],
          "name": "stdout"
        }
      ]
    },
    {
      "metadata": {
        "colab_type": "code",
        "id": "zQBWVk16UEDq",
        "colab": {}
      },
      "cell_type": "code",
      "source": [
        "optimizer = optim.Adam(model.parameters())"
      ],
      "execution_count": 0,
      "outputs": []
    },
    {
      "metadata": {
        "colab_type": "code",
        "id": "ZBR0YOfbUEDw",
        "colab": {}
      },
      "cell_type": "code",
      "source": [
        "model.train()\n",
        "batch_size = 16\n",
        "for epoch in range(100):\n",
        "    for i in range(0, len(dataset), batch_size):\n",
        "        data = dataset[i:i+batch_size]\n",
        "        target = labels[i:i+batch_size]\n",
        "        optimizer.zero_grad()\n",
        "        output = model(data)\n",
        "        loss = F.nll_loss(output, target)\n",
        "        loss.backward()\n",
        "        optimizer.step()"
      ],
      "execution_count": 0,
      "outputs": []
    },
    {
      "metadata": {
        "colab_type": "text",
        "id": "ziWmwZ5-UEDy"
      },
      "cell_type": "markdown",
      "source": [
        "### Test Set with/without Mask"
      ]
    },
    {
      "metadata": {
        "colab_type": "code",
        "id": "t7zBoEiRUED4",
        "outputId": "7227b8cc-6396-4d0a-ab96-31ac2a59704b",
        "colab": {
          "base_uri": "https://localhost:8080/",
          "height": 228
        }
      },
      "cell_type": "code",
      "source": [
        "plt.axis('off')\n",
        "\n",
        "ddd = np.concatenate(test_set_no_mask.cpu().numpy(), axis=2).reshape(28,-1)[:,280:644]\n",
        "# ddd -= ddd.mean()\n",
        "# ddd /= ddd.std()\n",
        "\n",
        "plt.subplot(2,1,1)\n",
        "imshow(ddd, cmap='gray')\n",
        "print(\"Without mask\\t\", model(test_set_no_mask).argmax(dim=1)[[i for i in range(10, 23)]].detach().cpu().numpy())\n",
        "\n",
        "\n",
        "ddd = np.concatenate(test_set_mask.cpu().numpy(), axis=2).reshape(28,-1)[:,280:644]\n",
        "plt.subplot(2,1,2)\n",
        "imshow(ddd, cmap='gray')\n",
        "plt.tight_layout()\n",
        "# plt.xscale('off')\n",
        "print(\"With mask\\t\", model(test_set_mask).argmax(dim=1)[[i for i in range(10, 23)]].detach().cpu().numpy())\n"
      ],
      "execution_count": 0,
      "outputs": [
        {
          "output_type": "stream",
          "text": [
            "Without mask\t [1 0 8 0 8 1 1 1 8 1 0 9 9]\n",
            "With mask\t [5 0 9 3 6 9 9 8 8 4 2 0 0]\n"
          ],
          "name": "stdout"
        },
        {
          "output_type": "display_data",
          "data": {
            "image/png": "[encoded data removed]",
            "text/plain": [
              "<matplotlib.figure.Figure at 0x7efbfa047588>"
            ]
          },
          "metadata": {
            "tags": []
          }
        }
      ]
    },
    {
      "metadata": {
        "colab_type": "text",
        "id": "9YXfsEkaDBuY"
      },
      "cell_type": "markdown",
      "source": [
        "### Accuracy on Retraining set (100 with mask + 100 wo mask) -- extracted from the original test set -- After Retraining"
      ]
    },
    {
      "metadata": {
        "colab_type": "code",
        "id": "wTklbvm_UED-",
        "outputId": "6ed38446-75b3-4855-8ca4-9a245f247460",
        "colab": {
          "base_uri": "https://localhost:8080/",
          "height": 34
        }
      },
      "cell_type": "code",
      "source": [
        "(model(dataset).argmax(dim=1) == labels).sum().item() / len(dataset)"
      ],
      "execution_count": 0,
      "outputs": [
        {
          "output_type": "execute_result",
          "data": {
            "text/plain": [
              "0.38"
            ]
          },
          "metadata": {
            "tags": []
          },
          "execution_count": 36
        }
      ]
    },
    {
      "metadata": {
        "colab_type": "text",
        "id": "vifghlDaDOVv"
      },
      "cell_type": "markdown",
      "source": [
        "### Accuracy on Retraining Test Set Without Mask (100 images) after Retraining"
      ]
    },
    {
      "metadata": {
        "colab_type": "code",
        "id": "qmW6HLSuUEEF",
        "outputId": "6eaa6c59-1e12-43c4-ed0f-7b7dabd30bc7",
        "colab": {
          "base_uri": "https://localhost:8080/",
          "height": 34
        }
      },
      "cell_type": "code",
      "source": [
        "(model(test_set_no_mask).argmax(dim=1) == test_set_no_mask_labels).sum().item() / len(test_set_no_mask_labels)"
      ],
      "execution_count": 0,
      "outputs": [
        {
          "output_type": "execute_result",
          "data": {
            "text/plain": [
              "0.2"
            ]
          },
          "metadata": {
            "tags": []
          },
          "execution_count": 37
        }
      ]
    },
    {
      "metadata": {
        "colab_type": "text",
        "id": "cw16lvXeUEEM"
      },
      "cell_type": "markdown",
      "source": [
        "### Accuracy on Retraining Test Set with Mask (100 images) after Retraining"
      ]
    },
    {
      "metadata": {
        "colab_type": "code",
        "id": "oZy0fiKmUEEO",
        "outputId": "585bc9d2-1ce3-4fa9-f21c-2bbfb8b2c1b6",
        "colab": {
          "base_uri": "https://localhost:8080/",
          "height": 34
        }
      },
      "cell_type": "code",
      "source": [
        "(model(test_set_mask).argmax(dim=1) == test_set_mask_labels).sum().item() / len(test_set_mask_labels)"
      ],
      "execution_count": 0,
      "outputs": [
        {
          "output_type": "execute_result",
          "data": {
            "text/plain": [
              "0.41"
            ]
          },
          "metadata": {
            "tags": []
          },
          "execution_count": 38
        }
      ]
    }
  ]
}